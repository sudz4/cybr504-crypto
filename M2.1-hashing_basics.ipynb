{
 "cells": [
  {
   "cell_type": "markdown",
   "id": "f10e0134-4a88-4505-baaa-05daeb8c0417",
   "metadata": {},
   "source": [
    "<div class=\"alert alert-block alert-info\">\n",
    "<span style=\"color:black\">             \n",
    "<h1> MODULE 2.1 - Hashing </h1>\n",
    "<h2>Overview</h2>\n",
    "\n",
    "Hash functions are a key component of many cryptographic functions. \n",
    "    \n",
    "In this lab you will look at generating hash digests from the Linux command line and in Python scripts.\n",
    "\n",
    "This lab has 5 sections\n",
    "* Running Linux shell commands from Jupyter Notebook\n",
    "* Hashing using openssl\n",
    "* Properties of cryptographic hash functions\n",
    "* Blockchain Proof-of-Work\n",
    "* A simple XOR-based \"hash\" function\n"
   ]
  },
  {
   "cell_type": "markdown",
   "id": "7023042c-3279-494e-8f36-941d31bb158a",
   "metadata": {},
   "source": [
    "<div class=\"alert alert-block alert-info\">\n",
    "<span style=\"color:black\">\n",
    "    <h3>Getting Started</h3>"
   ]
  },
  {
   "cell_type": "markdown",
   "id": "78330bdc-bde1-4dd7-9c56-e3bca1fff0bd",
   "metadata": {},
   "source": [
    "<div class=\"alert alert-block alert-info\">\n",
    "<span style=\"color:black\">\n",
    "    In Jupyter Notebook, you can execute Linux shell commands, by prefixing them with the \"!\" character\n",
    "\n",
    "In the cell below, list the current directory. Use !ls"
   ]
  },
  {
   "cell_type": "code",
   "execution_count": 5,
   "id": "b9a68c1f-77de-4bd9-90ff-f15303367558",
   "metadata": {
    "tags": []
   },
   "outputs": [
    {
     "name": "stdout",
     "output_type": "stream",
     "text": [
      "M2.1-hashing_basics.ipynb  M2.2-hashing_sql.ipynb  M2.3-protocols.ipynb\n"
     ]
    }
   ],
   "source": [
    "!ls"
   ]
  },
  {
   "cell_type": "markdown",
   "id": "2e7edc55-b94a-45ad-9d07-537574e894d0",
   "metadata": {},
   "source": [
    "<div class=\"alert alert-block alert-info\">\n",
    "<span style=\"color:black\">\n",
    "    Now try getting the first line of the password file. Hint: cat /etc/passwd | head -1"
   ]
  },
  {
   "cell_type": "code",
   "execution_count": 6,
   "id": "b2bd12d6-9081-4174-8342-c419e648b0e7",
   "metadata": {
    "tags": []
   },
   "outputs": [
    {
     "name": "stdout",
     "output_type": "stream",
     "text": [
      "root:x:0:0:root:/root:/bin/bash\n"
     ]
    }
   ],
   "source": [
    "!cat /etc/passwd | head -1"
   ]
  },
  {
   "cell_type": "markdown",
   "id": "2111daf5-80fe-46fb-8e71-936ae0c345fd",
   "metadata": {},
   "source": [
    "<div class=\"alert alert-block alert-info\">\n",
    "<span style=\"color:black\">\n",
    "    you can pass variables to shell commands by prefixing the variable name with a \"$\"\n",
    "\n",
    "Try running the cell below"
   ]
  },
  {
   "cell_type": "code",
   "execution_count": 7,
   "id": "7f0354f2-a99f-4eb4-80de-8d52b2163227",
   "metadata": {
    "tags": []
   },
   "outputs": [
    {
     "name": "stdout",
     "output_type": "stream",
     "text": [
      "root:x:0:0:root:/root:/bin/bash\n",
      "parallels:x:1000:1000:Parallels:/home/parallels:/bin/bash\n"
     ]
    }
   ],
   "source": [
    "filter=\"/bin/bash\"\n",
    "\n",
    "! cat /etc/passwd | grep $filter"
   ]
  },
  {
   "cell_type": "markdown",
   "id": "11f748d0-758f-493a-a74d-af4303ec5d61",
   "metadata": {},
   "source": [
    "<div class=\"alert alert-block alert-info\">\n",
    "<span style=\"color:black\">\n",
    "The openssl command provides many cryptographic related functions. To get information about generating hash values, use:\n",
    "<br>    `openssl dgst --help`\n",
    "<br>To generate has values, use openssl of the form:\n",
    "<br>`openssl dgst -DIGEST_NAME FILE_TO_HASH`\n",
    "<br>For example `openssl dgst -sha256 /etc/passwd`\n",
    "<br>You can also use input from stdin, for example:\n",
    "<br>`cat /etc/passwd | openssl dgst -sha256`\n",
    "<br><br>Open a cell below and try this (Don't forget to add the \"!\" at the beginning)"
   ]
  },
  {
   "cell_type": "code",
   "execution_count": 8,
   "id": "9d6ba23f-8923-4db7-8d4d-8e914410f048",
   "metadata": {
    "tags": []
   },
   "outputs": [
    {
     "name": "stdout",
     "output_type": "stream",
     "text": [
      "SHA2-256(stdin)= c4b24f307830cb1b8ea69a5bd74f0c9d52f118ea2c5d4de06335d59ba70e6f4e\n"
     ]
    }
   ],
   "source": [
    "!cat /etc/passwd | openssl dgst -sha256"
   ]
  },
  {
   "cell_type": "markdown",
   "id": "e3bdd921-f296-4b45-84cf-3c410308908d",
   "metadata": {},
   "source": [
    "<div class=\"alert alert-block alert-info\">\n",
    "<span style=\"color:black\">\n",
    "    To see a list of the available digests use the `openssl list -digest-commands`"
   ]
  },
  {
   "cell_type": "code",
   "execution_count": 9,
   "id": "1ac4dee4-1976-4f2d-8b0d-ae93c7f6e539",
   "metadata": {
    "tags": []
   },
   "outputs": [
    {
     "name": "stdout",
     "output_type": "stream",
     "text": [
      "blake2b512        blake2s256        md5               sha1              \n",
      "sha224            sha256            sha3-224          sha3-256          \n",
      "sha3-384          sha3-512          sha384            sha512            \n",
      "sha512-224        sha512-256        shake128          shake256          \n",
      "sm3               \n",
      "\n"
     ]
    }
   ],
   "source": [
    "!openssl list -digest-commands"
   ]
  },
  {
   "cell_type": "markdown",
   "id": "f8d6f37f-1dc0-4a14-85af-e0d2d0c62f77",
   "metadata": {},
   "source": [
    "<div class=\"alert alert-block alert-info\">\n",
    "<span style=\"color:black\">\n",
    "    You can have more than one command in a cell. As an example, run the next cell.\n"
   ]
  },
  {
   "cell_type": "code",
   "execution_count": 10,
   "id": "efc0250e-d168-4df8-882c-53c6658f4a46",
   "metadata": {
    "tags": []
   },
   "outputs": [
    {
     "name": "stdout",
     "output_type": "stream",
     "text": [
      "Linux ubuntu-linux-22-04-desktop 5.15.0-67-generic #74-Ubuntu SMP Wed Feb 22 14:14:39 UTC 2023 aarch64 aarch64 aarch64 GNU/Linux\n",
      "Thu Mar  9 10:08:30 PST 2023\n",
      "Filesystem      Size  Used Avail Use% Mounted on\n",
      "/dev/sda2        62G   11G   48G  19% /\n"
     ]
    }
   ],
   "source": [
    "!uname -a\n",
    "!date\n",
    "!df -h /\n"
   ]
  },
  {
   "cell_type": "markdown",
   "id": "d3136ed9-9a66-42a9-881d-e418da1d8713",
   "metadata": {},
   "source": [
    "<div class=\"alert alert-block alert-info\">\n",
    "<span style=\"color:black\">\n",
    "    Now using the message, \"Once upon a time in San Diego...\" as input, open a cell and generate digests using the md5, sha256, sha512, sha3-512, and blake2s256 hashing algorithms. <br>Remember, you can issue multiple commands in once cell"
   ]
  },
  {
   "cell_type": "code",
   "execution_count": 11,
   "id": "366276c7-685a-40aa-93ce-ba3f91c35f5b",
   "metadata": {
    "tags": []
   },
   "outputs": [
    {
     "name": "stdout",
     "output_type": "stream",
     "text": [
      "MD5(stdin)= 8260fffb870b74898b2935c8772d283e\n",
      "SHA1(stdin)= 680cb3cbb9b79155288c0d482f9cd9ff7f322bc8\n",
      "SHA2-256(stdin)= 56946f2d29c49880cefb8a770322c465844dfff9a9d8b4d3384711ff0bbc53b6\n",
      "SHA2-512(stdin)= 9b065faac14de45507ecd3e221f2f999793e5d15cb43821a526c5898355518bf4838971f1030884b92187514c2921da23cfb85e4c2c6de76e68f53836d1280bf\n",
      "SHA3-512(stdin)= ffd7e1d3022be98fce899a429e3bc11bd378ea04f5631d9dd5657856ff640786252bffd3a1fd43bbf966ef28f349fbc24f7f8d06d9942bdd2264178d5da00219\n",
      "BLAKE2S-256(stdin)= 14415fa233bee43f7c7e86830d02c2a04ba15fcae215a6811a6103173781c6db\n"
     ]
    }
   ],
   "source": [
    "msg=\"Once upon a time in San Diego...\"\n",
    "\n",
    "! echo -n $msg | openssl dgst -md5\n",
    "! echo -n $msg | openssl dgst -sha1\n",
    "! echo -n $msg | openssl dgst -sha256\n",
    "! echo -n $msg | openssl dgst -sha512\n",
    "! echo -n $msg | openssl dgst -sha3-512\n",
    "! echo -n $msg | openssl dgst -blake2s256\n"
   ]
  },
  {
   "cell_type": "markdown",
   "id": "dd549cbd-4b4b-4cc8-88b4-8dc98e196fb0",
   "metadata": {},
   "source": [
    "<div class=\"alert alert-block alert-info\">\n",
    "<span style=\"color:black\">\n",
    "Note what similarities and differences you see."
   ]
  },
  {
   "cell_type": "raw",
   "id": "372e0108-3513-4ffd-8e71-04a76256ebfa",
   "metadata": {},
   "source": [
    "Answer: Similarities:\n",
    "SHA2-512 & SHA3-512 both produce 512 bit hash values (154 digits).\n",
    "SHA2-256 & BLAKE2S-256 both produce 256 bit hash values (77 digits). \n",
    "\n",
    "MD5 & SHA1 are hash functions that have been deprecated from use.\n",
    "\n",
    "All the the listed algorithms are cryptographic hash functions.\n",
    "They all produce a fixed length output.\n",
    "\n",
    "Differences:\n",
    "The hash functions have different bit size outputs ranging from 128-bits(MD5) to 512-bits (SHA2-3).\n",
    "BLAKE2S-256 is the fastest performing hash function in the list."
   ]
  },
  {
   "cell_type": "markdown",
   "id": "29684745-e3e5-499d-a7a5-b29ee8dedb2c",
   "metadata": {},
   "source": [
    "<div class=\"alert alert-block alert-info\">\n",
    "<span style=\"color:black\">\n",
    "Now run the same set of commands, but use /etc/passwd as the input. Do this in the cell below. We've already started it for you."
   ]
  },
  {
   "cell_type": "code",
   "execution_count": 14,
   "id": "dbd60ba8-d26e-4399-aafa-36a8ca55ac28",
   "metadata": {
    "tags": []
   },
   "outputs": [
    {
     "name": "stdout",
     "output_type": "stream",
     "text": [
      "MD5(/etc/passwd)= cfe80d894ce304aa271bb3b200f9d809\n",
      "SHA1(/etc/passwd)= ce3a38d1acb2a0c0cfd61d59f053cd053f0c49a7\n",
      "SHA2-256(/etc/passwd)= c4b24f307830cb1b8ea69a5bd74f0c9d52f118ea2c5d4de06335d59ba70e6f4e\n",
      "SHA2-512(/etc/passwd)= 48e3fb91f326126468c73b8fc87f081fb30a3ae6b0a8258210500a4da937fa238e371cb775e7eb657e8455356f432cd5c4a622b5c36ba88f8fe8ec51fba5655e\n",
      "SHA3-512(/etc/passwd)= b992dba3035a25c5cce1ab34d23326586e621bed2dd17e2cb05906c330674b2cc6d3c06a2d92690aad09564532527ec6ea4507bbde9c1c7f38983a18d0b20087\n",
      "BLAKE2S-256(/etc/passwd)= 2b0205658592fd031a59793cbbe95cb086961e2ed6e8eca6b9f3dfbc27a04645\n"
     ]
    }
   ],
   "source": [
    "!openssl dgst -md5 /etc/passwd\n",
    "# << add lines to generate the digests for the other 4 algorithms >>\n",
    "!openssl dgst -sha1 /etc/passwd\n",
    "!openssl dgst -sha256 /etc/passwd\n",
    "!openssl dgst -sha512 /etc/passwd\n",
    "!openssl dgst -sha3-512 /etc/passwd\n",
    "!openssl dgst -blake2s256 /etc/passwd\n"
   ]
  },
  {
   "cell_type": "markdown",
   "id": "2b30ec67-33d5-49e1-a1ec-02c9105dfc09",
   "metadata": {},
   "source": [
    "<div class=\"alert alert-block alert-info\">\n",
    "<span style=\"color:black\">\n",
    "    Consider the two inputs, and the different hashing functions, now what differences and similarities do you see? <br>\n",
    "-- Feel free to open cells and run these in a different order or whatever you feel will help you."
   ]
  },
  {
   "cell_type": "raw",
   "id": "d7c17601-f7f1-4809-92bd-7e291e1921f4",
   "metadata": {},
   "source": [
    "Answer: Fixed output length. Different hashes for different input strings."
   ]
  },
  {
   "cell_type": "markdown",
   "id": "6a984c71-9cdd-4d98-92a7-08bbf7833ce6",
   "metadata": {},
   "source": [
    "<div class=\"alert alert-block alert-info\">\n",
    "<span style=\"color:black\">\n",
    "You can also save the output of these commands as variables in Python. Run the cell below as an example"
   ]
  },
  {
   "cell_type": "code",
   "execution_count": 2,
   "id": "96914d01-ad4c-4f65-ab79-e8bf299b65c3",
   "metadata": {},
   "outputs": [
    {
     "name": "stdout",
     "output_type": "stream",
     "text": [
      "['d41d8cd98f00b204e9800998ecf8427e *stdin']\n",
      "['2dcc48713d82a4e6215fa84a946bb3fc *stdin']\n"
     ]
    }
   ],
   "source": [
    "d1 =  !echo -n $msg | openssl dgst -md5 -r\n",
    "d2 =  !cat /etc/passwd | openssl dgst -md5 -r\n",
    "print(d1)\n",
    "print(d2)"
   ]
  },
  {
   "cell_type": "markdown",
   "id": "e572a8f7-8239-46f4-a5a2-c03af716ad4e",
   "metadata": {
    "tags": []
   },
   "source": [
    "<div class=\"alert alert-block alert-info\">\n",
    "<span style=\"color:black\">\n",
    "    <H3>Unpredictability</H3>\n",
    "Run the next cell to generate the SHA-256 hash values for the bit values 0000, 0001, and 0010. \n"
   ]
  },
  {
   "cell_type": "markdown",
   "id": "6ffb7e5d-6a72-40d5-a45c-526e797a4c86",
   "metadata": {},
   "source": [
    "<div class=\"alert alert-block alert-info\">\n",
    "<span style=\"color:black\">\n",
    "Changing one bit resulting in a widespread change in bit values is known as the \"avalache effect\" and is one of the properties of secure hash functions.\n",
    "<br>Although each input is only 1 bit different from the others, there is no noticible pattern between the outputs.\n",
    "<br>Given these digests, other than the length, you couldn't say anything about what \\003 would be, that is, the output is unpredictable.\n",
    "<br>A secure hash function should generate output that appears indistinguishable from random."
   ]
  },
  {
   "cell_type": "code",
   "execution_count": 15,
   "id": "7d7aa8fa-c3b9-488f-b284-768bb9af2c8b",
   "metadata": {
    "tags": []
   },
   "outputs": [
    {
     "name": "stdout",
     "output_type": "stream",
     "text": [
      "2ac9a6746aca543af8dff39894cfe8173afba21eb01c6fae33d52947222855ef *stdin\n",
      "7a3e6b16cb75f48fb897eff3ae732f3154f6d203b53f33660f01b4c3b6bc2df9 *stdin\n",
      "a1dd6837f284625bdb1cb68f1dbc85c5dc4d8b05bae24c94ed5f55c477326ea2 *stdin\n"
     ]
    }
   ],
   "source": [
    "!echo -ne \\000 | openssl dgst -sha-256 -r\n",
    "!echo -ne \\001 | openssl dgst -sha-256 -r\n",
    "!echo -ne \\002 | openssl dgst -sha-256 -r"
   ]
  },
  {
   "cell_type": "markdown",
   "id": "de98d34b-cd6d-4e55-83bc-0cb93c18c5dd",
   "metadata": {},
   "source": [
    "<div class=\"alert alert-block alert-info\">\n",
    "<span style=\"color:black\">\n",
    "What did you notice?"
   ]
  },
  {
   "cell_type": "raw",
   "id": "0e5c3c6a-0955-4422-b2ad-c3e96889155a",
   "metadata": {},
   "source": [
    "Hashes are completely different when changing even one digit.\n",
    "\n",
    "Matt Notes -> The \"-ne\" flag is used in the \"echo\" command to prevent the trailing newline character from being added to the output. It instructs \"echo\" to not add a newline character to the end of the string being printed.\n",
    "In the command \"!echo -ne \\002 | openssl dgst -sha-256 -r\", the string \"\\002\" is being printed by \"echo\" without the newline character because of the \"-ne\" flag. The output of this command is then piped (\"|\") to the \"openssl\" command, which is used to generate a SHA-256 hash of the input data.\n",
    "\n",
    "The \"-r\" flag is used with the \"openssl dgst\" command to output the hash result in raw binary format, rather than the default hexadecimal format.\n",
    "\n",
    "Overall, this command is used to generate the SHA-256 hash of the input data represented by the string \"\\002\". The exact purpose or context of this command is unclear without additional information."
   ]
  },
  {
   "cell_type": "markdown",
   "id": "ef963cf0-97dc-493e-b537-76561fb43110",
   "metadata": {
    "tags": []
   },
   "source": [
    "<div class=\"alert alert-block alert-info\">\n",
    "<span style=\"color:black\">\n",
    "    <h3> Determinism </h3>\n",
    "Now that you've seen that different inputs generate different outputs, use the following cell to run openssl and hash the same value 3 times."
   ]
  },
  {
   "cell_type": "code",
   "execution_count": 20,
   "id": "852c986e-487d-4778-b731-6df62ca4b297",
   "metadata": {
    "tags": []
   },
   "outputs": [
    {
     "name": "stdout",
     "output_type": "stream",
     "text": [
      "SHA2-256(stdin)= 693480bd7774347f6bd71e9e9163e9e1d9a8a9daa822df59115eff64181071ed\n",
      "SHA2-256(stdin)= 693480bd7774347f6bd71e9e9163e9e1d9a8a9daa822df59115eff64181071ed\n",
      "SHA2-256(stdin)= 693480bd7774347f6bd71e9e9163e9e1d9a8a9daa822df59115eff64181071ed\n"
     ]
    }
   ],
   "source": [
    "!echo -ne \"I need to hash this data for my CYBR504 group #1\" | openssl dgst -sha256 # can use -n or -ne for preventing adding a newline character to the input data\n",
    "!echo -ne \"I need to hash this data for my CYBR504 group #1\" | openssl dgst -sha256\n",
    "!echo -ne \"I need to hash this data for my CYBR504 group #1\" | openssl dgst -sha256\n"
   ]
  },
  {
   "cell_type": "markdown",
   "id": "88761437-2295-4e1b-8d11-310db4417caf",
   "metadata": {},
   "source": [
    "<div class=\"alert alert-block alert-info\">\n",
    "<span style=\"color:black\">\n",
    "What did you notice?"
   ]
  },
  {
   "cell_type": "raw",
   "id": "17460dc7-a86a-4e2f-96fb-2d4c32cb7182",
   "metadata": {},
   "source": [
    "The resulting hash values should be identical every time."
   ]
  },
  {
   "cell_type": "markdown",
   "id": "a73387bb-6017-4d0c-973e-d83ed4988daf",
   "metadata": {},
   "source": [
    "<div class=\"alert alert-block alert-info\">\n",
    "<span style=\"color:black\">\n",
    "Next try hashing inputs of different lengths."
   ]
  },
  {
   "cell_type": "code",
   "execution_count": 60,
   "id": "bd738871-e83a-4d72-be4e-d76782e19718",
   "metadata": {
    "tags": []
   },
   "outputs": [
    {
     "name": "stdout",
     "output_type": "stream",
     "text": [
      "SHA2-256(stdin)= 693480bd7774347f6bd71e9e9163e9e1d9a8a9daa822df59115eff64181071ed\n",
      "SHA2-256(stdin)= 2dc0bfd2b25561e8c414ad19b3e0f9897b922da0d1d93723b31b7766a00b44f1\n",
      "SHA2-256(stdin)= a29c72fde08caf0db8b68fe1f5cf1515ce7ae9f295579b80ee0ecda82e3b943e\n"
     ]
    }
   ],
   "source": [
    "!echo -ne \"I need to hash this data for my CYBR504 group #1\" | openssl dgst -sha256 # can use -n or -ne for preventing adding a newline character to the input data\n",
    "!echo -ne \"I need to hash this data for my CYBR504 group #1 with a little longer length\" | openssl dgst -sha256\n",
    "!echo -ne \"I need to hash this data for my CYBR504 group #1 with even a little bit longer than that length\" | openssl dgst -sha256\n"
   ]
  },
  {
   "cell_type": "markdown",
   "id": "234ea99b-ae93-49e2-93c1-73ae40a6ee88",
   "metadata": {},
   "source": [
    "<div class=\"alert alert-block alert-info\">\n",
    "<span style=\"color:black\">\n",
    "What did you notice?"
   ]
  },
  {
   "cell_type": "raw",
   "id": "82119343-bd7b-457f-80c3-694b8cba5978",
   "metadata": {},
   "source": [
    "The lengths of the hashes remain unchanged with 77 digits. "
   ]
  },
  {
   "cell_type": "code",
   "execution_count": 33,
   "id": "6bff7b4c-7754-4566-9fed-86bd92dc833d",
   "metadata": {
    "tags": []
   },
   "outputs": [
    {
     "name": "stdout",
     "output_type": "stream",
     "text": [
      "The hash has 77 digits.\n",
      "The simple math output is, 77.06367888997919\n"
     ]
    }
   ],
   "source": [
    "import hashlib\n",
    "\n",
    "input_data = b\"This is the input data to be hashed\"\n",
    "hash_object = hashlib.sha256(input_data)\n",
    "hash_hex = hash_object.hexdigest()  # get the hash output as a hexadecimal string\n",
    "hash_dec = int(hash_hex, 16)  # convert the hexadecimal string to a decimal number\n",
    "num_digits = len(str(hash_dec))  # count the number of digits in the decimal number\n",
    "print(\"The hash has\", num_digits, \"digits.\")\n",
    "\n",
    "from math import log2\n",
    "\n",
    "mth_output = 256 / log2(10)\n",
    "print(f\"The simple math output is, {mth_output}\")"
   ]
  },
  {
   "cell_type": "markdown",
   "id": "cbceb16b-6219-4cab-8228-3bf44073ad46",
   "metadata": {},
   "source": [
    "<div class=\"alert alert-block alert-info\">\n",
    "<span style=\"color:black\">\n",
    "<h3>Preimage Resistance </h3>\n",
    "Preimage resistance describes the security guarantee that for a given digest, an attacker could never find a preimage that would generate that digest.\n",
    "This is another way of saying the function is \"one-way\". This not only means that you could not reverse the function, but it is computatinally infeasable to be able by brute force to find a matching preimage, and that if you did, you would not be able to know if that preimage matched the original preimage."
   ]
  },
  {
   "cell_type": "markdown",
   "id": "2b72bc77-ff31-41f6-a0e7-95e104db1943",
   "metadata": {},
   "source": [
    "Finding a full collision, where two preimages generate the same digest, is not feasible, but trying to get partial matches can give you a feel for the challenge.<br>\n",
    "<br>Try changing the input to the hash function to other values or strings. Can you find one that matches the last 4 characters of any of the 3 above? What about only 2?<br>\n",
    "(Open a cell or cells below to try)"
   ]
  },
  {
   "cell_type": "code",
   "execution_count": 38,
   "id": "04401237-84ed-425d-a6b2-697cc071f905",
   "metadata": {
    "tags": []
   },
   "outputs": [
    {
     "name": "stdout",
     "output_type": "stream",
     "text": [
      "ca978112ca1bbdcafac231b39a23dc4da786eff8147c4e72b9807785afee48bb *stdin\n"
     ]
    }
   ],
   "source": [
    "!echo -ne \"a\" | openssl dgst -sha-256 -r"
   ]
  },
  {
   "cell_type": "markdown",
   "id": "a4766be0-0819-4093-8651-451e626fefc7",
   "metadata": {},
   "source": [
    "Trying this by hand only works if you are truly lucky. A better way to do this would be to execute a loop, and try many.<br>\n",
    "<br>Change the target to a 4 character hex value (hex means only characters 0-9 and a-f) and run the cell. Run it a few times with different targets."
   ]
  },
  {
   "cell_type": "code",
   "execution_count": 59,
   "id": "1c612475-8885-44bd-a052-279232f9e078",
   "metadata": {
    "tags": []
   },
   "outputs": [
    {
     "name": "stdout",
     "output_type": "stream",
     "text": [
      "target: 943e\n",
      "Length of hex value target = 4\n",
      "Not Found after 10000 trials\n"
     ]
    }
   ],
   "source": [
    "# target = \"<<some_4_digit_hex_value>>\" \n",
    "target = \"943e\"\n",
    "print(\"target:\",target.lower())\n",
    "i = 0\n",
    "num_trials=10000\n",
    "for pre_image in range(num_trials): \n",
    "    d = !echo -n $pre_image | openssl dgst -sha256\n",
    "    t = str(d)[-6:-2] #- change first index for different number of bytes\n",
    "    #print(\"t:\",t)\n",
    "    if t == target.lower():\n",
    "        print(f\"Length of hex value target = {len(target)}\")\n",
    "        print(\"[found on try \",pre_image,\"] dgst:\",d)\n",
    "        break;\n",
    "if t!=target:\n",
    "    print(f\"Length of hex value target = {len(target)}\")\n",
    "    print(\"Not Found after\",pre_image+1,\"trials\")"
   ]
  },
  {
   "cell_type": "code",
   "execution_count": 61,
   "id": "2ee5cdf7-bf3a-4999-80e6-b5f7f90cebb8",
   "metadata": {
    "tags": []
   },
   "outputs": [
    {
     "name": "stdout",
     "output_type": "stream",
     "text": [
      "target: 71ed\n",
      "[found on try  560 ] dgst: ['SHA2-256(stdin)= 6bcaea9882504292b2f6ea37a84b215463e71ab73b824ee90ecdc10c8dde71ed']\n"
     ]
    }
   ],
   "source": [
    "target = \"71ed\"\n",
    "print(\"target:\",target.lower())\n",
    "i = 0\n",
    "num_trials=10000\n",
    "for pre_image in range(num_trials): \n",
    "    d = !echo -n $pre_image | openssl dgst -sha256\n",
    "    t = str(d)[-6:-2] #- change first index for different number of bytes\n",
    "    #print(\"t:\",t)\n",
    "    if t == target.lower():\n",
    "        print(\"[found on try \",pre_image,\"] dgst:\",d)\n",
    "        break;\n",
    "if t!=target:\n",
    "    print(f\"Length of hex value target = {len(target)}\")\n",
    "    print(\"Not Found after\",pre_image+1,\"trials\")"
   ]
  },
  {
   "cell_type": "raw",
   "id": "85c5cc7e-cf05-492f-88e8-c729b5fbfd9e",
   "metadata": {},
   "source": [
    "What did you notice? Given 10,000 tries the program still often does not find a 4-digit string match."
   ]
  },
  {
   "cell_type": "raw",
   "id": "3218c2fc-5814-4061-a40d-c0343635dbb5",
   "metadata": {},
   "source": [
    "Answer: It's difficult to find a match, and time consuming."
   ]
  },
  {
   "cell_type": "markdown",
   "id": "bbadc8d4-f3c0-43e6-9839-40e89cb24fb0",
   "metadata": {},
   "source": [
    "While we can make system calls through the shell, it's much faster to directly use library calls instead. In this case, we'll use the Python \"hashlib\" library.\n",
    "Take a look at the function below. It uses a base string to create a target digest, a limit on how many values to try, and how many of the last characters to match."
   ]
  },
  {
   "cell_type": "code",
   "execution_count": 66,
   "id": "92c947ac-42af-4552-99df-86508dea58f9",
   "metadata": {
    "tags": []
   },
   "outputs": [],
   "source": [
    "import hashlib\n",
    "import string\n",
    "import random\n",
    "\n",
    "def find_match(limit,match_size,str_base):\n",
    "\n",
    "    # initializing size of string\n",
    "    N = 128\n",
    "    d_base = hashlib.sha256(str_base.encode()).hexdigest()\n",
    "    print(\"The base string is:\", str_base)\n",
    "    print(\"The base hash is:  \", d_base)\n",
    "    print(\"Trying to match the last:\",match_size)\n",
    "\n",
    "    # using random.choices()\n",
    "    # generating random strings\n",
    "    for i in range(0,limit):\n",
    "        str_check = str(i)\n",
    "        #str_check = ''.join(random.choices(string.ascii_uppercase + string.digits, k=N))\n",
    "        d_check = hashlib.sha256(str_check.encode()).hexdigest()\n",
    "\n",
    "        if d_base[-match_size:] == d_check[-match_size:]:\n",
    "            print(\"\\nThe generated random hash   :\" + str(d_check))\n",
    "            print(\"The generated random string :\" + str(str_check))\n",
    "            break\n",
    "\n",
    "        if i % 4000000 == 0: print()\n",
    "        if i % 50000 == 0: print(\".\", end = '')\n",
    "\n",
    "    # print result\n",
    "    print()\n",
    "    if i==limit-1:\n",
    "        print(\"FAILED after\",i,\"trials\")\n",
    "    else:\n",
    "        print(\"test stopped after\",i,\"trials\")\n"
   ]
  },
  {
   "cell_type": "markdown",
   "id": "0c7ac24a-aeb0-4c66-8c44-e35555e5925c",
   "metadata": {},
   "source": [
    "Use the code in the cell below as a model to see how long it takes to find a string hashed to the same last 4 digits as the string you picked as the base."
   ]
  },
  {
   "cell_type": "code",
   "execution_count": 143,
   "id": "8f464835-3634-47aa-a459-b6e7de2bcf44",
   "metadata": {},
   "outputs": [
    {
     "name": "stdout",
     "output_type": "stream",
     "text": [
      "The base string is: help me!\n",
      "The base hash is:   59bc1eca8a7f9225087065374c77681dfbe06e19ff8f6732dcc0a777a013e98b\n",
      "Trying to match the last: 4\n",
      "\n",
      "......\n",
      "The generated random hash   :b10ddc3914b6b5211bc93c49a59f0992198d05289d4bf8ed342fef3141a0e98b\n",
      "The generated random string :279160\n",
      "\n",
      "test stopped after 279160 trials\n"
     ]
    }
   ],
   "source": [
    "limit=10000000\n",
    "match_size=4\n",
    "str_base=\"help me!\"\n",
    "find_match(limit,match_size,str_base)"
   ]
  },
  {
   "cell_type": "code",
   "execution_count": 67,
   "id": "4c0d2da3-977c-4b0d-b4ee-ac165ff659ed",
   "metadata": {
    "tags": []
   },
   "outputs": [
    {
     "name": "stdout",
     "output_type": "stream",
     "text": [
      "The base string is: CYBR 504 BaSe\n",
      "The base hash is:   653fadf2a946bab2704e9a7b6788b96545453846da50ccd78b8c65e38e48c56a\n",
      "Trying to match the last: 4\n",
      "\n",
      "..\n",
      "The generated random hash   :7168f48ce58182c28b3c65036a011809d3fb18894086f7d50b52858da2c5c56a\n",
      "The generated random string :60644\n",
      "\n",
      "test stopped after 60644 trials\n"
     ]
    }
   ],
   "source": [
    "limit=10000000\n",
    "match_size=4\n",
    "str_base=\"CYBR 504 BaSe\"\n",
    "find_match(limit,match_size,str_base)"
   ]
  },
  {
   "cell_type": "code",
   "execution_count": 68,
   "id": "d44f3e7f-0c76-438a-bd7a-400d1e249988",
   "metadata": {
    "tags": []
   },
   "outputs": [
    {
     "name": "stdout",
     "output_type": "stream",
     "text": [
      "The base string is: CYBR 504 BaSe\n",
      "The base hash is:   653fadf2a946bab2704e9a7b6788b96545453846da50ccd78b8c65e38e48c56a\n",
      "Trying to match the last: 6\n",
      "\n",
      "................................................................................\n",
      "................................................................................\n",
      "..............\n",
      "The generated random hash   :b7fcb87ec448fcd9caf608b804ec493157d0166564e6ed9ede5f8a8baf48c56a\n",
      "The generated random string :8685317\n",
      "\n",
      "test stopped after 8685317 trials\n"
     ]
    }
   ],
   "source": [
    "limit=10000000\n",
    "match_size=6\n",
    "str_base=\"CYBR 504 BaSe\"\n",
    "find_match(limit,match_size,str_base)"
   ]
  },
  {
   "cell_type": "code",
   "execution_count": 69,
   "id": "7f68ebdb-7bb9-4351-9a68-80700179d6f5",
   "metadata": {
    "tags": []
   },
   "outputs": [
    {
     "name": "stdout",
     "output_type": "stream",
     "text": [
      "The base string is: CYBR 504 BaSe\n",
      "The base hash is:   653fadf2a946bab2704e9a7b6788b96545453846da50ccd78b8c65e38e48c56a\n",
      "Trying to match the last: 8\n",
      "\n",
      "................................................................................\n",
      "................................................................................\n",
      "........................................\n",
      "FAILED after 9999999 trials\n"
     ]
    }
   ],
   "source": [
    "limit=10000000\n",
    "match_size=8\n",
    "str_base=\"CYBR 504 BaSe\"\n",
    "find_match(limit,match_size,str_base)"
   ]
  },
  {
   "cell_type": "markdown",
   "id": "dfe329e3-52f8-4c79-bc99-4beeea43d9bc",
   "metadata": {},
   "source": [
    "What about 6? What about 8?"
   ]
  },
  {
   "cell_type": "raw",
   "id": "42e44d36-9201-4bed-8bc8-1562af1553eb",
   "metadata": {},
   "source": [
    "Answer: 4,took over 60,000 trials, and 6 took drastically more time to find a match of the last 6. 8 failed to find a match (a match where the last 8 digits matched the hash)."
   ]
  },
  {
   "cell_type": "markdown",
   "id": "f4b3c42a-aa0c-4baa-ba4a-ac1698c229bb",
   "metadata": {},
   "source": [
    "Consider the number of trials needed to matching just these few bits of the digest (each hex digit in the digest = 4 bits, so matching 6 characters is matching 24 bits),\n",
    "<br>What do you think about the feasibility of finding a full match?"
   ]
  },
  {
   "cell_type": "raw",
   "id": "466a43cc-dad3-45a9-a9f9-56df35846f58",
   "metadata": {},
   "source": [
    "Answer:Using a hashing algo like SHA-256 it is computationally infeasible to find a match. \n",
    "Matching the last 6 cahracters (24bits) of the hash value there are 16^6 = 16,777,216 possible input values that could produce a match. \n",
    "If we can compute 1 million hash values per second, it would take about 17 seconds to check all possible input values. \n",
    "This is a relatively short amount of time and could be feasible, especially if the input space is known or constrained in some way (e.g., passwords that meet certain criteria). "
   ]
  },
  {
   "cell_type": "markdown",
   "id": "c4ddf929-b4d4-4a19-890e-c6eaa7d5c56b",
   "metadata": {},
   "source": [
    "## Avalanch Effect\n",
    "The following code generates pairs of random values, calculates the hash of each, then determines how many bit positions are different between the two, and calcuates the average.<br>\n",
    "Run it to see what sha256 gives."
   ]
  },
  {
   "cell_type": "code",
   "execution_count": 92,
   "id": "62399314-27a6-4956-b2cb-daaf48f7bac6",
   "metadata": {
    "tags": []
   },
   "outputs": [],
   "source": [
    "import hashlib\n",
    "  \n",
    "#- calculate the number of bits differing between two different values\n",
    "def bit_differences( A,  B):\n",
    "  \n",
    "    count = 0\n",
    " \n",
    "    for i in range(0,512):\n",
    " \n",
    "        # right shift both the numbers by 'i' and\n",
    "        # check if the bit at the 0th position is different\n",
    "        if ((( A >>  i) & 1) != (( B >>  i) & 1)):\n",
    "             count=count+1\n",
    "          \n",
    "    return count  \n",
    " \n",
    "#- generate hash of two input strings\n",
    "def run_trial(A,B):    \n",
    "    \n",
    "    #- change the hash function here\n",
    "    #- << change digest method here >>\n",
    "    result_a = hashlib.sha256(A).hexdigest()\n",
    "    result_b = hashlib.sha256(B).hexdigest()\n",
    "    \n",
    "    r_a = int(result_a,16)\n",
    "    r_b = int(result_b,16)\n",
    "\n",
    "    #print(\"a:\",A,\"d_a:\",result_a, r_a)\n",
    "    #print(\"b:\",B,\"d_b:\",result_b, r_b)\n",
    "\n",
    "    return bit_differences( r_a,  r_b)\n",
    "\n",
    "\n"
   ]
  },
  {
   "cell_type": "code",
   "execution_count": 93,
   "id": "b3b90a39-8c68-401b-8dd6-0930bb2d6f86",
   "metadata": {
    "tags": []
   },
   "outputs": [
    {
     "name": "stdout",
     "output_type": "stream",
     "text": [
      "avg bit diff: 128.67467467467466\n"
     ]
    }
   ],
   "source": [
    "#- calculate the average number of bit differences between two random pre-images\n",
    "import random\n",
    "sum=0\n",
    "for i in range(1000):\n",
    "    r1 = random.randint(0,99999999)\n",
    "    r2 = random.randint(0,99999999)\n",
    "    r1a = r1 ##<< flip a bit >>##\n",
    "    count = run_trial(str(r1).encode(),str(r2).encode())\n",
    "    sum += count\n",
    "\n",
    "print(\"avg bit diff:\",sum/i)"
   ]
  },
  {
   "cell_type": "markdown",
   "id": "50f9f50c-6805-4ffe-ab18-9fa63cc12cee",
   "metadata": {},
   "source": [
    "Now, copy the code from the cell above to the cell below, and modify it to determine the average bit distance between 2 inputs which differ by one bit. (hint: XOR of a single one will flip a single bit)"
   ]
  },
  {
   "cell_type": "code",
   "execution_count": 97,
   "id": "e07727c3-459b-4bba-8f7c-42b621f4ffd1",
   "metadata": {
    "tags": []
   },
   "outputs": [
    {
     "name": "stdout",
     "output_type": "stream",
     "text": [
      "avg bit diff: 128.03303303303304\n"
     ]
    }
   ],
   "source": [
    "#- calculate the average number of bit differences between two random pre-images\n",
    "import random\n",
    "sum=0\n",
    "for i in range(1000):\n",
    "    r1 = random.randint(0,99999999)\n",
    "    r2 = random.randint(0,99999999)\n",
    "    rla = 0\n",
    "    rla ^= r1 << 1\n",
    "    count = run_trial(str(r1).encode(),str(r2).encode())\n",
    "    sum += count\n",
    "\n",
    "\n",
    "print(\"avg bit diff:\",sum/i)"
   ]
  },
  {
   "cell_type": "markdown",
   "id": "23f587ac-d32c-4dea-9e1a-96a9a43c371f",
   "metadata": {},
   "source": [
    "Comment on what you observed:"
   ]
  },
  {
   "cell_type": "raw",
   "id": "48801663-780e-43d7-8567-b658f4e797ab",
   "metadata": {},
   "source": [
    "The bit differences are nearly the same."
   ]
  },
  {
   "cell_type": "markdown",
   "id": "33134365-6cc5-4a4b-9a37-3f7f4333c1e2",
   "metadata": {},
   "source": [
    "## Proof-of-Work\n",
    "\n",
    "One use of cryptography in blockchain is \"proof-of-work\". To accomplish the \"miners\" must find a preimage that results in a digest that is smaller than some set value. Over time this value is reduced making mining more difficult.\n",
    "\n",
    "Below is some Python code that generates digest from an input, *test_input*, and then checks to see if it is smaller than the target, *target_digest*.\n"
   ]
  },
  {
   "cell_type": "code",
   "execution_count": 98,
   "id": "2575131c-5c96-4dbe-8c30-ce8eb2885f3e",
   "metadata": {
    "tags": []
   },
   "outputs": [],
   "source": [
    "import hashlib\n",
    "import binascii\n",
    "\n",
    "def proof_of_work(test_input):\n",
    "    target_digest = b'000fffffffffffffffffffffffffffffffffffffffffffffffffffffffffffff'\n",
    "    digest = binascii.hexlify(bytearray(hashlib.sha256(test_input).digest()))\n",
    "\n",
    "    print(\"input: \",test_input)\n",
    "    print(\"digest:\", digest)\n",
    "    print(\"target:\", target_digest)\n",
    "\n",
    "    return digest < target_digest\n"
   ]
  },
  {
   "cell_type": "markdown",
   "id": "002e81bd-a39f-4abf-9a5b-4d8d3e21d708",
   "metadata": {},
   "source": [
    "See if you can find an input that creates a digest smaller than the target."
   ]
  },
  {
   "cell_type": "code",
   "execution_count": 99,
   "id": "1400e7f8-a9f4-438c-9d5d-bb5cf54081a8",
   "metadata": {
    "tags": []
   },
   "outputs": [
    {
     "name": "stdout",
     "output_type": "stream",
     "text": [
      "input:  b'00000000'\n",
      "digest: b'7e071fd9b023ed8f18458a73613a0834f6220bd5cc50357ba3493c6040a9ea8c'\n",
      "target: b'000fffffffffffffffffffffffffffffffffffffffffffffffffffffffffffff'\n"
     ]
    },
    {
     "data": {
      "text/plain": [
       "False"
      ]
     },
     "execution_count": 99,
     "metadata": {},
     "output_type": "execute_result"
    }
   ],
   "source": [
    "test_input = b'00000000'\n",
    "proof_of_work(test_input)"
   ]
  },
  {
   "cell_type": "code",
   "execution_count": 100,
   "id": "ad83bacb-d825-48ad-b928-42bf0fc8d629",
   "metadata": {
    "tags": []
   },
   "outputs": [
    {
     "name": "stdout",
     "output_type": "stream",
     "text": [
      "input:  b'03000'\n",
      "digest: b'84f62e63c86837d7c1b02fe355a0d2737439c18ca7ebc01d7dcd4bb47b6dee40'\n",
      "target: b'000fffffffffffffffffffffffffffffffffffffffffffffffffffffffffffff'\n"
     ]
    },
    {
     "data": {
      "text/plain": [
       "False"
      ]
     },
     "execution_count": 100,
     "metadata": {},
     "output_type": "execute_result"
    }
   ],
   "source": [
    "test_input_2 = b'03000'\n",
    "proof_of_work(test_input_2)"
   ]
  },
  {
   "cell_type": "markdown",
   "id": "ebfea9cf-ba9e-40a3-859e-52f5dce414cf",
   "metadata": {},
   "source": [
    "Tried numerous inputs and can't generate a smaller hash than the target hash."
   ]
  },
  {
   "cell_type": "markdown",
   "id": "6bc709ae-c80f-49da-8f47-a14a6b468a79",
   "metadata": {},
   "source": [
    "## A simple XOR \"hash\" function in Python"
   ]
  },
  {
   "cell_type": "markdown",
   "id": "3d273d82-510b-40c4-b41e-1ff4261a89d2",
   "metadata": {},
   "source": [
    "\n",
    "The partial function below iterates over the bytes in the input string (as a list of bytes) and returns the result.\n",
    "\n",
    "#### 1) Modify the function below as needed so that it XORs each byte in the string with the next and returnd the result"
   ]
  },
  {
   "cell_type": "code",
   "execution_count": 103,
   "id": "e1f331fa-6f3a-4c99-b8a5-4108bfef27c5",
   "metadata": {
    "tags": []
   },
   "outputs": [],
   "source": [
    "def xor_hash(input_bytes):\n",
    "    # h0 = ##<< set initial value here >>##\n",
    "    h0 = 0\n",
    "    \n",
    "    value=h0\n",
    "    for byte in input_bytes:\n",
    "        value = value ^ byte\n",
    "        \n",
    "    return hex(value)        \n",
    "    "
   ]
  },
  {
   "cell_type": "code",
   "execution_count": 105,
   "id": "1da16f34-b06f-478c-91e8-40204ea8cc27",
   "metadata": {
    "tags": []
   },
   "outputs": [
    {
     "data": {
      "text/plain": [
       "'0x31'"
      ]
     },
     "execution_count": 105,
     "metadata": {},
     "output_type": "execute_result"
    }
   ],
   "source": [
    "input_bytes = b'these are my cybr504 bytes'\n",
    "xor_hash(input_bytes)"
   ]
  },
  {
   "cell_type": "code",
   "execution_count": 106,
   "id": "2342ec08-c3b5-453e-925c-258b6d17dab8",
   "metadata": {
    "tags": []
   },
   "outputs": [
    {
     "data": {
      "text/plain": [
       "'0x55'"
      ]
     },
     "execution_count": 106,
     "metadata": {},
     "output_type": "execute_result"
    }
   ],
   "source": [
    "input_bytes_extra = b'these are my cybr504 bytes with some extra input'\n",
    "xor_hash(input_bytes_extra)"
   ]
  },
  {
   "cell_type": "markdown",
   "id": "baad4c36-3ed2-41a0-b0ed-ce3dba86e28d",
   "metadata": {},
   "source": [
    "#### 2)\tConsider your xor hash function:\n",
    "2a.\tIn your function, what did you initialized <i>h0</i> to? Why?"
   ]
  },
  {
   "cell_type": "raw",
   "id": "4ab8fb2c-291b-47cf-8591-9ee26a0d84d0",
   "metadata": {},
   "source": [
    "Answer: Used zero because if it were XOR'd with an 8-bit value. It would not change and the hash would not change."
   ]
  },
  {
   "cell_type": "markdown",
   "id": "da864e85-9452-41b6-bdb2-dc149c1411dd",
   "metadata": {},
   "source": [
    "2b.\tHow many inputs could your function accept?\n"
   ]
  },
  {
   "cell_type": "raw",
   "id": "59ea32ec-0b65-4a8e-8199-43c3e1941e0a",
   "metadata": {},
   "source": [
    "Answer:The xor_hash function can accept any number of inputs as long as they are in bytes format. The input is passed to the function as a single argument input_bytes, which is a bytes object. This means that the function can accept a variable number of bytes as input.\n",
    "\n",
    "In Python, a bytes object can be created by enclosing a sequence of bytes in b'' notation or by using the bytes() constructor."
   ]
  },
  {
   "cell_type": "markdown",
   "id": "84648bed-fc5b-4c43-9db1-bb4c359235ab",
   "metadata": {},
   "source": [
    "2c.\tHow many unique digest values could this function generate? "
   ]
  },
  {
   "cell_type": "raw",
   "id": "92837438-d445-4680-a190-2e36a255fbb1",
   "metadata": {},
   "source": [
    "Answer:256"
   ]
  },
  {
   "cell_type": "markdown",
   "id": "5105b60f-3ab1-4d82-88ca-f75f981fad6b",
   "metadata": {},
   "source": [
    "2d.Using the quote, “Anyone who tries to create his or her own cryptographic primitive is either a genius or a fool. Given the genius/fool ratio of our species, the odds aren't very good. --Bruce Schneier\", as the preimage for your function,\n",
    "  what is the output value returned?"
   ]
  },
  {
   "cell_type": "code",
   "execution_count": 50,
   "id": "d9b0d1ac-b80f-4295-949e-5983bc9ad0c7",
   "metadata": {
    "tags": []
   },
   "outputs": [
    {
     "data": {
      "text/plain": [
       "'0x6e'"
      ]
     },
     "execution_count": 50,
     "metadata": {},
     "output_type": "execute_result"
    }
   ],
   "source": [
    "message = b\"Anyone who tries to create his or her own cryptographic primitive is either a genius or a fool. Given the genius/fool ratio of our species, the odds aren\\'t very good. --Bruce Schneier\"\n",
    "xor_hash(message)"
   ]
  },
  {
   "cell_type": "markdown",
   "id": "b676f9e1-387d-4e0b-be6c-5434d078cd79",
   "metadata": {},
   "source": [
    "#### 3)\tAttempt to find a pre-image such that your function would output 0xCC as the digest. You may do this by executing your function or paper and pencil\n"
   ]
  },
  {
   "cell_type": "code",
   "execution_count": 107,
   "id": "06203a78-a883-4e95-8aea-e3f917b9db2a",
   "metadata": {
    "tags": []
   },
   "outputs": [
    {
     "name": "stdout",
     "output_type": "stream",
     "text": [
      "0xcc\n"
     ]
    }
   ],
   "source": [
    "val = 204\n",
    "x = xor_hash(val.to_bytes(1,\"little\"))\n",
    "print(x)"
   ]
  },
  {
   "cell_type": "markdown",
   "id": "53727ee8-c59b-42de-9c53-dec17b223f63",
   "metadata": {},
   "source": [
    "3a.\tWhat was the pre-image you found?"
   ]
  },
  {
   "cell_type": "raw",
   "id": "eb3357bf-1e56-4038-8692-d96c3955b092",
   "metadata": {},
   "source": [
    "Answer: 204"
   ]
  },
  {
   "cell_type": "markdown",
   "id": "ce9fe4ca-5f22-4795-ac27-b4c64d449c9d",
   "metadata": {},
   "source": [
    "3b.\tExplain the method you used to find it?"
   ]
  },
  {
   "cell_type": "raw",
   "id": "bfe17f99-cc16-4e72-b16f-de08c87b746d",
   "metadata": {},
   "source": [
    "Answer: We determinied the byte value of CC and flipped the bits to get 204."
   ]
  },
  {
   "cell_type": "markdown",
   "id": "6de178c7-d5a7-494c-bbf4-b11b054a0a51",
   "metadata": {},
   "source": [
    "#### 4)\tAttempt to find a collision – any two different pre-images that generate the same hash value. You may do this using your function or paper and pencil\n",
    "4a.\tWhat are the two inputs?"
   ]
  },
  {
   "cell_type": "raw",
   "id": "5df81898-6609-408a-8e2a-168db9f5e2c8",
   "metadata": {},
   "source": [
    "Answer:\n",
    "val = b'pp'\n",
    "val2 = b'DD'"
   ]
  },
  {
   "cell_type": "code",
   "execution_count": 108,
   "id": "1726fcf8-61ae-4f9e-a8f1-84ed75b3632f",
   "metadata": {
    "tags": []
   },
   "outputs": [
    {
     "name": "stdout",
     "output_type": "stream",
     "text": [
      "0x0\n",
      "0x0\n"
     ]
    }
   ],
   "source": [
    "val = b'pp'\n",
    "val2 = b'DD'\n",
    "print(xor_hash(val))\n",
    "print(xor_hash(val2))"
   ]
  },
  {
   "cell_type": "markdown",
   "id": "a0b61b74-b8ea-4294-95d7-ad4869ec26b9",
   "metadata": {},
   "source": [
    "4b.\tWhat was the hash value?"
   ]
  },
  {
   "cell_type": "raw",
   "id": "1633bbcb-91f3-4d2d-ab3f-f52461a9b311",
   "metadata": {},
   "source": [
    "Answer: 0x0"
   ]
  },
  {
   "cell_type": "markdown",
   "id": "b08f62e4-0033-4105-a953-dfd12a837017",
   "metadata": {},
   "source": [
    "#### 5)\tConsider your xor function.\n",
    "5a.\tIs your function a hash function?"
   ]
  },
  {
   "cell_type": "raw",
   "id": "6d9092b6-1fa3-4e39-8156-7fb4715a304a",
   "metadata": {},
   "source": [
    "Answer:\n",
    "Our function is a simple hash function. Because it takes an input (i.e., messsage) and produces a fixed output (i.e., the hash value) that is a representation of the input. "
   ]
  },
  {
   "cell_type": "markdown",
   "id": "345ac243-2d75-4a8d-8065-7b2a1a0d2e6b",
   "metadata": {},
   "source": [
    "5b.\tWhy or why not?"
   ]
  },
  {
   "cell_type": "raw",
   "id": "41da787b-4ca9-41f1-86b1-fe65cd705c43",
   "metadata": {},
   "source": [
    "Answer:The function is deterministic, because the same input bytes will always prduce the same output hash value. "
   ]
  },
  {
   "cell_type": "markdown",
   "id": "81f0fcf2-91b2-4832-a10e-b554428b1f8f",
   "metadata": {},
   "source": [
    "#### 6)\tConsider the requirement that CHFs must be one-way, meaning you could not easily determine the original pre-image from its matching digest.\n",
    "6a.\tIn your function one way?"
   ]
  },
  {
   "cell_type": "raw",
   "id": "7d5b48da-2253-4593-a007-3d2b587c31e8",
   "metadata": {},
   "source": [
    "Answer: A one-way function is a function that is easy to compute in one direction but computationally infeasible to invert (i.e., find the input that produced a given output) in the other direction without using brute force. In the case of xor_hash, it is easy to compute the hash value of an input byte sequence by applying the XOR operation to each byte in the input. However, it is computationally infeasible to find the input byte sequence that produced a given hash value without trying all possible input byte sequences."
   ]
  },
  {
   "cell_type": "markdown",
   "id": "eca50623-43b0-4df0-90e5-b2b0b6964886",
   "metadata": {},
   "source": [
    "#### 7) Consider the requirements of a “cryptographic” hash function (CHF)?\n",
    "\n",
    "7a.\tIn what ways does your hash function meet them, if any?"
   ]
  },
  {
   "cell_type": "raw",
   "id": "77afbf44-c614-443c-9567-74e8f2fe50a4",
   "metadata": {},
   "source": [
    "Answer: One way, deterministic"
   ]
  },
  {
   "cell_type": "markdown",
   "id": "8a3f903d-e102-4fe2-a837-de4c1dc36ba5",
   "metadata": {},
   "source": [
    "7b.\tIn what ways does your hash function NOT meet them, if any?"
   ]
  },
  {
   "cell_type": "raw",
   "id": "bb3d6fd7-d38a-43a2-9403-64c2f3607e86",
   "metadata": {},
   "source": [
    "Answer: Not collision resistant"
   ]
  },
  {
   "cell_type": "markdown",
   "id": "ddee7aca-422e-4069-b32e-b1ed30dd8ef7",
   "metadata": {},
   "source": [
    "#### 8)\tOne property of CHFs is exhibiting good diffusion or an avalanche effect?\n",
    "8a.\tExplain what you did you evaluate this?\n"
   ]
  },
  {
   "cell_type": "raw",
   "id": "9a4545e6-ec16-4599-8ad8-bd3094d3f436",
   "metadata": {},
   "source": [
    "Answer:Good diffusion / avalanache effect - > we ran the function with slightly different values."
   ]
  },
  {
   "cell_type": "markdown",
   "id": "12dd2681-526c-4b05-8142-2ddd9d678992",
   "metadata": {
    "tags": []
   },
   "source": [
    "8b.\tIs this a good hash function for security purposes? Explain."
   ]
  },
  {
   "cell_type": "raw",
   "id": "7743be81-6257-4535-902c-0bda73e7ee66",
   "metadata": {},
   "source": [
    "Answer: No collisions are too likely"
   ]
  }
 ],
 "metadata": {
  "kernelspec": {
   "display_name": "Python 3 (ipykernel)",
   "language": "python",
   "name": "python3"
  },
  "language_info": {
   "codemirror_mode": {
    "name": "ipython",
    "version": 3
   },
   "file_extension": ".py",
   "mimetype": "text/x-python",
   "name": "python",
   "nbconvert_exporter": "python",
   "pygments_lexer": "ipython3",
   "version": "3.10.6"
  }
 },
 "nbformat": 4,
 "nbformat_minor": 5
}
