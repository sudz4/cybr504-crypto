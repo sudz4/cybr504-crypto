{
 "cells": [
  {
   "cell_type": "markdown",
   "id": "5a68613f-cd7c-4119-a7a8-98a84ffaad77",
   "metadata": {
    "deletable": false,
    "tags": []
   },
   "source": [
    "# Transport Layer Security (TLS)\n",
    "\n",
    "The protection of online communication is a critical concern in today's digital world. One of the most widely-used solutions to this challenge is Transport Layer Security (TLS). This protocol is specifically designed to ensure the confidentiality and integrity of communications over the Internet. The primary application of TLS is the encryption of communications between web applications and servers, such as when a web browser accesses a website. However, it can also be used to secure other forms of digital communication, such as email, messaging, and voice over IP (VoIP).\n",
    "\n"
   ]
  },
  {
   "cell_type": "markdown",
   "id": "73448ac6-1ed1-4c6f-8804-e9db02a06018",
   "metadata": {
    "tags": []
   },
   "source": [
    "First we'll look at an actual certificate. Starting with USD's.\n",
    "\n",
    "Open a cell (if needed) and run the openssl command: \n",
    "\n",
    "<code>openssl s_client -connect www.sandiego.edu:443 < /dev/null 2> /dev/null</code>\n",
    "    \n",
    "This connects to the webserver for USD and displays their certificate.<br>\n",
    "    <code>< /dev/null</code> is one way to avoid commands from having to wait for input.<br>\n",
    "    "
   ]
  },
  {
   "cell_type": "code",
   "execution_count": 1,
   "id": "1b5dafd8-f25e-4a03-9538-83d1a2751930",
   "metadata": {
    "tags": []
   },
   "outputs": [
    {
     "name": "stdout",
     "output_type": "stream",
     "text": [
      "CONNECTED(00000003)\n",
      "---\n",
      "Certificate chain\n",
      " 0 s:C = US, ST = California, O = University of San Diego, CN = www.sandiego.edu\n",
      "   i:C = US, ST = MI, L = Ann Arbor, O = Internet2, OU = InCommon, CN = InCommon RSA Server CA\n",
      "   a:PKEY: rsaEncryption, 2048 (bit); sigalg: RSA-SHA256\n",
      "   v:NotBefore: Feb 13 00:00:00 2023 GMT; NotAfter: Feb 13 23:59:59 2024 GMT\n",
      " 1 s:C = US, ST = MI, L = Ann Arbor, O = Internet2, OU = InCommon, CN = InCommon RSA Server CA\n",
      "   i:C = US, ST = New Jersey, L = Jersey City, O = The USERTRUST Network, CN = USERTrust RSA Certification Authority\n",
      "   a:PKEY: rsaEncryption, 2048 (bit); sigalg: RSA-SHA384\n",
      "   v:NotBefore: Oct  6 00:00:00 2014 GMT; NotAfter: Oct  5 23:59:59 2024 GMT\n",
      " 2 s:C = US, ST = New Jersey, L = Jersey City, O = The USERTRUST Network, CN = USERTrust RSA Certification Authority\n",
      "   i:C = GB, ST = Greater Manchester, L = Salford, O = Comodo CA Limited, CN = AAA Certificate Services\n",
      "   a:PKEY: rsaEncryption, 4096 (bit); sigalg: RSA-SHA384\n",
      "   v:NotBefore: Mar 12 00:00:00 2019 GMT; NotAfter: Dec 31 23:59:59 2028 GMT\n",
      " 3 s:C = GB, ST = Greater Manchester, L = Salford, O = Comodo CA Limited, CN = AAA Certificate Services\n",
      "   i:C = GB, ST = Greater Manchester, L = Salford, O = Comodo CA Limited, CN = AAA Certificate Services\n",
      "   a:PKEY: rsaEncryption, 2048 (bit); sigalg: RSA-SHA1\n",
      "   v:NotBefore: Jan  1 00:00:00 2004 GMT; NotAfter: Dec 31 23:59:59 2028 GMT\n",
      "---\n",
      "Server certificate\n",
      "-----BEGIN CERTIFICATE-----\n",
      "MIIIeTCCB2GgAwIBAgIRALrzwskYlzqSLp7NW2a5vacwDQYJKoZIhvcNAQELBQAw\n",
      "djELMAkGA1UEBhMCVVMxCzAJBgNVBAgTAk1JMRIwEAYDVQQHEwlBbm4gQXJib3Ix\n",
      "EjAQBgNVBAoTCUludGVybmV0MjERMA8GA1UECxMISW5Db21tb24xHzAdBgNVBAMT\n",
      "FkluQ29tbW9uIFJTQSBTZXJ2ZXIgQ0EwHhcNMjMwMjEzMDAwMDAwWhcNMjQwMjEz\n",
      "MjM1OTU5WjBfMQswCQYDVQQGEwJVUzETMBEGA1UECBMKQ2FsaWZvcm5pYTEgMB4G\n",
      "A1UEChMXVW5pdmVyc2l0eSBvZiBTYW4gRGllZ28xGTAXBgNVBAMTEHd3dy5zYW5k\n",
      "aWVnby5lZHUwggEiMA0GCSqGSIb3DQEBAQUAA4IBDwAwggEKAoIBAQC10L8950zO\n",
      "yq7qV3/G8za6VvqfNpgIJMgLIdhIWpcJgFBtaRgYblURt4yUzjJDD1DUm2JiQ9hQ\n",
      "NYZF2SejfDzhO6Csg6Js460F+X5PLV+8GpjVBUjgUDd0vj75l+kFxFxFyBtUkpO1\n",
      "R0xHLWzkcOrapO56ElTaf2IwJZhS3LcCQxKZTp7hvGJKRdRlhyXGlgBV9vgHh+55\n",
      "LYE2xYYG8xPLAhIVT3kVjD32gSBX5/0C3ckdw1Z+Sh0QRLdbkf03Z/XPpHhFCgfo\n",
      "Vc1aZ3p0o6EBy+pWSjJIeNtudmEeFiQc4X5bxWs8c5mURLfbLO+hafX0/fu4Ax4t\n",
      "rMcamZDOA75JAgMBAAGjggUXMIIFEzAfBgNVHSMEGDAWgBQeBaN3j2yW4luHS6a0\n",
      "hqxxAAznODAdBgNVHQ4EFgQUFrvlOPXuBRQbk2+C29Sj3E0Wx1owDgYDVR0PAQH/\n",
      "BAQDAgWgMAwGA1UdEwEB/wQCMAAwHQYDVR0lBBYwFAYIKwYBBQUHAwEGCCsGAQUF\n",
      "BwMCMGcGA1UdIARgMF4wUgYMKwYBBAGuIwEEAwEBMEIwQAYIKwYBBQUHAgEWNGh0\n",
      "dHBzOi8vd3d3LmluY29tbW9uLm9yZy9jZXJ0L3JlcG9zaXRvcnkvY3BzX3NzbC5w\n",
      "ZGYwCAYGZ4EMAQICMEQGA1UdHwQ9MDswOaA3oDWGM2h0dHA6Ly9jcmwuaW5jb21t\n",
      "b24tcnNhLm9yZy9JbkNvbW1vblJTQVNlcnZlckNBLmNybDB1BggrBgEFBQcBAQRp\n",
      "MGcwPgYIKwYBBQUHMAKGMmh0dHA6Ly9jcnQudXNlcnRydXN0LmNvbS9JbkNvbW1v\n",
      "blJTQVNlcnZlckNBXzIuY3J0MCUGCCsGAQUFBzABhhlodHRwOi8vb2NzcC51c2Vy\n",
      "dHJ1c3QuY29tMIIBfAYKKwYBBAHWeQIEAgSCAWwEggFoAWYAdQB2/4g/Crb7lVHC\n",
      "Ycz1h7o0tKTNuyncaEIKn+ZnTFo6dAAAAYZMNCejAAAEAwBGMEQCIAZo0UgN/xza\n",
      "Z3YItp+nT3LkKewaRsUhZHLdQoLz1TdCAiBNa1SdUNv82UK3kYV0DhmXV6cz8fQK\n",
      "aK6mrw+LM9d8WgB1ANq2v2s/tbYin5vCu1xr6HCRcWy7UYSFNL2kPTBI1/urAAAB\n",
      "hkw0J3AAAAQDAEYwRAIgWz77WNn5+WDyODjZGTlna3TyW8QKtqoKul4mNX6R6scC\n",
      "IHgqLiLkrMTU330hE812pktt8NsIiDn6nQ98LIUcZWo+AHYA7s3QZNXbGs7FXLed\n",
      "tM0TojKHRny87N7DUUhZRnEftZsAAAGGTDQnOgAABAMARzBFAiBJTAFJ1DNH+shI\n",
      "XKHEH/6x6V0xVv633T0IDppVubi+wAIhAIs9kd+mm3QcGzXyWFTviRgE5ZpmHUpu\n",
      "EUJgt+BEL3JRMIIB7AYDVR0RBIIB4zCCAd+CEHd3dy5zYW5kaWVnby5lZHWCEWJt\n",
      "cmUuc2FuZGllZ28uZWR1ghVidXNpbmVzcy5zYW5kaWVnby5lZHWCHWNoYXJhY3Rl\n",
      "cm1hdHRlcnMuc2FuZGllZ28uZWR1ghBnbWUuc2FuZGllZ28uZWR1ghBpbXMuc2Fu\n",
      "ZGllZ28uZWR1ghNpdHVuZXMuc2FuZGllZ28uZWR1ghBsYXcuc2FuZGllZ28uZWR1\n",
      "ghdsZWFkZXJzaGlwLnNhbmRpZWdvLmVkdYIUbGlicmFyeS5zYW5kaWVnby5lZHWC\n",
      "E21hcmlhbi5zYW5kaWVnby5lZHWCGG1vYmlsZXByaW50LnNhbmRpZWdvLmVkdYIS\n",
      "cGVhY2Uuc2FuZGllZ28uZWR1ggxzYW5kaWVnby5lZHWCGnNkY2xpbWF0ZWNvbGxh\n",
      "Ym9yYXRpdmUub3JnghFzaWJjLnNhbmRpZWdvLmVkdYITdXNkbm93LnNhbmRpZWdv\n",
      "LmVkdYIRdXNkcmVhbGVzdGF0ZS5jb22CEXdlYjMuc2FuZGllZ28uZWR1ghZ3d3ct\n",
      "cmVhbDIuc2FuZGllZ28uZWR1gh53d3cuc2RjbGltYXRlY29sbGFib3JhdGl2ZS5v\n",
      "cmeCFXd3dy51c2RyZWFsZXN0YXRlLmNvbTANBgkqhkiG9w0BAQsFAAOCAQEAVOxi\n",
      "t8GRNhLCAoQN7etaoJNZdKtYEGLYKLoOwbSKB4cPwVjM48TxXOFdAPCk1NxVdqcm\n",
      "0Btj2YCpk4glC5sBXaTsY3SkyWnMUdcsxBuT9Z2j7WpYWv0U/dI2gnIF3+yJN0NZ\n",
      "0/8iJz7Mmm1FYiwbogNpJStMhuYur7biYFPji0zuVApHpbPMZg6UdIeRKFbUMEZv\n",
      "GMCm5BaYvH25K65kyY0BwMAhP769lVkvD0E5Xdvp+XrCcptRsRLMiaALneMcPv5g\n",
      "R76o+vDBfse69zIsYzKJoqO4nzp621xLte4hRqOpaVpf0vJppnZ1jVo4dVwayttQ\n",
      "FIWyeLWcSRufZ9dOgw==\n",
      "-----END CERTIFICATE-----\n",
      "subject=C = US, ST = California, O = University of San Diego, CN = www.sandiego.edu\n",
      "issuer=C = US, ST = MI, L = Ann Arbor, O = Internet2, OU = InCommon, CN = InCommon RSA Server CA\n",
      "---\n",
      "No client certificate CA names sent\n",
      "Peer signing digest: SHA256\n",
      "Peer signature type: RSA-PSS\n",
      "Server Temp Key: X25519, 253 bits\n",
      "---\n",
      "SSL handshake has read 6883 bytes and written 411 bytes\n",
      "Verification: OK\n",
      "---\n",
      "New, TLSv1.2, Cipher is ECDHE-RSA-AES256-GCM-SHA384\n",
      "Server public key is 2048 bit\n",
      "Secure Renegotiation IS supported\n",
      "Compression: NONE\n",
      "Expansion: NONE\n",
      "No ALPN negotiated\n",
      "SSL-Session:\n",
      "    Protocol  : TLSv1.2\n",
      "    Cipher    : ECDHE-RSA-AES256-GCM-SHA384\n",
      "    Session-ID: C3965C094B27839C3A9C1F4F99FB7D7B2179600C6361F8F967D055E413D722AA\n",
      "    Session-ID-ctx: \n",
      "    Master-Key: A8E9855AB4A5CCAFD3E517D5603EDAA4481D4180BE35C0A806EF74487318C8E10B73486E2B941BC0799DB9980869DB0A\n",
      "    PSK identity: None\n",
      "    PSK identity hint: None\n",
      "    SRP username: None\n",
      "    TLS session ticket lifetime hint: 300 (seconds)\n",
      "    TLS session ticket:\n",
      "    0000 - 0d 9c 9c 33 ac ab 85 ec-ec 4e e3 aa db dd 40 40   ...3.....N....@@\n",
      "    0010 - ac 62 32 fb 3c b9 ad 66-2d cb 7f 72 86 16 a0 ba   .b2.<..f-..r....\n",
      "    0020 - 4a 2e ce a3 ad d9 ad 4c-0d 54 2c 9d 2d d7 03 f5   J......L.T,.-...\n",
      "    0030 - 46 39 4a bf 65 03 99 97-d9 9a 72 45 f8 20 c5 b8   F9J.e.....rE. ..\n",
      "    0040 - 6b 78 a6 f3 4b e2 bf 8e-02 12 c7 c3 03 60 48 e1   kx..K........`H.\n",
      "    0050 - 68 94 ed e5 e1 b8 64 b0-1e c1 57 c2 bd 3d 88 39   h.....d...W..=.9\n",
      "    0060 - a6 0d 6c 41 42 2a 43 ca-09 d0 1b 94 d2 28 41 f7   ..lAB*C......(A.\n",
      "    0070 - 7d 46 70 25 4f 76 41 1a-04 34 2d ef d7 59 44 0a   }Fp%OvA..4-..YD.\n",
      "    0080 - e2 11 6a 11 7c 7b dd 86-cc bb ac d9 95 c6 46 5b   ..j.|{........F[\n",
      "    0090 - 9f 5c 0d 8c 15 b8 5d 8c-f9 05 4b 3c 97 e1 f0 f7   .\\....]...K<....\n",
      "    00a0 - 73 74 27 54 a2 55 e8 41-aa 7b 35 f5 90 eb 6a 81   st'T.U.A.{5...j.\n",
      "    00b0 - 28 f7 d2 52 7c 13 77 1c-1b a6 76 d2 61 00 f2 e4   (..R|.w...v.a...\n",
      "    00c0 - f1 5f 20 28 10 7a 2b 79-00 af 8b 74 b4 65 ac c9   ._ (.z+y...t.e..\n",
      "\n",
      "    Start Time: 1680229771\n",
      "    Timeout   : 7200 (sec)\n",
      "    Verify return code: 0 (ok)\n",
      "    Extended master secret: yes\n",
      "---\n"
     ]
    }
   ],
   "source": [
    "!openssl s_client -connect www.sandiego.edu:443 < /dev/null 2> /dev/null"
   ]
  },
  {
   "cell_type": "markdown",
   "id": "5d9449bd-b6ca-410c-a1a9-fc0731e5823a",
   "metadata": {
    "tags": []
   },
   "source": [
    "Examine the USD certificate to answer the following:\n",
    "\n",
    "1. When does the certificate expire?\n",
    "1. By name, what cipher does it use? Explain what that is.\n",
    "1. How long is the key?\n",
    "1. Is the certificate for a CA? Why?\n"
   ]
  },
  {
   "cell_type": "markdown",
   "id": "a9cb01f1-8fcb-4d57-ae26-110b73bc7bcd",
   "metadata": {
    "tags": []
   },
   "source": [
    "Answer:\n",
    "1. February 13, 2024\n",
    "2. Cipher : ECDHE-RSA-AES256-GCM-SHA384\n",
    "3. Server public key is 2048 bit\n",
    "4. Yes CN = RSA Server CA, AAA\n",
    "\n"
   ]
  },
  {
   "cell_type": "markdown",
   "id": "15b9e66b-7c17-41c6-9713-af5e2c2ffa12",
   "metadata": {
    "tags": []
   },
   "source": [
    "\n",
    "Is the certificate self-signed? \n",
    "* If it is, how can you tell? \n",
    "* If it is not, who signed it? \n",
    " "
   ]
  },
  {
   "cell_type": "raw",
   "id": "802cef7f-cbf6-4088-a06a-75f9e2efc8b9",
   "metadata": {},
   "source": [
    "Answer:"
   ]
  },
  {
   "cell_type": "markdown",
   "id": "678d8cbd-a361-4e1a-abb9-b04d5ba8dd48",
   "metadata": {},
   "source": [
    "1. What version of TLS was used to for this connection? \n",
    "1. What is the current version of TLS? \n",
    "1. Why do you think it does not use the current version? \n"
   ]
  },
  {
   "cell_type": "raw",
   "id": "d93bcae0-dd93-4b56-b602-6c3e01531640",
   "metadata": {},
   "source": [
    "Answer:"
   ]
  },
  {
   "cell_type": "markdown",
   "id": "420eba95-cabf-46c3-b14f-d3adb638e429",
   "metadata": {},
   "source": [
    "Try reconnecting, but specify TLSv1.3.<br>\n",
    "\n",
    "`openssl s_client -connect www.sandiego.edu:443 -tls1_3`\n",
    "\n",
    "What happens?</div>"
   ]
  },
  {
   "cell_type": "code",
   "execution_count": 2,
   "id": "f10fd256-f537-419e-88c9-90680dbce90a",
   "metadata": {
    "tags": []
   },
   "outputs": [
    {
     "name": "stdout",
     "output_type": "stream",
     "text": [
      "CONNECTED(00000003)\n",
      "2020A58AFFFF0000:error:0A00042E:SSL routines:ssl3_read_bytes:tlsv1 alert protocol version:../ssl/record/rec_layer_s3.c:1584:SSL alert number 70\n",
      "---\n",
      "no peer certificate available\n",
      "---\n",
      "No client certificate CA names sent\n",
      "---\n",
      "SSL handshake has read 7 bytes and written 250 bytes\n",
      "Verification: OK\n",
      "---\n",
      "New, (NONE), Cipher is (NONE)\n",
      "Secure Renegotiation IS NOT supported\n",
      "Compression: NONE\n",
      "Expansion: NONE\n",
      "No ALPN negotiated\n",
      "Early data was not sent\n",
      "Verify return code: 0 (ok)\n",
      "---\n"
     ]
    }
   ],
   "source": [
    "!openssl s_client -connect www.sandiego.edu:443 -tls1_3\n"
   ]
  },
  {
   "cell_type": "raw",
   "id": "48f9c429-dab9-407b-8015-e22b7b5a9131",
   "metadata": {},
   "source": [
    "Answer:"
   ]
  },
  {
   "cell_type": "markdown",
   "id": "9f50fe43-cdcf-45cf-af18-e99348c38d8c",
   "metadata": {},
   "source": [
    "Now look at the certificate from Google. Use www.google.com for the servername."
   ]
  },
  {
   "cell_type": "code",
   "execution_count": null,
   "id": "a0ea75a5-cc47-4b6c-8174-9d651b713e13",
   "metadata": {
    "tags": []
   },
   "outputs": [],
   "source": []
  },
  {
   "cell_type": "markdown",
   "id": "2261cc59-e182-4986-9921-e096eea628ff",
   "metadata": {
    "tags": []
   },
   "source": [
    "Compare the output. In what significant ways does it differ from that of USD's certificate?"
   ]
  },
  {
   "cell_type": "raw",
   "id": "90832a6c-9edf-47b0-8e32-c9f087e32703",
   "metadata": {},
   "source": [
    "Answer:"
   ]
  },
  {
   "cell_type": "markdown",
   "id": "ccff150b-b1ab-4617-944f-754e49a70e84",
   "metadata": {},
   "source": [
    "\n",
    "## Examining Certificates\n",
    "\n",
    "Next we'll look at some certificates already saved. As these are text, you can use the \"cat <cert file name>\" command to view them in their encoded form.\n",
    "    \n",
    "You can have openssl decode them for you.\n",
    "    \n",
    "Use commands of the form:\n",
    "    <code>openssl x509 -text -noout -in \"\\<cert file name\\>\"    </code>\n",
    "    \n",
    "Open up individual cells and try it on the certificate files \"pkilab1.crt\", \"pkilab2.crt\" and \"pkilab3.crt\"\n",
    "    "
   ]
  },
  {
   "cell_type": "code",
   "execution_count": 3,
   "id": "9d7c826e-dc9e-4c19-9514-8fdd9cdcde02",
   "metadata": {
    "tags": []
   },
   "outputs": [
    {
     "name": "stdout",
     "output_type": "stream",
     "text": [
      "Certificate:\n",
      "    Data:\n",
      "        Version: 3 (0x2)\n",
      "        Serial Number:\n",
      "            6c:b9:c7:15:48:42:d6:f0:58:81:27:3a:12:47:ae:01\n",
      "        Signature Algorithm: sha256WithRSAEncryption\n",
      "        Issuer: C = US, O = \"Entrust, Inc.\", OU = See www.entrust.net/legal-terms, OU = \"(c) 2012 Entrust, Inc. - for authorized use only\", CN = Entrust Certification Authority - L1K\n",
      "        Validity\n",
      "            Not Before: Jun  1 17:19:55 2022 GMT\n",
      "            Not After : Jun 30 17:19:55 2023 GMT\n",
      "        Subject: C = US, ST = District of Columbia, L = Washington, O = U.S. Department of Justice, CN = usdoj.gov\n",
      "        Subject Public Key Info:\n",
      "            Public Key Algorithm: rsaEncryption\n",
      "                Public-Key: (4096 bit)\n",
      "                Modulus:\n",
      "                    00:c3:b2:bd:f0:ee:c7:0b:a7:c0:0e:0e:1e:b0:25:\n",
      "                    78:63:8c:2e:46:8b:04:5f:c5:92:2c:8b:ab:29:21:\n",
      "                    dd:47:52:da:56:4e:8a:54:7c:5e:ab:0e:b3:ad:26:\n",
      "                    73:be:db:0e:3f:a0:d2:47:05:1d:32:20:3b:ba:2a:\n",
      "                    b7:8c:e8:ca:7e:0a:37:b4:7c:18:44:07:67:ee:84:\n",
      "                    0b:a2:60:99:a0:30:53:c0:c2:80:42:71:c1:75:d3:\n",
      "                    86:dc:dc:fd:ae:ca:89:80:c2:46:6b:81:c1:c8:3a:\n",
      "                    04:a7:20:af:42:03:04:1e:bf:ff:25:aa:be:7f:ba:\n",
      "                    4c:1c:be:eb:f4:ae:2c:9a:01:08:44:8f:57:6c:39:\n",
      "                    e6:aa:2a:60:d9:fa:1f:97:1e:d1:65:1f:0d:d2:5b:\n",
      "                    cf:f2:4d:67:93:88:f2:31:58:24:42:a1:49:79:6c:\n",
      "                    31:8d:13:b2:65:29:9b:ce:9b:4e:1b:bc:c7:d3:82:\n",
      "                    ce:e8:c4:6c:99:e8:05:81:f2:4e:0c:e3:56:a4:f8:\n",
      "                    e0:b6:2c:c8:2b:f5:13:2d:9d:27:e7:3b:37:7f:6d:\n",
      "                    96:f3:8d:1f:3e:69:f2:39:a6:8a:f7:07:38:69:46:\n",
      "                    70:5e:62:ab:4f:d7:50:af:c1:0c:7b:21:af:c7:4d:\n",
      "                    ec:a5:a6:20:42:84:d7:67:81:a3:01:53:2b:01:03:\n",
      "                    db:46:8a:ed:26:73:21:14:63:4e:b5:e4:01:3b:44:\n",
      "                    d4:59:bf:9a:05:30:56:b6:a6:b2:57:24:2f:ed:cf:\n",
      "                    6b:12:97:b3:27:c2:3b:4b:1f:2f:1c:37:c7:d5:88:\n",
      "                    3e:5d:7d:37:f1:5f:b1:fc:02:ea:ac:33:23:06:db:\n",
      "                    e0:56:c8:3a:f4:17:03:56:93:bd:ed:91:d9:1c:2c:\n",
      "                    15:04:54:dc:11:df:c8:f7:45:56:b5:3c:c7:72:c8:\n",
      "                    67:c9:29:dd:4d:72:b1:85:3b:bb:82:9b:29:75:db:\n",
      "                    06:2a:ac:78:fe:59:f2:1a:e4:b1:0d:26:d1:ae:fb:\n",
      "                    22:4a:ab:91:ea:70:3d:20:d4:08:3d:62:03:c4:65:\n",
      "                    53:81:f9:c8:45:7d:56:87:fe:a2:28:3c:af:29:68:\n",
      "                    cc:37:86:7a:43:ee:74:84:f1:ce:fd:d3:7f:cd:7b:\n",
      "                    18:f8:c6:e9:b8:10:d8:18:88:fa:12:f1:e6:a9:07:\n",
      "                    74:80:c2:ee:f9:9f:4b:53:b7:c4:7f:8a:67:42:7f:\n",
      "                    da:e8:83:c7:1c:d3:f0:ee:17:0a:ba:12:ea:2a:3d:\n",
      "                    38:f7:21:3e:fe:0a:9a:df:f6:92:2f:16:04:4c:b3:\n",
      "                    37:77:0a:fa:39:2c:b5:a1:be:85:58:58:af:29:2b:\n",
      "                    ea:6c:2c:f7:8f:59:8f:ee:df:e6:9a:c2:60:f9:9b:\n",
      "                    58:10:bd\n",
      "                Exponent: 65537 (0x10001)\n",
      "        X509v3 extensions:\n",
      "            X509v3 Basic Constraints: critical\n",
      "                CA:FALSE\n",
      "            X509v3 Subject Key Identifier: \n",
      "                68:E6:C5:ED:8C:3A:5B:4B:79:1A:5B:F6:0C:03:4B:D9:B7:09:00:7E\n",
      "            X509v3 Authority Key Identifier: \n",
      "                82:A2:70:74:DD:BC:53:3F:CF:7B:D4:F7:CD:7F:A7:60:C6:0A:4C:BF\n",
      "            Authority Information Access: \n",
      "                OCSP - URI:http://ocsp.entrust.net\n",
      "                CA Issuers - URI:http://aia.entrust.net/l1k-chain256.cer\n",
      "            X509v3 CRL Distribution Points: \n",
      "                Full Name:\n",
      "                  URI:http://crl.entrust.net/level1k.crl\n",
      "            X509v3 Subject Alternative Name: \n",
      "                DNS:usdoj.gov, DNS:www.usdoj.gov\n",
      "            X509v3 Key Usage: critical\n",
      "                Digital Signature, Key Encipherment\n",
      "            X509v3 Extended Key Usage: \n",
      "                TLS Web Server Authentication, TLS Web Client Authentication\n",
      "            X509v3 Certificate Policies: \n",
      "                Policy: 2.16.840.1.114028.10.1.5\n",
      "                  CPS: https://www.entrust.net/rpa\n",
      "                Policy: 2.23.140.1.2.2\n",
      "            CT Precertificate SCTs: \n",
      "                Signed Certificate Timestamp:\n",
      "                    Version   : v1 (0x0)\n",
      "                    Log ID    : 55:81:D4:C2:16:90:36:01:4A:EA:0B:9B:57:3C:53:F0:\n",
      "                                C0:E4:38:78:70:25:08:17:2F:A3:AA:1D:07:13:D3:0C\n",
      "                    Timestamp : Jun  1 17:19:56.176 2022 GMT\n",
      "                    Extensions: none\n",
      "                    Signature : ecdsa-with-SHA256\n",
      "                                30:46:02:21:00:94:8D:7B:41:36:B9:BD:94:0F:AA:06:\n",
      "                                7F:B8:FD:45:D4:12:9B:47:84:B8:6B:37:52:1B:8E:8E:\n",
      "                                0E:D4:D0:6E:17:02:21:00:BD:5C:D4:C9:1F:60:1C:8D:\n",
      "                                2B:71:CE:F6:21:A7:C7:6F:7E:96:0F:FE:F5:A1:83:AE:\n",
      "                                AA:E0:94:35:64:9A:39:28\n",
      "                Signed Certificate Timestamp:\n",
      "                    Version   : v1 (0x0)\n",
      "                    Log ID    : B3:73:77:07:E1:84:50:F8:63:86:D6:05:A9:DC:11:09:\n",
      "                                4A:79:2D:B1:67:0C:0B:87:DC:F0:03:0E:79:36:A5:9A\n",
      "                    Timestamp : Jun  1 17:19:56.173 2022 GMT\n",
      "                    Extensions: none\n",
      "                    Signature : ecdsa-with-SHA256\n",
      "                                30:45:02:21:00:A2:95:44:7C:CA:1A:06:40:CB:4E:B0:\n",
      "                                FB:7D:3F:28:08:A5:46:3B:CE:17:3C:A8:3D:9B:B6:DC:\n",
      "                                8A:F1:5D:99:D5:02:20:41:70:78:68:0C:4F:01:AE:C1:\n",
      "                                AF:B8:BC:D4:B6:84:F7:BF:76:3B:54:A0:17:46:0A:63:\n",
      "                                16:38:DD:4C:7D:2A:5C\n",
      "                Signed Certificate Timestamp:\n",
      "                    Version   : v1 (0x0)\n",
      "                    Log ID    : AD:F7:BE:FA:7C:FF:10:C8:8B:9D:3D:9C:1E:3E:18:6A:\n",
      "                                B4:67:29:5D:CF:B1:0C:24:CA:85:86:34:EB:DC:82:8A\n",
      "                    Timestamp : Jun  1 17:19:56.182 2022 GMT\n",
      "                    Extensions: none\n",
      "                    Signature : ecdsa-with-SHA256\n",
      "                                30:45:02:20:70:EF:42:F6:BB:03:AB:20:8A:36:C1:42:\n",
      "                                A9:F9:4F:F5:70:48:76:76:54:28:E7:7F:B0:83:16:EB:\n",
      "                                33:E7:E4:58:02:21:00:9A:94:0D:57:56:F6:6C:61:7C:\n",
      "                                BB:C8:71:49:82:7E:5C:CE:80:89:31:11:D6:91:50:CB:\n",
      "                                51:CF:AC:70:4C:0F:EC\n",
      "    Signature Algorithm: sha256WithRSAEncryption\n",
      "    Signature Value:\n",
      "        46:98:d3:22:71:17:73:82:d8:51:7c:02:15:9f:7e:c6:82:c4:\n",
      "        16:6c:0f:05:af:e0:d8:d2:62:05:c4:e0:4f:3e:21:a3:ab:4c:\n",
      "        6d:8d:b7:96:ef:ce:b5:22:af:c8:c0:e1:5a:86:24:a4:98:7a:\n",
      "        66:4c:0e:e2:8f:8b:75:24:c1:6a:76:75:d5:d6:9d:79:fa:1d:\n",
      "        b4:05:34:bd:85:50:04:b8:8a:52:5f:5d:ac:03:40:09:91:6b:\n",
      "        39:11:80:7c:ae:3a:67:ce:d3:37:99:a2:a6:58:ac:19:ee:56:\n",
      "        42:02:e0:60:d1:13:ec:e9:07:24:43:44:58:08:93:3d:a3:30:\n",
      "        db:c9:42:33:54:16:f3:ab:60:0c:8e:d3:3b:a3:a7:ab:1f:01:\n",
      "        96:7f:0b:d1:70:2c:6b:32:c9:d2:4f:45:c7:26:c3:a9:9e:c1:\n",
      "        77:37:eb:b0:d3:b8:88:cb:b9:d0:24:82:7a:ce:51:a1:7a:c4:\n",
      "        62:e2:18:0d:3c:0f:63:a1:a5:84:75:be:0b:31:e4:cb:4e:8e:\n",
      "        44:68:61:dd:5f:70:b5:61:b5:2b:e9:4b:1b:e1:1b:0e:6e:06:\n",
      "        8a:eb:ac:2e:3f:3c:0d:7b:54:8f:a4:88:88:bd:f8:3e:81:e0:\n",
      "        a9:f1:d5:09:74:09:44:71:bb:e2:ab:7c:5b:9e:27:8b:38:c1:\n",
      "        1e:97:eb:0e\n"
     ]
    }
   ],
   "source": [
    "!openssl x509 -text -noout -in \"pkilab1.crt\"\n"
   ]
  },
  {
   "cell_type": "markdown",
   "id": "2882bb58-1db9-4903-a4f6-6c89e06fe2fa",
   "metadata": {},
   "source": [
    "Answer for each:\n",
    "* What organization is the certificate for?\n",
    "* Who signed it?\n",
    "* How many months is it valid for?\n",
    "* How large is the key?"
   ]
  },
  {
   "cell_type": "markdown",
   "id": "7b9df0a6-7fd3-44b0-8726-f36f1a82da38",
   "metadata": {},
   "source": [
    "For: \"pkilab1.crt\""
   ]
  },
  {
   "cell_type": "code",
   "execution_count": null,
   "id": "08eb123e-897f-4252-978a-5f4293c2f61b",
   "metadata": {
    "tags": []
   },
   "outputs": [],
   "source": [
    "Internet2\n",
    "USD\n",
    "Mar 9 2023\n",
    "2048"
   ]
  },
  {
   "cell_type": "raw",
   "id": "dd56fae9-fe9c-4160-9c49-0f09e7aa471c",
   "metadata": {},
   "source": [
    "Answer: pkilab1.crt\n",
    "* What organization is the certificate for?Internet2\n",
    "* Who signed it? University of San Diego\n",
    "* How many months is it valid for? Mar 9 2023\n",
    "* How large is the key? 2048 bit"
   ]
  },
  {
   "cell_type": "markdown",
   "id": "e8ba05e0-8510-4f0f-bcbf-490788c21b2f",
   "metadata": {},
   "source": [
    "!openssl x509 -text -noout -in \"pkilab1.crt\"\n",
    "For: \"pkilab2.crt\""
   ]
  },
  {
   "cell_type": "code",
   "execution_count": 6,
   "id": "d607c920-087d-498e-acc6-dfafbb30e34a",
   "metadata": {
    "tags": []
   },
   "outputs": [
    {
     "name": "stdout",
     "output_type": "stream",
     "text": [
      "Certificate:\n",
      "    Data:\n",
      "        Version: 3 (0x2)\n",
      "        Serial Number:\n",
      "            28:89:50:35:87:07:33:5e:40:c0:9a:37:34:36:27:74:0e:c0:07:9c\n",
      "        Signature Algorithm: sha256WithRSAEncryption\n",
      "        Issuer: C = US, ST = California, L = San Jose, O = Netgear, CN = www.routerlogin.net, emailAddress = support@netgear.com\n",
      "        Validity\n",
      "            Not Before: Sep 23 14:59:32 2021 GMT\n",
      "            Not After : Sep 21 14:59:32 2031 GMT\n",
      "        Subject: C = US, ST = California, L = San Jose, O = Netgear, CN = www.routerlogin.net, emailAddress = support@netgear.com\n",
      "        Subject Public Key Info:\n",
      "            Public Key Algorithm: rsaEncryption\n",
      "                Public-Key: (2048 bit)\n",
      "                Modulus:\n",
      "                    00:f7:98:6d:78:0f:d8:0d:81:7d:4f:a1:b4:ca:2d:\n",
      "                    28:48:ac:6e:b5:1b:e7:b7:c2:bb:0c:55:66:c9:df:\n",
      "                    14:d4:7a:85:23:8c:51:c0:a1:3f:4d:6e:9d:70:bc:\n",
      "                    06:ce:f4:ed:ed:63:38:b1:88:9e:25:ae:4f:c0:58:\n",
      "                    fa:50:22:b6:c7:92:84:b3:e3:1d:74:82:dd:93:98:\n",
      "                    85:ab:b8:1d:17:dc:55:82:48:19:ef:49:1e:23:2a:\n",
      "                    d5:89:73:2b:5a:93:0a:f9:76:d2:9c:27:68:58:da:\n",
      "                    b1:71:36:80:8a:06:3e:23:1a:46:98:39:37:ce:5a:\n",
      "                    d6:68:2f:14:0e:5b:8f:00:3a:0a:22:7b:35:e7:84:\n",
      "                    2d:ac:f0:b4:66:61:98:23:5e:14:1d:62:82:a3:21:\n",
      "                    cc:04:66:5a:e0:3f:2c:23:8f:95:d7:ab:59:0f:e7:\n",
      "                    ec:02:2d:30:ab:20:0c:1e:1d:97:b3:01:eb:57:4d:\n",
      "                    cd:4c:4e:e6:ea:ea:6a:9b:05:d4:5b:4f:4b:fa:b0:\n",
      "                    53:a5:af:b7:7b:f1:93:04:96:2d:23:72:40:d9:07:\n",
      "                    98:b8:d1:1d:52:bf:20:41:3a:2e:52:7a:7e:07:81:\n",
      "                    6e:a0:a7:40:ee:e1:a5:ae:88:c2:32:2a:d7:5c:b6:\n",
      "                    f8:3a:db:46:56:bb:17:ea:c5:8f:56:87:05:e4:43:\n",
      "                    b6:f5\n",
      "                Exponent: 65537 (0x10001)\n",
      "        X509v3 extensions:\n",
      "            X509v3 Key Usage: \n",
      "                Digital Signature, Key Encipherment, Data Encipherment\n",
      "            X509v3 Extended Key Usage: \n",
      "                TLS Web Server Authentication, TLS Web Client Authentication\n",
      "            X509v3 Subject Alternative Name: \n",
      "                DNS:www.routerlogin.net, DNS:routerlogin.net, DNS:www.orbilogin.com, DNS:orbilogin.net, DNS:routerlogin.com, DNS:orbilogin.com, DNS:www.routerlogin.com, DNS:www.orbilogin.net\n",
      "    Signature Algorithm: sha256WithRSAEncryption\n",
      "    Signature Value:\n",
      "        3e:28:58:f6:1e:8c:fd:f8:68:e5:13:93:aa:11:46:77:40:b3:\n",
      "        df:d9:a0:f6:89:7e:dc:2b:13:d5:10:28:01:25:b3:eb:49:fc:\n",
      "        d3:35:24:ef:71:8f:e1:e3:21:4c:2e:2f:b1:97:51:82:40:65:\n",
      "        f5:fd:f7:f2:a2:51:ea:71:17:b6:ea:53:1c:43:23:7d:fd:5f:\n",
      "        bb:17:73:4c:f6:29:00:52:63:f9:49:1e:3a:12:8e:05:f2:56:\n",
      "        52:c4:4f:05:b9:bd:f7:9d:74:72:97:2e:c4:a4:60:47:13:19:\n",
      "        c9:1c:0e:6b:b9:79:f8:35:1a:ad:41:2b:9f:ff:1b:be:5b:b2:\n",
      "        2b:c4:ad:f3:89:7f:80:b5:c2:fd:f9:b8:14:7c:3c:a8:3b:c4:\n",
      "        9f:ea:e9:07:ec:9e:63:3d:43:a8:99:bc:87:de:75:80:ca:31:\n",
      "        cf:b5:68:97:89:8d:97:6c:1c:b6:ed:86:b0:e1:9d:5c:20:1e:\n",
      "        80:38:34:4c:c4:f4:3b:96:b8:52:6c:3c:aa:09:1c:fb:b5:c7:\n",
      "        a7:1d:57:03:af:7f:62:7a:f2:b3:d3:96:1e:fc:65:71:65:39:\n",
      "        3e:43:57:8d:07:57:ac:f4:f2:1e:06:6c:86:e6:c9:80:61:da:\n",
      "        52:12:cf:77:ef:d5:5a:61:de:f2:f6:f9:80:1b:1a:31:5a:5d:\n",
      "        7a:dd:72:60\n"
     ]
    }
   ],
   "source": [
    "!openssl x509 -text -noout -in \"pkilab2.crt\"\n"
   ]
  },
  {
   "cell_type": "raw",
   "id": "4ba9889f-b24d-4848-a7a3-629dcab0d87e",
   "metadata": {},
   "source": [
    "Answer: pkilab2.crt\n",
    "* What organization is the certificate for?\n",
    "* Who signed it?\n",
    "* How many months is it valid for?\n",
    "* How large is the key?"
   ]
  },
  {
   "cell_type": "markdown",
   "id": "5003428b-2990-4c53-962a-bb31eab76a60",
   "metadata": {},
   "source": [
    "For: \"pkilab3.crt\""
   ]
  },
  {
   "cell_type": "code",
   "execution_count": 7,
   "id": "f910a7b1-07a0-40da-b9a6-f2f547836719",
   "metadata": {
    "tags": []
   },
   "outputs": [
    {
     "name": "stdout",
     "output_type": "stream",
     "text": [
      "Certificate:\n",
      "    Data:\n",
      "        Version: 3 (0x2)\n",
      "        Serial Number:\n",
      "            3a:20:de:89:f9:cb:aa:6b:48:e8:dd:63:ef:e8:a9:d1\n",
      "        Signature Algorithm: sha256WithRSAEncryption\n",
      "        Issuer: C = US, ST = MI, L = Ann Arbor, O = Internet2, OU = InCommon, CN = InCommon RSA Server CA\n",
      "        Validity\n",
      "            Not Before: Mar  9 00:00:00 2022 GMT\n",
      "            Not After : Mar  9 23:59:59 2023 GMT\n",
      "        Subject: C = US, ST = California, O = University of San Diego, OU = Library & Web Services, CN = www.sandiego.edu\n",
      "        Subject Public Key Info:\n",
      "            Public Key Algorithm: rsaEncryption\n",
      "                Public-Key: (2048 bit)\n",
      "                Modulus:\n",
      "                    00:b5:d0:bf:3d:e7:4c:ce:ca:ae:ea:57:7f:c6:f3:\n",
      "                    36:ba:56:fa:9f:36:98:08:24:c8:0b:21:d8:48:5a:\n",
      "                    97:09:80:50:6d:69:18:18:6e:55:11:b7:8c:94:ce:\n",
      "                    32:43:0f:50:d4:9b:62:62:43:d8:50:35:86:45:d9:\n",
      "                    27:a3:7c:3c:e1:3b:a0:ac:83:a2:6c:e3:ad:05:f9:\n",
      "                    7e:4f:2d:5f:bc:1a:98:d5:05:48:e0:50:37:74:be:\n",
      "                    3e:f9:97:e9:05:c4:5c:45:c8:1b:54:92:93:b5:47:\n",
      "                    4c:47:2d:6c:e4:70:ea:da:a4:ee:7a:12:54:da:7f:\n",
      "                    62:30:25:98:52:dc:b7:02:43:12:99:4e:9e:e1:bc:\n",
      "                    62:4a:45:d4:65:87:25:c6:96:00:55:f6:f8:07:87:\n",
      "                    ee:79:2d:81:36:c5:86:06:f3:13:cb:02:12:15:4f:\n",
      "                    79:15:8c:3d:f6:81:20:57:e7:fd:02:dd:c9:1d:c3:\n",
      "                    56:7e:4a:1d:10:44:b7:5b:91:fd:37:67:f5:cf:a4:\n",
      "                    78:45:0a:07:e8:55:cd:5a:67:7a:74:a3:a1:01:cb:\n",
      "                    ea:56:4a:32:48:78:db:6e:76:61:1e:16:24:1c:e1:\n",
      "                    7e:5b:c5:6b:3c:73:99:94:44:b7:db:2c:ef:a1:69:\n",
      "                    f5:f4:fd:fb:b8:03:1e:2d:ac:c7:1a:99:90:ce:03:\n",
      "                    be:49\n",
      "                Exponent: 65537 (0x10001)\n",
      "        X509v3 extensions:\n",
      "            X509v3 Authority Key Identifier: \n",
      "                1E:05:A3:77:8F:6C:96:E2:5B:87:4B:A6:B4:86:AC:71:00:0C:E7:38\n",
      "            X509v3 Subject Key Identifier: \n",
      "                16:BB:E5:38:F5:EE:05:14:1B:93:6F:82:DB:D4:A3:DC:4D:16:C7:5A\n",
      "            X509v3 Key Usage: critical\n",
      "                Digital Signature, Key Encipherment\n",
      "            X509v3 Basic Constraints: critical\n",
      "                CA:FALSE\n",
      "            X509v3 Extended Key Usage: \n",
      "                TLS Web Server Authentication, TLS Web Client Authentication\n",
      "            X509v3 Certificate Policies: \n",
      "                Policy: 1.3.6.1.4.1.5923.1.4.3.1.1\n",
      "                  CPS: https://www.incommon.org/cert/repository/cps_ssl.pdf\n",
      "                Policy: 2.23.140.1.2.2\n",
      "            X509v3 CRL Distribution Points: \n",
      "                Full Name:\n",
      "                  URI:http://crl.incommon-rsa.org/InCommonRSAServerCA.crl\n",
      "            Authority Information Access: \n",
      "                CA Issuers - URI:http://crt.usertrust.com/InCommonRSAServerCA_2.crt\n",
      "                OCSP - URI:http://ocsp.usertrust.com\n",
      "            CT Precertificate SCTs: \n",
      "                Signed Certificate Timestamp:\n",
      "                    Version   : v1 (0x0)\n",
      "                    Log ID    : AD:F7:BE:FA:7C:FF:10:C8:8B:9D:3D:9C:1E:3E:18:6A:\n",
      "                                B4:67:29:5D:CF:B1:0C:24:CA:85:86:34:EB:DC:82:8A\n",
      "                    Timestamp : Mar  9 23:53:50.665 2022 GMT\n",
      "                    Extensions: none\n",
      "                    Signature : ecdsa-with-SHA256\n",
      "                                30:46:02:21:00:C7:6A:09:BC:29:CF:4F:E3:0C:FB:2F:\n",
      "                                C6:55:1A:97:87:46:09:E9:E4:81:F9:3F:59:5D:ED:09:\n",
      "                                ED:95:31:28:CA:02:21:00:EA:B0:16:3E:FC:13:84:19:\n",
      "                                6A:8D:7B:F4:47:60:82:A1:0D:FE:F3:9E:DC:07:82:C0:\n",
      "                                CA:DF:FE:71:9B:BB:41:6F\n",
      "                Signed Certificate Timestamp:\n",
      "                    Version   : v1 (0x0)\n",
      "                    Log ID    : 7A:32:8C:54:D8:B7:2D:B6:20:EA:38:E0:52:1E:E9:84:\n",
      "                                16:70:32:13:85:4D:3B:D2:2B:C1:3A:57:A3:52:EB:52\n",
      "                    Timestamp : Mar  9 23:53:50.614 2022 GMT\n",
      "                    Extensions: none\n",
      "                    Signature : ecdsa-with-SHA256\n",
      "                                30:45:02:21:00:CB:A9:C0:F0:4A:9D:E4:D1:A3:A5:8B:\n",
      "                                20:1E:82:00:5B:B8:CD:4C:C7:5C:48:17:CE:DA:DB:00:\n",
      "                                8D:11:41:FF:A6:02:20:7F:DE:B6:1C:F0:FE:A8:F9:9D:\n",
      "                                23:77:74:E9:EB:50:50:B0:60:38:ED:F0:CC:68:0F:87:\n",
      "                                4A:32:0F:EE:17:0D:C5\n",
      "                Signed Certificate Timestamp:\n",
      "                    Version   : v1 (0x0)\n",
      "                    Log ID    : E8:3E:D0:DA:3E:F5:06:35:32:E7:57:28:BC:89:6B:C9:\n",
      "                                03:D3:CB:D1:11:6B:EC:EB:69:E1:77:7D:6D:06:BD:6E\n",
      "                    Timestamp : Mar  9 23:53:50.563 2022 GMT\n",
      "                    Extensions: none\n",
      "                    Signature : ecdsa-with-SHA256\n",
      "                                30:44:02:20:5C:46:AE:EC:AA:9B:01:77:98:7D:F2:6E:\n",
      "                                08:39:C2:93:D1:21:C4:2F:A1:2D:35:B1:59:AD:13:BD:\n",
      "                                24:42:9D:2B:02:20:4F:CB:02:21:3E:BD:5C:FB:9C:57:\n",
      "                                CE:80:9A:CD:24:77:7C:49:31:16:B9:E1:0D:B1:1F:16:\n",
      "                                69:DB:13:CE:2F:2F\n",
      "            X509v3 Subject Alternative Name: \n",
      "                DNS:www.sandiego.edu, DNS:bmre.sandiego.edu, DNS:business.sandiego.edu, DNS:charactermatters.sandiego.edu, DNS:gme.sandiego.edu, DNS:ims.sandiego.edu, DNS:itunes.sandiego.edu, DNS:law.sandiego.edu, DNS:leadership.sandiego.edu, DNS:library.sandiego.edu, DNS:marian.sandiego.edu, DNS:mobileprint.sandiego.edu, DNS:peace.sandiego.edu, DNS:sandiego.edu, DNS:sdclimatecollaborative.org, DNS:sibc.sandiego.edu, DNS:usdnow.sandiego.edu, DNS:web3.sandiego.edu, DNS:www-real2.sandiego.edu\n",
      "    Signature Algorithm: sha256WithRSAEncryption\n",
      "    Signature Value:\n",
      "        08:65:a9:da:10:9c:43:d9:e5:3e:f8:94:ff:52:10:1b:6c:3f:\n",
      "        64:67:0f:f6:54:9b:bc:d6:21:bc:1c:de:96:37:78:3c:eb:64:\n",
      "        85:31:47:1f:d7:e3:8f:ba:ba:0c:77:ab:73:c0:9e:58:14:db:\n",
      "        7e:fc:e7:93:39:34:6e:d5:2f:f5:e2:62:e1:75:35:c8:23:46:\n",
      "        ac:3f:da:cd:6b:3b:6b:23:29:92:1d:01:76:23:c7:7c:20:36:\n",
      "        39:78:64:56:1b:1b:70:3b:3a:00:8e:3d:3c:ac:bc:db:f2:06:\n",
      "        10:78:d7:e6:1b:75:27:0e:eb:74:da:a4:3a:11:9c:ae:ef:fa:\n",
      "        2d:79:02:61:7b:86:c7:e9:ee:cf:58:c6:be:f1:be:52:57:55:\n",
      "        b6:5d:7b:a6:08:ef:0c:45:95:5a:48:4c:62:ba:26:72:80:36:\n",
      "        71:22:22:23:01:ee:46:70:56:d2:af:28:49:da:41:4a:02:ad:\n",
      "        e7:28:05:64:18:b6:a2:d8:4d:a5:4c:35:32:b0:41:6b:77:c1:\n",
      "        e7:30:b1:33:19:ee:7a:c0:26:49:dc:47:91:0d:8f:97:0c:25:\n",
      "        1c:2e:54:96:cb:78:c5:30:39:3c:66:d3:9f:c1:ee:03:bd:12:\n",
      "        ef:da:39:5c:83:0b:3e:56:94:b7:13:92:9a:eb:64:88:eb:be:\n",
      "        1e:e5:78:1c\n"
     ]
    }
   ],
   "source": [
    "!openssl x509 -text -noout -in \"pkilab3.crt\"\n"
   ]
  },
  {
   "cell_type": "raw",
   "id": "ddfb979b-f9d3-45b6-9544-c389a944d03d",
   "metadata": {},
   "source": [
    "Answer: pkilab3.crt\n",
    "* What organization is the certificate for?\n",
    "* Who signed it?\n",
    "* How many months is it valid for?\n",
    "* How large is the key?"
   ]
  },
  {
   "cell_type": "markdown",
   "id": "e620cb8c-2cce-4560-87b6-54ae84ea4ec3",
   "metadata": {},
   "source": [
    "## Subject Alternative Names\n",
    "\n",
    "The Subject Alternative Name (SAN) section of an x509 certificate is an extension that allows additional, alternative identities to be associated with the subject of the certificate. These identities can be in the form of IP addresses, DNS names, email addresses, and so on. The SAN section can be used to specify multiple identities for a single certificate, which allows for more efficient use of certificates, as well as greater flexibility in the deployment of secure servers. It also eliminates the need for multiple IP-based certificates for a single server.\n",
    "\n",
    "If you examine these certificates, you'll see the \"Subject Alternative Names\" (SAN) section. \n",
    "\n",
    "In any of the certificates, are any of the server names on different domains? If so, which certificate(s) and which domains?"
   ]
  },
  {
   "cell_type": "raw",
   "id": "3c5b4366-d354-40ea-bec3-397979f90783",
   "metadata": {},
   "source": [
    "Answer: DNS:www.sandiego.edu, DNS:bmre.sandiego.edu, DNS:business.sandiego.edu, DNS:charactermatters.sandiego.edu, DNS:gme.sandiego.edu, DNS:ims.sandiego.edu, DNS:itunes.sandiego.edu, DNS:law.sandiego.edu, DNS:leadership.sandiego.edu, DNS:library.sandiego.edu, DNS:marian.sandiego.edu, DNS:mobileprint.sandiego.edu, DNS:peace.sandiego.edu, DNS:sandiego.edu, DNS:sdclimatecollaborative.org, DNS:sibc.sandiego.edu, DNS:usdnow.sandiego.edu, DNS:web3.sandiego.edu, DNS:www-real2.sandiego.edu\n"
   ]
  },
  {
   "cell_type": "markdown",
   "id": "06b72a74-9030-43b8-aaa1-2e4693f9a7d7",
   "metadata": {},
   "source": [
    "## Installed Certificates\n",
    "\n",
    "Your computer has many saved certificates installed. These may be for your web browser or the system itself. These are used to validate other certificates. \n",
    "\n",
    "The common location for them in on Linux is /usr/share/ca-certificates/mozilla/. Each is an individual file.\n",
    "\n",
    "Take a look the list of files in your certificates directory. Get a feel for how many and the organizations present."
   ]
  },
  {
   "cell_type": "code",
   "execution_count": 8,
   "id": "83d11ec2-d39a-4e6c-9350-e92246697e03",
   "metadata": {
    "tags": []
   },
   "outputs": [
    {
     "name": "stdout",
     "output_type": "stream",
     "text": [
      " /usr/share/ca-certificates/mozilla/ACCVRAIZ1.crt\n",
      " /usr/share/ca-certificates/mozilla/AC_RAIZ_FNMT-RCM.crt\n",
      " /usr/share/ca-certificates/mozilla/AC_RAIZ_FNMT-RCM_SERVIDORES_SEGUROS.crt\n",
      " /usr/share/ca-certificates/mozilla/ANF_Secure_Server_Root_CA.crt\n",
      " /usr/share/ca-certificates/mozilla/Actalis_Authentication_Root_CA.crt\n",
      " /usr/share/ca-certificates/mozilla/AffirmTrust_Commercial.crt\n",
      " /usr/share/ca-certificates/mozilla/AffirmTrust_Networking.crt\n",
      " /usr/share/ca-certificates/mozilla/AffirmTrust_Premium.crt\n",
      " /usr/share/ca-certificates/mozilla/AffirmTrust_Premium_ECC.crt\n",
      " /usr/share/ca-certificates/mozilla/Amazon_Root_CA_1.crt\n",
      " /usr/share/ca-certificates/mozilla/Amazon_Root_CA_2.crt\n",
      " /usr/share/ca-certificates/mozilla/Amazon_Root_CA_3.crt\n",
      " /usr/share/ca-certificates/mozilla/Amazon_Root_CA_4.crt\n",
      " /usr/share/ca-certificates/mozilla/Atos_TrustedRoot_2011.crt\n",
      " /usr/share/ca-certificates/mozilla/Autoridad_de_Certificacion_Firmaprofesional_CIF_A62634068.crt\n",
      " /usr/share/ca-certificates/mozilla/Baltimore_CyberTrust_Root.crt\n",
      " /usr/share/ca-certificates/mozilla/Buypass_Class_2_Root_CA.crt\n",
      " /usr/share/ca-certificates/mozilla/Buypass_Class_3_Root_CA.crt\n",
      " /usr/share/ca-certificates/mozilla/CA_Disig_Root_R2.crt\n",
      " /usr/share/ca-certificates/mozilla/CFCA_EV_ROOT.crt\n",
      " /usr/share/ca-certificates/mozilla/COMODO_Certification_Authority.crt\n",
      " /usr/share/ca-certificates/mozilla/COMODO_ECC_Certification_Authority.crt\n",
      " /usr/share/ca-certificates/mozilla/COMODO_RSA_Certification_Authority.crt\n",
      " /usr/share/ca-certificates/mozilla/Certigna.crt\n",
      " /usr/share/ca-certificates/mozilla/Certigna_Root_CA.crt\n",
      " /usr/share/ca-certificates/mozilla/Certum_EC-384_CA.crt\n",
      " /usr/share/ca-certificates/mozilla/Certum_Trusted_Network_CA.crt\n",
      " /usr/share/ca-certificates/mozilla/Certum_Trusted_Network_CA_2.crt\n",
      " /usr/share/ca-certificates/mozilla/Certum_Trusted_Root_CA.crt\n",
      " /usr/share/ca-certificates/mozilla/Comodo_AAA_Services_root.crt\n",
      " /usr/share/ca-certificates/mozilla/Cybertrust_Global_Root.crt\n",
      " /usr/share/ca-certificates/mozilla/D-TRUST_Root_Class_3_CA_2_2009.crt\n",
      " /usr/share/ca-certificates/mozilla/D-TRUST_Root_Class_3_CA_2_EV_2009.crt\n",
      " /usr/share/ca-certificates/mozilla/DigiCert_Assured_ID_Root_CA.crt\n",
      " /usr/share/ca-certificates/mozilla/DigiCert_Assured_ID_Root_G2.crt\n",
      " /usr/share/ca-certificates/mozilla/DigiCert_Assured_ID_Root_G3.crt\n",
      " /usr/share/ca-certificates/mozilla/DigiCert_Global_Root_CA.crt\n",
      " /usr/share/ca-certificates/mozilla/DigiCert_Global_Root_G2.crt\n",
      " /usr/share/ca-certificates/mozilla/DigiCert_Global_Root_G3.crt\n",
      " /usr/share/ca-certificates/mozilla/DigiCert_High_Assurance_EV_Root_CA.crt\n",
      " /usr/share/ca-certificates/mozilla/DigiCert_Trusted_Root_G4.crt\n",
      " /usr/share/ca-certificates/mozilla/E-Tugra_Certification_Authority.crt\n",
      " /usr/share/ca-certificates/mozilla/EC-ACC.crt\n",
      " /usr/share/ca-certificates/mozilla/Entrust.net_Premium_2048_Secure_Server_CA.crt\n",
      " /usr/share/ca-certificates/mozilla/Entrust_Root_Certification_Authority.crt\n",
      " /usr/share/ca-certificates/mozilla/Entrust_Root_Certification_Authority_-_EC1.crt\n",
      " /usr/share/ca-certificates/mozilla/Entrust_Root_Certification_Authority_-_G2.crt\n",
      " /usr/share/ca-certificates/mozilla/Entrust_Root_Certification_Authority_-_G4.crt\n",
      " /usr/share/ca-certificates/mozilla/GDCA_TrustAUTH_R5_ROOT.crt\n",
      " /usr/share/ca-certificates/mozilla/GLOBALTRUST_2020.crt\n",
      " /usr/share/ca-certificates/mozilla/GTS_Root_R1.crt\n",
      " /usr/share/ca-certificates/mozilla/GTS_Root_R2.crt\n",
      " /usr/share/ca-certificates/mozilla/GTS_Root_R3.crt\n",
      " /usr/share/ca-certificates/mozilla/GTS_Root_R4.crt\n",
      " /usr/share/ca-certificates/mozilla/GlobalSign_ECC_Root_CA_-_R4.crt\n",
      " /usr/share/ca-certificates/mozilla/GlobalSign_ECC_Root_CA_-_R5.crt\n",
      " /usr/share/ca-certificates/mozilla/GlobalSign_Root_CA.crt\n",
      " /usr/share/ca-certificates/mozilla/GlobalSign_Root_CA_-_R2.crt\n",
      " /usr/share/ca-certificates/mozilla/GlobalSign_Root_CA_-_R3.crt\n",
      " /usr/share/ca-certificates/mozilla/GlobalSign_Root_CA_-_R6.crt\n",
      " /usr/share/ca-certificates/mozilla/GlobalSign_Root_E46.crt\n",
      " /usr/share/ca-certificates/mozilla/GlobalSign_Root_R46.crt\n",
      " /usr/share/ca-certificates/mozilla/Go_Daddy_Class_2_CA.crt\n",
      " /usr/share/ca-certificates/mozilla/Go_Daddy_Root_Certificate_Authority_-_G2.crt\n",
      " /usr/share/ca-certificates/mozilla/Hellenic_Academic_and_Research_Institutions_ECC_RootCA_2015.crt\n",
      " /usr/share/ca-certificates/mozilla/Hellenic_Academic_and_Research_Institutions_RootCA_2011.crt\n",
      " /usr/share/ca-certificates/mozilla/Hellenic_Academic_and_Research_Institutions_RootCA_2015.crt\n",
      " /usr/share/ca-certificates/mozilla/Hongkong_Post_Root_CA_1.crt\n",
      " /usr/share/ca-certificates/mozilla/Hongkong_Post_Root_CA_3.crt\n",
      " /usr/share/ca-certificates/mozilla/ISRG_Root_X1.crt\n",
      " /usr/share/ca-certificates/mozilla/IdenTrust_Commercial_Root_CA_1.crt\n",
      " /usr/share/ca-certificates/mozilla/IdenTrust_Public_Sector_Root_CA_1.crt\n",
      " /usr/share/ca-certificates/mozilla/Izenpe.com.crt\n",
      " /usr/share/ca-certificates/mozilla/Microsec_e-Szigno_Root_CA_2009.crt\n",
      " /usr/share/ca-certificates/mozilla/Microsoft_ECC_Root_Certificate_Authority_2017.crt\n",
      " /usr/share/ca-certificates/mozilla/Microsoft_RSA_Root_Certificate_Authority_2017.crt\n",
      " /usr/share/ca-certificates/mozilla/NAVER_Global_Root_Certification_Authority.crt\n",
      "'/usr/share/ca-certificates/mozilla/NetLock_Arany_=Class_Gold=_Főtanúsítvány.crt'\n",
      " /usr/share/ca-certificates/mozilla/Network_Solutions_Certificate_Authority.crt\n",
      " /usr/share/ca-certificates/mozilla/OISTE_WISeKey_Global_Root_GB_CA.crt\n",
      " /usr/share/ca-certificates/mozilla/OISTE_WISeKey_Global_Root_GC_CA.crt\n",
      " /usr/share/ca-certificates/mozilla/QuoVadis_Root_CA_1_G3.crt\n",
      " /usr/share/ca-certificates/mozilla/QuoVadis_Root_CA_2.crt\n",
      " /usr/share/ca-certificates/mozilla/QuoVadis_Root_CA_2_G3.crt\n",
      " /usr/share/ca-certificates/mozilla/QuoVadis_Root_CA_3.crt\n",
      " /usr/share/ca-certificates/mozilla/QuoVadis_Root_CA_3_G3.crt\n",
      " /usr/share/ca-certificates/mozilla/SSL.com_EV_Root_Certification_Authority_ECC.crt\n",
      " /usr/share/ca-certificates/mozilla/SSL.com_EV_Root_Certification_Authority_RSA_R2.crt\n",
      " /usr/share/ca-certificates/mozilla/SSL.com_Root_Certification_Authority_ECC.crt\n",
      " /usr/share/ca-certificates/mozilla/SSL.com_Root_Certification_Authority_RSA.crt\n",
      " /usr/share/ca-certificates/mozilla/SZAFIR_ROOT_CA2.crt\n",
      " /usr/share/ca-certificates/mozilla/SecureSign_RootCA11.crt\n",
      " /usr/share/ca-certificates/mozilla/SecureTrust_CA.crt\n",
      " /usr/share/ca-certificates/mozilla/Secure_Global_CA.crt\n",
      " /usr/share/ca-certificates/mozilla/Security_Communication_RootCA2.crt\n",
      " /usr/share/ca-certificates/mozilla/Security_Communication_Root_CA.crt\n",
      " /usr/share/ca-certificates/mozilla/Staat_der_Nederlanden_EV_Root_CA.crt\n",
      " /usr/share/ca-certificates/mozilla/Starfield_Class_2_CA.crt\n",
      " /usr/share/ca-certificates/mozilla/Starfield_Root_Certificate_Authority_-_G2.crt\n",
      " /usr/share/ca-certificates/mozilla/Starfield_Services_Root_Certificate_Authority_-_G2.crt\n",
      " /usr/share/ca-certificates/mozilla/SwissSign_Gold_CA_-_G2.crt\n",
      " /usr/share/ca-certificates/mozilla/SwissSign_Silver_CA_-_G2.crt\n",
      " /usr/share/ca-certificates/mozilla/T-TeleSec_GlobalRoot_Class_2.crt\n",
      " /usr/share/ca-certificates/mozilla/T-TeleSec_GlobalRoot_Class_3.crt\n",
      " /usr/share/ca-certificates/mozilla/TUBITAK_Kamu_SM_SSL_Kok_Sertifikasi_-_Surum_1.crt\n",
      " /usr/share/ca-certificates/mozilla/TWCA_Global_Root_CA.crt\n",
      " /usr/share/ca-certificates/mozilla/TWCA_Root_Certification_Authority.crt\n",
      " /usr/share/ca-certificates/mozilla/TeliaSonera_Root_CA_v1.crt\n",
      " /usr/share/ca-certificates/mozilla/Trustwave_Global_Certification_Authority.crt\n",
      " /usr/share/ca-certificates/mozilla/Trustwave_Global_ECC_P256_Certification_Authority.crt\n",
      " /usr/share/ca-certificates/mozilla/Trustwave_Global_ECC_P384_Certification_Authority.crt\n",
      " /usr/share/ca-certificates/mozilla/UCA_Extended_Validation_Root.crt\n",
      " /usr/share/ca-certificates/mozilla/UCA_Global_G2_Root.crt\n",
      " /usr/share/ca-certificates/mozilla/USERTrust_ECC_Certification_Authority.crt\n",
      " /usr/share/ca-certificates/mozilla/USERTrust_RSA_Certification_Authority.crt\n",
      " /usr/share/ca-certificates/mozilla/XRamp_Global_CA_Root.crt\n",
      " /usr/share/ca-certificates/mozilla/certSIGN_ROOT_CA.crt\n",
      " /usr/share/ca-certificates/mozilla/certSIGN_Root_CA_G2.crt\n",
      " /usr/share/ca-certificates/mozilla/e-Szigno_Root_CA_2017.crt\n",
      " /usr/share/ca-certificates/mozilla/ePKI_Root_Certification_Authority.crt\n",
      " /usr/share/ca-certificates/mozilla/emSign_ECC_Root_CA_-_C3.crt\n",
      " /usr/share/ca-certificates/mozilla/emSign_ECC_Root_CA_-_G3.crt\n",
      " /usr/share/ca-certificates/mozilla/emSign_Root_CA_-_C1.crt\n",
      " /usr/share/ca-certificates/mozilla/emSign_Root_CA_-_G1.crt\n"
     ]
    }
   ],
   "source": [
    "!ls /usr/share/ca-certificates/mozilla/*"
   ]
  },
  {
   "cell_type": "markdown",
   "id": "373b6821-c7ec-4d4c-9a23-fc4427de9377",
   "metadata": {},
   "source": [
    "How many certificates are there? <br>\n",
    "&nbsp;&nbsp;&nbsp;&nbsp; *hint: `wc -l` gives you the number of lines output, e.g. `ll | wc -l`*"
   ]
  },
  {
   "cell_type": "code",
   "execution_count": 11,
   "id": "3d2555d5-3ad8-4c20-baa1-6733d26b8178",
   "metadata": {
    "tags": []
   },
   "outputs": [
    {
     "name": "stdout",
     "output_type": "stream",
     "text": [
      "124\n"
     ]
    }
   ],
   "source": [
    "!ls /usr/share/ca-certificates/mozilla/ | wc -l"
   ]
  },
  {
   "cell_type": "raw",
   "id": "afd989e3-edca-47d4-ad29-db986f9c5ca7",
   "metadata": {},
   "source": [
    "Answer:"
   ]
  },
  {
   "cell_type": "markdown",
   "id": "b4d0aab7-12c4-4b0e-91ee-9aec96f7d809",
   "metadata": {},
   "source": [
    "How many are expired?"
   ]
  },
  {
   "cell_type": "code",
   "execution_count": 14,
   "id": "e0b3ed4e-f2e8-4a9b-9909-85a41040d49c",
   "metadata": {
    "tags": []
   },
   "outputs": [
    {
     "name": "stdout",
     "output_type": "stream",
     "text": [
      "0\n"
     ]
    }
   ],
   "source": [
    "!find /usr/share/ca-certificates/mozilla/ -iname \"*.crt\" -exec openssl x509 -enddate -noout -in {} \\; | grep -B1 \"Certificate\" | grep \"notAfter\" | while read -r line ; do expiry_date=$(echo \"$line\" | cut -d= -f 2); expiry_epoch=$(date -d \"$expiry_date\" +%s); current_epoch=$(date +%s); if [ \"$expiry_epoch\" -lt \"$current_epoch\" ]; then echo \"$line\"; fi; done | wc -l"
   ]
  },
  {
   "cell_type": "markdown",
   "id": "011e97f6-b75a-4f64-b990-8ff49becd619",
   "metadata": {
    "tags": []
   },
   "source": [
    "Hint: example bash shell template to extract expiration date information:\n",
    "\n",
    "<code>for F in _path_to_certificate_files_ ; do _openssl_cmd_to_decode_certificates_ -in $F ; done | grep \"Not After\" | cut -d: -f2- | sort -k7 | head\n",
    "</code><br>\n",
    "*note: be aware of lines that do not parse properly and take those into consideration*"
   ]
  },
  {
   "cell_type": "code",
   "execution_count": 17,
   "id": "c156fee4-99a0-433c-a855-e05fa4b2f386",
   "metadata": {
    "tags": []
   },
   "outputs": [
    {
     "name": "stdout",
     "output_type": "stream",
     "text": [
      "notBefore=Jun  1 17:19:55 2022 GMT\n",
      "notAfter=Jun 30 17:19:55 2023 GMT\n",
      "notBefore=Sep 23 14:59:32 2021 GMT\n",
      "notAfter=Sep 21 14:59:32 2031 GMT\n",
      "notBefore=Mar  9 00:00:00 2022 GMT\n",
      "notAfter=Mar  9 23:59:59 2023 GMT\n"
     ]
    }
   ],
   "source": [
    "!for file in *.crt; do openssl x509 -noout -dates -in \"$file\"; done"
   ]
  },
  {
   "cell_type": "raw",
   "id": "6f79227d-d4ff-44fe-9e2b-5742e35c40fc",
   "metadata": {},
   "source": [
    "Answer:"
   ]
  },
  {
   "cell_type": "markdown",
   "id": "26aa1604-9e77-4402-81bb-6e6bff605488",
   "metadata": {},
   "source": [
    "Look at the range of signature algorithms used."
   ]
  },
  {
   "cell_type": "markdown",
   "id": "6e9de5e6-fe60-4945-bee2-4bf8c5bfecb4",
   "metadata": {
    "tags": []
   },
   "source": [
    "Hint: This can be done by searching through all the decoded certificates for the lines where the signature algorithm is used.\n",
    "1. Look back at the decoded certificates. What text in the decoded certificate holds the signature algorithm?\n",
    "1. How did we do something similar before?\n",
    "1. The bash command <code>cut -d <i>delimeter</i> -f <i>fields</i></code> lets you extract portions of output. The delimiter is the character that separates fields.\n",
    "1. `sort` sorts the output\n",
    "1. `uniq` returns the number of unique values. Adding the `-c` option also returns the count of each. The list must be sorted for uniq to work.<br><br>\n",
    "e.g., <code>for F in <i>path_to_certificate_files</i> ; do <i>openssl_cmd_to_decode_certificates</i> -in $F ; done | grep \"<i>text_to_match</i>\" | cut -d: -f2 | sort | uniq -c</code>"
   ]
  },
  {
   "cell_type": "code",
   "execution_count": 27,
   "id": "d0d33520-d385-441a-aa90-5a62846d525c",
   "metadata": {
    "tags": []
   },
   "outputs": [
    {
     "name": "stdout",
     "output_type": "stream",
     "text": [
      "pkilab1.crt\n",
      "sha256WithRSAEncryption\n",
      "sha256WithRSAEncryption\n",
      "pkilab2.crt\n",
      "sha256WithRSAEncryption\n",
      "sha256WithRSAEncryption\n",
      "pkilab3.crt\n",
      "sha256WithRSAEncryption\n",
      "sha256WithRSAEncryption\n"
     ]
    }
   ],
   "source": [
    "!for file2 in *.crt; do echo \"$file2\"; openssl x509 -in \"$file2\" -text -noout | awk -F': ' '/Signature Algorithm/{print $2}'; done"
   ]
  },
  {
   "cell_type": "code",
   "execution_count": 18,
   "id": "23297ff3-a5c6-4f2c-bd6b-8ba13ab60dcd",
   "metadata": {
    "tags": []
   },
   "outputs": [
    {
     "name": "stdout",
     "output_type": "stream",
     "text": [
      "Certificate:\n",
      "    Data:\n",
      "        Version: 3 (0x2)\n",
      "        Serial Number:\n",
      "            6c:b9:c7:15:48:42:d6:f0:58:81:27:3a:12:47:ae:01\n",
      "        Signature Algorithm: sha256WithRSAEncryption\n",
      "        Issuer: C = US, O = \"Entrust, Inc.\", OU = See www.entrust.net/legal-terms, OU = \"(c) 2012 Entrust, Inc. - for authorized use only\", CN = Entrust Certification Authority - L1K\n",
      "        Validity\n",
      "            Not Before: Jun  1 17:19:55 2022 GMT\n",
      "            Not After : Jun 30 17:19:55 2023 GMT\n",
      "        Subject: C = US, ST = District of Columbia, L = Washington, O = U.S. Department of Justice, CN = usdoj.gov\n",
      "        Subject Public Key Info:\n",
      "            Public Key Algorithm: rsaEncryption\n",
      "                Public-Key: (4096 bit)\n",
      "                Modulus:\n",
      "                    00:c3:b2:bd:f0:ee:c7:0b:a7:c0:0e:0e:1e:b0:25:\n",
      "                    78:63:8c:2e:46:8b:04:5f:c5:92:2c:8b:ab:29:21:\n",
      "                    dd:47:52:da:56:4e:8a:54:7c:5e:ab:0e:b3:ad:26:\n",
      "                    73:be:db:0e:3f:a0:d2:47:05:1d:32:20:3b:ba:2a:\n",
      "                    b7:8c:e8:ca:7e:0a:37:b4:7c:18:44:07:67:ee:84:\n",
      "                    0b:a2:60:99:a0:30:53:c0:c2:80:42:71:c1:75:d3:\n",
      "                    86:dc:dc:fd:ae:ca:89:80:c2:46:6b:81:c1:c8:3a:\n",
      "                    04:a7:20:af:42:03:04:1e:bf:ff:25:aa:be:7f:ba:\n",
      "                    4c:1c:be:eb:f4:ae:2c:9a:01:08:44:8f:57:6c:39:\n",
      "                    e6:aa:2a:60:d9:fa:1f:97:1e:d1:65:1f:0d:d2:5b:\n",
      "                    cf:f2:4d:67:93:88:f2:31:58:24:42:a1:49:79:6c:\n",
      "                    31:8d:13:b2:65:29:9b:ce:9b:4e:1b:bc:c7:d3:82:\n",
      "                    ce:e8:c4:6c:99:e8:05:81:f2:4e:0c:e3:56:a4:f8:\n",
      "                    e0:b6:2c:c8:2b:f5:13:2d:9d:27:e7:3b:37:7f:6d:\n",
      "                    96:f3:8d:1f:3e:69:f2:39:a6:8a:f7:07:38:69:46:\n",
      "                    70:5e:62:ab:4f:d7:50:af:c1:0c:7b:21:af:c7:4d:\n",
      "                    ec:a5:a6:20:42:84:d7:67:81:a3:01:53:2b:01:03:\n",
      "                    db:46:8a:ed:26:73:21:14:63:4e:b5:e4:01:3b:44:\n",
      "                    d4:59:bf:9a:05:30:56:b6:a6:b2:57:24:2f:ed:cf:\n",
      "                    6b:12:97:b3:27:c2:3b:4b:1f:2f:1c:37:c7:d5:88:\n",
      "                    3e:5d:7d:37:f1:5f:b1:fc:02:ea:ac:33:23:06:db:\n",
      "                    e0:56:c8:3a:f4:17:03:56:93:bd:ed:91:d9:1c:2c:\n",
      "                    15:04:54:dc:11:df:c8:f7:45:56:b5:3c:c7:72:c8:\n",
      "                    67:c9:29:dd:4d:72:b1:85:3b:bb:82:9b:29:75:db:\n",
      "                    06:2a:ac:78:fe:59:f2:1a:e4:b1:0d:26:d1:ae:fb:\n",
      "                    22:4a:ab:91:ea:70:3d:20:d4:08:3d:62:03:c4:65:\n",
      "                    53:81:f9:c8:45:7d:56:87:fe:a2:28:3c:af:29:68:\n",
      "                    cc:37:86:7a:43:ee:74:84:f1:ce:fd:d3:7f:cd:7b:\n",
      "                    18:f8:c6:e9:b8:10:d8:18:88:fa:12:f1:e6:a9:07:\n",
      "                    74:80:c2:ee:f9:9f:4b:53:b7:c4:7f:8a:67:42:7f:\n",
      "                    da:e8:83:c7:1c:d3:f0:ee:17:0a:ba:12:ea:2a:3d:\n",
      "                    38:f7:21:3e:fe:0a:9a:df:f6:92:2f:16:04:4c:b3:\n",
      "                    37:77:0a:fa:39:2c:b5:a1:be:85:58:58:af:29:2b:\n",
      "                    ea:6c:2c:f7:8f:59:8f:ee:df:e6:9a:c2:60:f9:9b:\n",
      "                    58:10:bd\n",
      "                Exponent: 65537 (0x10001)\n",
      "        X509v3 extensions:\n",
      "            X509v3 Basic Constraints: critical\n",
      "                CA:FALSE\n",
      "            X509v3 Subject Key Identifier: \n",
      "                68:E6:C5:ED:8C:3A:5B:4B:79:1A:5B:F6:0C:03:4B:D9:B7:09:00:7E\n",
      "            X509v3 Authority Key Identifier: \n",
      "                82:A2:70:74:DD:BC:53:3F:CF:7B:D4:F7:CD:7F:A7:60:C6:0A:4C:BF\n",
      "            Authority Information Access: \n",
      "                OCSP - URI:http://ocsp.entrust.net\n",
      "                CA Issuers - URI:http://aia.entrust.net/l1k-chain256.cer\n",
      "            X509v3 CRL Distribution Points: \n",
      "                Full Name:\n",
      "                  URI:http://crl.entrust.net/level1k.crl\n",
      "            X509v3 Subject Alternative Name: \n",
      "                DNS:usdoj.gov, DNS:www.usdoj.gov\n",
      "            X509v3 Key Usage: critical\n",
      "                Digital Signature, Key Encipherment\n",
      "            X509v3 Extended Key Usage: \n",
      "                TLS Web Server Authentication, TLS Web Client Authentication\n",
      "            X509v3 Certificate Policies: \n",
      "                Policy: 2.16.840.1.114028.10.1.5\n",
      "                  CPS: https://www.entrust.net/rpa\n",
      "                Policy: 2.23.140.1.2.2\n",
      "            CT Precertificate SCTs: \n",
      "                Signed Certificate Timestamp:\n",
      "                    Version   : v1 (0x0)\n",
      "                    Log ID    : 55:81:D4:C2:16:90:36:01:4A:EA:0B:9B:57:3C:53:F0:\n",
      "                                C0:E4:38:78:70:25:08:17:2F:A3:AA:1D:07:13:D3:0C\n",
      "                    Timestamp : Jun  1 17:19:56.176 2022 GMT\n",
      "                    Extensions: none\n",
      "                    Signature : ecdsa-with-SHA256\n",
      "                                30:46:02:21:00:94:8D:7B:41:36:B9:BD:94:0F:AA:06:\n",
      "                                7F:B8:FD:45:D4:12:9B:47:84:B8:6B:37:52:1B:8E:8E:\n",
      "                                0E:D4:D0:6E:17:02:21:00:BD:5C:D4:C9:1F:60:1C:8D:\n",
      "                                2B:71:CE:F6:21:A7:C7:6F:7E:96:0F:FE:F5:A1:83:AE:\n",
      "                                AA:E0:94:35:64:9A:39:28\n",
      "                Signed Certificate Timestamp:\n",
      "                    Version   : v1 (0x0)\n",
      "                    Log ID    : B3:73:77:07:E1:84:50:F8:63:86:D6:05:A9:DC:11:09:\n",
      "                                4A:79:2D:B1:67:0C:0B:87:DC:F0:03:0E:79:36:A5:9A\n",
      "                    Timestamp : Jun  1 17:19:56.173 2022 GMT\n",
      "                    Extensions: none\n",
      "                    Signature : ecdsa-with-SHA256\n",
      "                                30:45:02:21:00:A2:95:44:7C:CA:1A:06:40:CB:4E:B0:\n",
      "                                FB:7D:3F:28:08:A5:46:3B:CE:17:3C:A8:3D:9B:B6:DC:\n",
      "                                8A:F1:5D:99:D5:02:20:41:70:78:68:0C:4F:01:AE:C1:\n",
      "                                AF:B8:BC:D4:B6:84:F7:BF:76:3B:54:A0:17:46:0A:63:\n",
      "                                16:38:DD:4C:7D:2A:5C\n",
      "                Signed Certificate Timestamp:\n",
      "                    Version   : v1 (0x0)\n",
      "                    Log ID    : AD:F7:BE:FA:7C:FF:10:C8:8B:9D:3D:9C:1E:3E:18:6A:\n",
      "                                B4:67:29:5D:CF:B1:0C:24:CA:85:86:34:EB:DC:82:8A\n",
      "                    Timestamp : Jun  1 17:19:56.182 2022 GMT\n",
      "                    Extensions: none\n",
      "                    Signature : ecdsa-with-SHA256\n",
      "                                30:45:02:20:70:EF:42:F6:BB:03:AB:20:8A:36:C1:42:\n",
      "                                A9:F9:4F:F5:70:48:76:76:54:28:E7:7F:B0:83:16:EB:\n",
      "                                33:E7:E4:58:02:21:00:9A:94:0D:57:56:F6:6C:61:7C:\n",
      "                                BB:C8:71:49:82:7E:5C:CE:80:89:31:11:D6:91:50:CB:\n",
      "                                51:CF:AC:70:4C:0F:EC\n",
      "    Signature Algorithm: sha256WithRSAEncryption\n",
      "    Signature Value:\n",
      "        46:98:d3:22:71:17:73:82:d8:51:7c:02:15:9f:7e:c6:82:c4:\n",
      "        16:6c:0f:05:af:e0:d8:d2:62:05:c4:e0:4f:3e:21:a3:ab:4c:\n",
      "        6d:8d:b7:96:ef:ce:b5:22:af:c8:c0:e1:5a:86:24:a4:98:7a:\n",
      "        66:4c:0e:e2:8f:8b:75:24:c1:6a:76:75:d5:d6:9d:79:fa:1d:\n",
      "        b4:05:34:bd:85:50:04:b8:8a:52:5f:5d:ac:03:40:09:91:6b:\n",
      "        39:11:80:7c:ae:3a:67:ce:d3:37:99:a2:a6:58:ac:19:ee:56:\n",
      "        42:02:e0:60:d1:13:ec:e9:07:24:43:44:58:08:93:3d:a3:30:\n",
      "        db:c9:42:33:54:16:f3:ab:60:0c:8e:d3:3b:a3:a7:ab:1f:01:\n",
      "        96:7f:0b:d1:70:2c:6b:32:c9:d2:4f:45:c7:26:c3:a9:9e:c1:\n",
      "        77:37:eb:b0:d3:b8:88:cb:b9:d0:24:82:7a:ce:51:a1:7a:c4:\n",
      "        62:e2:18:0d:3c:0f:63:a1:a5:84:75:be:0b:31:e4:cb:4e:8e:\n",
      "        44:68:61:dd:5f:70:b5:61:b5:2b:e9:4b:1b:e1:1b:0e:6e:06:\n",
      "        8a:eb:ac:2e:3f:3c:0d:7b:54:8f:a4:88:88:bd:f8:3e:81:e0:\n",
      "        a9:f1:d5:09:74:09:44:71:bb:e2:ab:7c:5b:9e:27:8b:38:c1:\n",
      "        1e:97:eb:0e\n"
     ]
    }
   ],
   "source": [
    "!openssl x509 -in \"pkilab1.crt\" -text -noout"
   ]
  },
  {
   "cell_type": "markdown",
   "id": "c8aac1f9-2570-4828-b664-cec6a98ad334",
   "metadata": {},
   "source": [
    "1. Signature Algorithm: sha256WithRSAEncryption\n",
    "2. we wrote a bash command\n",
    "3. There are 6"
   ]
  },
  {
   "cell_type": "markdown",
   "id": "c85f8332-d061-4d21-b8c4-638056713d4b",
   "metadata": {},
   "source": [
    "Examine the range of signature methods used?  Do any seem insecure?"
   ]
  },
  {
   "cell_type": "code",
   "execution_count": 29,
   "id": "ebf2d0a9-d5d8-4ce6-9cf8-2e4e2175f16b",
   "metadata": {
    "tags": []
   },
   "outputs": [
    {
     "name": "stdout",
     "output_type": "stream",
     "text": [
      "\n",
      "pkilab1.crt\n",
      "sha256WithRSAEncryption\n",
      "sha256WithRSAEncryption\n",
      "\n",
      "pkilab2.crt\n",
      "sha256WithRSAEncryption\n",
      "sha256WithRSAEncryption\n",
      "\n",
      "pkilab3.crt\n",
      "sha256WithRSAEncryption\n",
      "sha256WithRSAEncryption\n"
     ]
    }
   ],
   "source": [
    "# Using the provided one-liner, you can extract the signature algorithms for all the .crt files in the directory:\n",
    "!for file2 in *.crt; do echo; echo \"$file2\"; openssl x509 -in \"$file2\" -text -noout | awk -F': ' '/Signature Algorithm/{print $2}'; done\n"
   ]
  },
  {
   "cell_type": "raw",
   "id": "400c925b-0bdc-4aaf-84bb-8de945ecaf8f",
   "metadata": {},
   "source": [
    "Answer: I don't see any insecure.\n",
    "\n",
    "MD5 with RSA (md5WithRSAEncryption): MD5 is considered insecure due to collision vulnerabilities.\n",
    "SHA-1 with RSA (sha1WithRSAEncryption): SHA-1 is no longer considered secure due to collision attacks and has been deprecated for use in SSL/TLS certificates.\n",
    "In general, it's better to use more secure signature algorithms, such as:\n",
    "\n",
    "SHA-256 with RSA (sha256WithRSAEncryption)\n",
    "SHA-384 with RSA (sha384WithRSAEncryption)\n",
    "SHA-512 with RSA (sha512WithRSAEncryption)\n"
   ]
  },
  {
   "cell_type": "markdown",
   "id": "2763cc62-aa15-4225-b09b-afcf7ac52973",
   "metadata": {},
   "source": [
    "## Reverse Proxies\n",
    "In some situations an IP address serves multiple web-servers.\n",
    "\n",
    "Try using <i>openssl s_client -connect</i> to connect to the web server at 172.66.40.248 *(look back to the labs first parts where we first did this.)*\n",
    "\n",
    "To be sure you did establish some connection, check that the response you get starts with CONNECTED.\n"
   ]
  },
  {
   "cell_type": "markdown",
   "id": "5b15faa2-cb03-492e-bab2-e9c62c7f00e7",
   "metadata": {},
   "source": [
    "Even though you successfully connected to the server you got an error because that IP serves multiple servers. This is known as a reverse proxy. The problem is that openssl sets the servername to be the same as what is given for the connect option.\n",
    "\n",
    "Try again but add `-servername baeldung.com` to the command."
   ]
  },
  {
   "cell_type": "code",
   "execution_count": 31,
   "id": "150783d5-b26f-4871-8e7b-2fd53bc9b130",
   "metadata": {},
   "outputs": [
    {
     "name": "stdout",
     "output_type": "stream",
     "text": [
      "s_client: Use -help for summary.\n"
     ]
    }
   ],
   "source": [
    "!openssl s_client -connect openssl s_client -connect -servername baeldung.com"
   ]
  },
  {
   "cell_type": "markdown",
   "id": "a9e69da2-e61e-4614-a9d5-788e9116e137",
   "metadata": {},
   "source": [
    "### This concludes the lab.\n",
    "\n",
    "Use File > Save and Export Notebook as... > HTML"
   ]
  }
 ],
 "metadata": {
  "kernelspec": {
   "display_name": "Python 3 (ipykernel)",
   "language": "python",
   "name": "python3"
  },
  "language_info": {
   "codemirror_mode": {
    "name": "ipython",
    "version": 3
   },
   "file_extension": ".py",
   "mimetype": "text/x-python",
   "name": "python",
   "nbconvert_exporter": "python",
   "pygments_lexer": "ipython3",
   "version": "3.10.6"
  }
 },
 "nbformat": 4,
 "nbformat_minor": 5
}
