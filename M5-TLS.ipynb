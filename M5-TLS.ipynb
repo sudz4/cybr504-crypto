{
 "cells": [
  {
   "cell_type": "markdown",
   "id": "5a68613f-cd7c-4119-a7a8-98a84ffaad77",
   "metadata": {
    "deletable": false,
    "tags": []
   },
   "source": [
    "# Transport Layer Security (TLS)\n",
    "\n",
    "The protection of online communication is a critical concern in today's digital world. One of the most widely-used solutions to this challenge is Transport Layer Security (TLS). This protocol is specifically designed to ensure the confidentiality and integrity of communications over the Internet. The primary application of TLS is the encryption of communications between web applications and servers, such as when a web browser accesses a website. However, it can also be used to secure other forms of digital communication, such as email, messaging, and voice over IP (VoIP).\n",
    "\n"
   ]
  },
  {
   "cell_type": "markdown",
   "id": "73448ac6-1ed1-4c6f-8804-e9db02a06018",
   "metadata": {
    "tags": []
   },
   "source": [
    "First we'll look at an actual certificate. Starting with USD's.\n",
    "\n",
    "Open a cell (if needed) and run the openssl command: \n",
    "\n",
    "<code>openssl s_client -connect www.sandiego.edu:443 < /dev/null 2> /dev/null</code>\n",
    "    \n",
    "This connects to the webserver for USD and displays their certificate.<br>\n",
    "    <code>< /dev/null</code> is one way to avoid commands from having to wait for input.<br>\n",
    "    "
   ]
  },
  {
   "cell_type": "code",
   "execution_count": null,
   "id": "1b5dafd8-f25e-4a03-9538-83d1a2751930",
   "metadata": {
    "tags": []
   },
   "outputs": [],
   "source": []
  },
  {
   "cell_type": "markdown",
   "id": "5d9449bd-b6ca-410c-a1a9-fc0731e5823a",
   "metadata": {
    "tags": []
   },
   "source": [
    "Examine the USD certificate to answer the following:\n",
    "\n",
    "1. When does the certificate expire?\n",
    "1. By name, what cipher does it use? Explain what that is.\n",
    "1. How long is the key?\n",
    "1. Is the certificate for a CA? Why?\n"
   ]
  },
  {
   "cell_type": "raw",
   "id": "e069f19e-d7dc-42ce-af4a-48d1e65f968f",
   "metadata": {
    "tags": []
   },
   "source": [
    "Answer:"
   ]
  },
  {
   "cell_type": "markdown",
   "id": "15b9e66b-7c17-41c6-9713-af5e2c2ffa12",
   "metadata": {
    "tags": []
   },
   "source": [
    "\n",
    "Is the certificate self-signed? \n",
    "* If it is, how can you tell? \n",
    "* If it is not, who signed it? \n",
    " "
   ]
  },
  {
   "cell_type": "raw",
   "id": "802cef7f-cbf6-4088-a06a-75f9e2efc8b9",
   "metadata": {},
   "source": [
    "Answer:"
   ]
  },
  {
   "cell_type": "markdown",
   "id": "678d8cbd-a361-4e1a-abb9-b04d5ba8dd48",
   "metadata": {},
   "source": [
    "1. What version of TLS was used to for this connection? \n",
    "1. What is the current version of TLS? \n",
    "1. Why do you think it does not use the current version? \n"
   ]
  },
  {
   "cell_type": "raw",
   "id": "d93bcae0-dd93-4b56-b602-6c3e01531640",
   "metadata": {},
   "source": [
    "Answer:"
   ]
  },
  {
   "cell_type": "markdown",
   "id": "420eba95-cabf-46c3-b14f-d3adb638e429",
   "metadata": {},
   "source": [
    "Try reconnecting, but specify TLSv1.3.<br>\n",
    "\n",
    "`openssl s_client -connect www.sandiego.edu:443 -tls1_3`\n",
    "\n",
    "What happens?</div>"
   ]
  },
  {
   "cell_type": "code",
   "execution_count": null,
   "id": "f10fd256-f537-419e-88c9-90680dbce90a",
   "metadata": {
    "tags": []
   },
   "outputs": [],
   "source": []
  },
  {
   "cell_type": "raw",
   "id": "48f9c429-dab9-407b-8015-e22b7b5a9131",
   "metadata": {},
   "source": [
    "Answer:"
   ]
  },
  {
   "cell_type": "markdown",
   "id": "9f50fe43-cdcf-45cf-af18-e99348c38d8c",
   "metadata": {},
   "source": [
    "Now look at the certificate from Google. Use www.google.com for the servername."
   ]
  },
  {
   "cell_type": "code",
   "execution_count": null,
   "id": "a0ea75a5-cc47-4b6c-8174-9d651b713e13",
   "metadata": {
    "tags": []
   },
   "outputs": [],
   "source": []
  },
  {
   "cell_type": "markdown",
   "id": "2261cc59-e182-4986-9921-e096eea628ff",
   "metadata": {
    "tags": []
   },
   "source": [
    "Compare the output. In what significant ways does it differ from that of USD's certificate?"
   ]
  },
  {
   "cell_type": "raw",
   "id": "90832a6c-9edf-47b0-8e32-c9f087e32703",
   "metadata": {},
   "source": [
    "Answer:"
   ]
  },
  {
   "cell_type": "markdown",
   "id": "ccff150b-b1ab-4617-944f-754e49a70e84",
   "metadata": {},
   "source": [
    "\n",
    "## Examining Certificates\n",
    "\n",
    "Next we'll look at some certificates already saved. As these are text, you can use the \"cat <cert file name>\" command to view them in their encoded form.\n",
    "    \n",
    "You can have openssl decode them for you.\n",
    "    \n",
    "Use commands of the form:\n",
    "    <code>openssl x509 -text -noout -in \"\\<cert file name\\>\"    </code>\n",
    "    \n",
    "Open up individual cells and try it on the certificate files \"pkilab1.crt\", \"pkilab2.crt\" and \"pkilab3.crt\"\n",
    "    "
   ]
  },
  {
   "cell_type": "markdown",
   "id": "2882bb58-1db9-4903-a4f6-6c89e06fe2fa",
   "metadata": {},
   "source": [
    "Answer for each:\n",
    "* What organization is the certificate for?\n",
    "* Who signed it?\n",
    "* How many months is it valid for?\n",
    "* How large is the key?"
   ]
  },
  {
   "cell_type": "markdown",
   "id": "7b9df0a6-7fd3-44b0-8726-f36f1a82da38",
   "metadata": {},
   "source": [
    "For: \"pkilab1.crt\""
   ]
  },
  {
   "cell_type": "code",
   "execution_count": null,
   "id": "08eb123e-897f-4252-978a-5f4293c2f61b",
   "metadata": {
    "tags": []
   },
   "outputs": [],
   "source": []
  },
  {
   "cell_type": "raw",
   "id": "dd56fae9-fe9c-4160-9c49-0f09e7aa471c",
   "metadata": {},
   "source": [
    "Answer: pkilab1.crt\n",
    "* What organization is the certificate for?\n",
    "* Who signed it?\n",
    "* How many months is it valid for?\n",
    "* How large is the key?"
   ]
  },
  {
   "cell_type": "markdown",
   "id": "e8ba05e0-8510-4f0f-bcbf-490788c21b2f",
   "metadata": {},
   "source": [
    "For: \"pkilab2.crt\""
   ]
  },
  {
   "cell_type": "code",
   "execution_count": null,
   "id": "e38fcd96-22f4-40b1-90db-af28159a1b04",
   "metadata": {
    "tags": []
   },
   "outputs": [],
   "source": []
  },
  {
   "cell_type": "raw",
   "id": "4ba9889f-b24d-4848-a7a3-629dcab0d87e",
   "metadata": {},
   "source": [
    "Answer: pkilab2.crt\n",
    "* What organization is the certificate for?\n",
    "* Who signed it?\n",
    "* How many months is it valid for?\n",
    "* How large is the key?"
   ]
  },
  {
   "cell_type": "markdown",
   "id": "5003428b-2990-4c53-962a-bb31eab76a60",
   "metadata": {},
   "source": [
    "For: \"pkilab3.crt\""
   ]
  },
  {
   "cell_type": "code",
   "execution_count": null,
   "id": "c6c65331-070e-4579-8a30-d65e0633d2e3",
   "metadata": {
    "tags": []
   },
   "outputs": [],
   "source": []
  },
  {
   "cell_type": "raw",
   "id": "ddfb979b-f9d3-45b6-9544-c389a944d03d",
   "metadata": {},
   "source": [
    "Answer: pkilab3.crt\n",
    "* What organization is the certificate for?\n",
    "* Who signed it?\n",
    "* How many months is it valid for?\n",
    "* How large is the key?"
   ]
  },
  {
   "cell_type": "markdown",
   "id": "e620cb8c-2cce-4560-87b6-54ae84ea4ec3",
   "metadata": {},
   "source": [
    "## Subject Alternative Names\n",
    "\n",
    "The Subject Alternative Name (SAN) section of an x509 certificate is an extension that allows additional, alternative identities to be associated with the subject of the certificate. These identities can be in the form of IP addresses, DNS names, email addresses, and so on. The SAN section can be used to specify multiple identities for a single certificate, which allows for more efficient use of certificates, as well as greater flexibility in the deployment of secure servers. It also eliminates the need for multiple IP-based certificates for a single server.\n",
    "\n",
    "If you examine these certificates, you'll see the \"Subject Alternative Names\" (SAN) section. \n",
    "\n",
    "In any of the certificates, are any of the server names on different domains? If so, which certificate(s) and which domains?"
   ]
  },
  {
   "cell_type": "raw",
   "id": "3c5b4366-d354-40ea-bec3-397979f90783",
   "metadata": {},
   "source": [
    "Answer:"
   ]
  },
  {
   "cell_type": "markdown",
   "id": "06b72a74-9030-43b8-aaa1-2e4693f9a7d7",
   "metadata": {},
   "source": [
    "## Installed Certificates\n",
    "\n",
    "Your computer has many saved certificates installed. These may be for your web browser or the system itself. These are used to validate other certificates. \n",
    "\n",
    "The common location for them in on Linux is /usr/share/ca-certificates/mozilla/. Each is an individual file.\n",
    "\n",
    "Take a look the list of files in your certificates directory. Get a feel for how many and the organizations present."
   ]
  },
  {
   "cell_type": "code",
   "execution_count": null,
   "id": "83d11ec2-d39a-4e6c-9350-e92246697e03",
   "metadata": {
    "tags": []
   },
   "outputs": [],
   "source": [
    "ls /usr/share/ca-certificates/mozilla/*"
   ]
  },
  {
   "cell_type": "markdown",
   "id": "373b6821-c7ec-4d4c-9a23-fc4427de9377",
   "metadata": {},
   "source": [
    "How many certificates are there? <br>\n",
    "&nbsp;&nbsp;&nbsp;&nbsp; *hint: `wc -l` gives you the number of lines output, e.g. `ll | wc -l`*"
   ]
  },
  {
   "cell_type": "code",
   "execution_count": null,
   "id": "3d2555d5-3ad8-4c20-baa1-6733d26b8178",
   "metadata": {
    "tags": []
   },
   "outputs": [],
   "source": []
  },
  {
   "cell_type": "raw",
   "id": "afd989e3-edca-47d4-ad29-db986f9c5ca7",
   "metadata": {},
   "source": [
    "Answer:"
   ]
  },
  {
   "cell_type": "markdown",
   "id": "b4d0aab7-12c4-4b0e-91ee-9aec96f7d809",
   "metadata": {},
   "source": [
    "How many are expired?"
   ]
  },
  {
   "cell_type": "markdown",
   "id": "011e97f6-b75a-4f64-b990-8ff49becd619",
   "metadata": {
    "tags": []
   },
   "source": [
    "Hint: example bash shell template to extract expiration date information:\n",
    "\n",
    "<code>for F in _path_to_certificate_files_ ; do _openssl_cmd_to_decode_certificates_ -in $F ; done | grep \"Not After\" | cut -d: -f2- | sort -k7 | head\n",
    "</code><br>\n",
    "*note: be aware of lines that do not parse properly and take those into consideration*"
   ]
  },
  {
   "cell_type": "code",
   "execution_count": null,
   "id": "918596df-bc09-44bc-a7fa-cd33853fdfa2",
   "metadata": {
    "tags": []
   },
   "outputs": [],
   "source": []
  },
  {
   "cell_type": "raw",
   "id": "6f79227d-d4ff-44fe-9e2b-5742e35c40fc",
   "metadata": {},
   "source": [
    "Answer:"
   ]
  },
  {
   "cell_type": "markdown",
   "id": "26aa1604-9e77-4402-81bb-6e6bff605488",
   "metadata": {},
   "source": [
    "Look at the range of signature algorithms used."
   ]
  },
  {
   "cell_type": "markdown",
   "id": "6e9de5e6-fe60-4945-bee2-4bf8c5bfecb4",
   "metadata": {
    "tags": []
   },
   "source": [
    "Hint: This can be done by searching through all the decoded certificates for the lines where the signature algorithm is used.\n",
    "1. Look back at the decoded certificates. What text in the decoded certificate holds the signature algorithm?\n",
    "1. How did we do something similar before?\n",
    "1. The bash command <code>cut -d <i>delimeter</i> -f <i>fields</i></code> lets you extract portions of output. The delimiter is the character that separates fields.\n",
    "1. `sort` sorts the output\n",
    "1. `uniq` returns the number of unique values. Adding the `-c` option also returns the count of each. The list must be sorted for uniq to work.<br><br>\n",
    "e.g., <code>for F in <i>path_to_certificate_files</i> ; do <i>openssl_cmd_to_decode_certificates</i> -in $F ; done | grep \"<i>text_to_match</i>\" | cut -d: -f2 | sort | uniq -c</code>"
   ]
  },
  {
   "cell_type": "code",
   "execution_count": null,
   "id": "ea9563cc-60d2-41e4-977c-5491b860a235",
   "metadata": {},
   "outputs": [],
   "source": []
  },
  {
   "cell_type": "markdown",
   "id": "c85f8332-d061-4d21-b8c4-638056713d4b",
   "metadata": {},
   "source": [
    "Examine the range of signature methods used?  Do any seem insecure?"
   ]
  },
  {
   "cell_type": "raw",
   "id": "400c925b-0bdc-4aaf-84bb-8de945ecaf8f",
   "metadata": {},
   "source": [
    "Answer:"
   ]
  },
  {
   "cell_type": "markdown",
   "id": "2763cc62-aa15-4225-b09b-afcf7ac52973",
   "metadata": {},
   "source": [
    "## Reverse Proxies\n",
    "In some situations an IP address serves multiple web-servers.\n",
    "\n",
    "Try using <i>openssl s_client -connect</i> to connect to the web server at 172.66.40.248 *(look back to the labs first parts where we first did this.)*\n",
    "\n",
    "To be sure you did establish some connection, check that the response you get starts with CONNECTED.\n"
   ]
  },
  {
   "cell_type": "code",
   "execution_count": null,
   "id": "627f2758-005b-43ca-b73a-d4b111d01393",
   "metadata": {
    "tags": []
   },
   "outputs": [],
   "source": []
  },
  {
   "cell_type": "markdown",
   "id": "5b15faa2-cb03-492e-bab2-e9c62c7f00e7",
   "metadata": {},
   "source": [
    "Even though you successfully connected to the server you got an error because that IP serves multiple servers. This is known as a reverse proxy. The problem is that openssl sets the servername to be the same as what is given for the connect option.\n",
    "\n",
    "Try again but add `-servername baeldung.com` to the command."
   ]
  },
  {
   "cell_type": "code",
   "execution_count": null,
   "id": "150783d5-b26f-4871-8e7b-2fd53bc9b130",
   "metadata": {},
   "outputs": [],
   "source": []
  },
  {
   "cell_type": "markdown",
   "id": "a9e69da2-e61e-4614-a9d5-788e9116e137",
   "metadata": {},
   "source": [
    "### This concludes the lab.\n",
    "\n",
    "Use File > Save and Export Notebook as... > HTML"
   ]
  },
  {
   "cell_type": "code",
   "execution_count": null,
   "id": "85e55d1c-918b-4c53-8669-7fa358d7024d",
   "metadata": {},
   "outputs": [],
   "source": []
  }
 ],
 "metadata": {
  "kernelspec": {
   "display_name": "Bash",
   "language": "bash",
   "name": "bash"
  },
  "language_info": {
   "codemirror_mode": "shell",
   "file_extension": ".sh",
   "mimetype": "text/x-sh",
   "name": "bash"
  }
 },
 "nbformat": 4,
 "nbformat_minor": 5
}
