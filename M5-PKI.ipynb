{
 "cells": [
  {
   "cell_type": "markdown",
   "id": "897a1ad6-645b-4d28-9e12-db3482f3a529",
   "metadata": {},
   "source": [
    "# PKI\n",
    "\n",
    "The Public Key Infrastructure (PKI) is a system that addresses the problem of verifying the ownership of a public key in public key cryptography. It is a practical solution that ensures the authenticity of a public key and its claimed owner. This lab aims to give students first-hand experience with PKI by providing a series of tasks that focus on the concept. By completing these tasks, students will gain a deeper understanding of how PKI works and how it is used to protect communications. They will also learn how to create and analyze certificates, the potential for man-in-the-middle attacks and how PKI can defeat them. \n"
   ]
  },
  {
   "cell_type": "markdown",
   "id": "99820fe8-d1a7-4344-93de-3712fa24dbc9",
   "metadata": {
    "ipub": {
     "caption": "fig:example_mpl"
    },
    "tags": []
   },
   "source": [
    "In this lab, rather than relying on commercial Certificate Authorities (CA) like VeriSign, we will be creating our own digital certificates. We will become a \"root CA\" ourselves and use this CA to issue certificates for servers and other entities. This process is known as self-signing. The root CA's certificate is a special type of certificate that is self-signed and is considered unconditionally trusted by most operating systems, web browsers and other software that rely on Public Key Infrastructure (PKI). This task of becoming a root CA and generating a certificate for it is an important step in understanding how digital certificates and PKI work and how we can establish trust in a digital environment without relying on commercial CAs.\n",
    "\n",
    "\n",
    "In this lab we will be working with the OpenSSL toolkit. This is a widely used open-source implementation of the Secure Sockets Layer (SSL) and Transport Layer Security (TLS) protocols. The manual page for openssl.conf can be found at https://www.openssl.org/docs/man1.0.2/man1/ or other online sources."
   ]
  },
  {
   "cell_type": "markdown",
   "id": "d5e30973-8081-47a1-b892-4a42dabb6d1b",
   "metadata": {
    "tags": []
   },
   "source": [
    "\n",
    "#### Configuration\n",
    "\n",
    "***The first part of this lab must be done using the Linux command shell***\n",
    "    \n",
    "By default, OpenSSL uses the configuration file located at \"/usr/lib/ssl/openssl.cnf\". This file contains settings and options that are used by various OpenSSL commands, including the commands to create and examine digital certificates (ca, req, and x509). In order to allow customization of this file,\n",
    "we will be working with a copy that we can modify without disrupting any other services or applications running on the system.<br>\n",
    "\n",
    "In this file there is a section \\[CA_default\\]\n",
    "\n",
    "```\n",
    "[ CA_default ]\n",
    "dir             = /home/__your_user_name__/demoCA       # Where everything is kept\n",
    "certs           = $dir/certs     # Where the issued certs are kept\n",
    "crl_dir         = $dir/crl       # Where the issued crl are kept\n",
    "database        = $dir/index.txt # database index file.\n",
    "#unique_subject = no             # Set to ’no’ to allow creation of\n",
    "                                 # several certs with same subject.\n",
    "new_certs_dir  = $dir/newcerts   # default place for new certs.\n",
    "serial         = $dir/serial     # The current serial number\n",
    "```\n",
    "\n",
    "<div style=\"background-color:rgba(255.255.255,.98); color:black; font-weight:normal; padding:6px;\"><span style=\"color:black\">\n",
    "Open up a Linux command shell:<br><br>\n",
    "* Locate this file and copy it to your working directory for the lab.<br>\n",
    "* Edit the copy: <br>\n",
    "&nbsp;&nbsp;&nbsp;&nbsp;- uncomment the \"unique_subject\" line<br>\n",
    "&nbsp;&nbsp;&nbsp;&nbsp;- uncomment the \"copy_extensions\" line <br>\n",
    "&nbsp;&nbsp;&nbsp;&nbsp;- <i>note: this will allow copying certificate extensions into the final certificate. For security reasons, this is not enabled by default.</i><br>\n",
    "* Create a directory demoCA<br>\n",
    "* In demoCA create an empty file named \"index.txt\"<br>\n",
    "* In demoCA create a file named \"serial\" with the value 1000<br>\n",
    "</div>\n",
    "    \n",
    "Once complete, return to the notebook."
   ]
  },
  {
   "cell_type": "markdown",
   "id": "e55bcae4-57e9-471b-8f06-fc845f4f92ac",
   "metadata": {},
   "source": [
    "<div class=\"alert alert-block alert-warning\">\n",
    "<span style=\"color:black\">             \n",
    "NOTE: You must run each cell for the code in it to have effect. You can run them multiple times, or even copy them to new cells if you like.\n",
    "    \n",
    "The simplest way to do this is by pressing &lt;SHIFT-ENTER&gt; to run and move to next cell, or &lt;CTRL-ENTER&gt; to run and stay on the current cell.\n",
    "    </div>  "
   ]
  },
  {
   "cell_type": "markdown",
   "id": "45c134c4-ccf3-4d8f-8b74-7ffbbd9670d6",
   "metadata": {},
   "source": [
    "## Certificates\n",
    "---\n",
    "### Creating a Self-Signed CA\n",
    "Run the openssl command below to request a new certificate. As given, all required information is provided in the command. If you did not want to specify any of this on the command line, you could run it interactively in a command shell.<br><br>\n",
    "Change the `-subj` argument to specify your chosen country (C), organization (O), and common name (CN). The text you put after \"pass:\" will be your password. \n",
    "\n",
    "This will create two files ca.key and ca.crt. The ca.key file contains the CA's private key. The ca.crt file is the CA's public certificate.\n",
    "\n",
    "\n",
    "<code>openssl req -x509 -newkey rsa:4096 -sha256 -days 3650 \\\n",
    "    -keyout ca.key -out ca.crt \\\n",
    "    -subj \"/CN=www.cybr504CA.com/O=CYBR504 CA/C=US\" \\\n",
    "    -passout pass:__ca_password__\n",
    "</code>   <br>\n",
    "modify the line below by changing the fields between \"___\"s"
   ]
  },
  {
   "cell_type": "code",
   "execution_count": null,
   "id": "05f46d74-89d9-42f6-afd3-b90c8515d42a",
   "metadata": {},
   "outputs": [],
   "source": [
    "openssl req -x509 -newkey rsa:4096 -sha256 -days 3650 \\\n",
    "                  -keyout ca.key \\\n",
    "                  -out ./ca.crt \\\n",
    "                  -subj \"__subject_line__\" \\\n",
    "                  -passout pass:__ca_password__"
   ]
  },
  {
   "cell_type": "markdown",
   "id": "7f422171-3d63-4522-90a5-7515c33468f8",
   "metadata": {},
   "source": [
    "<br>Notice\n",
    " * How many bits is the key?<br>\n",
    " * When will the certificate expire?"
   ]
  },
  {
   "cell_type": "raw",
   "id": "a769e4bc-3b7d-453a-890e-59e78554170b",
   "metadata": {},
   "source": [
    "Answer:"
   ]
  },
  {
   "cell_type": "markdown",
   "id": "2dcb8c4b-8bea-4d76-8c48-d41b412d3780",
   "metadata": {},
   "source": [
    "Run the openssl command\n",
    "<code>openssl x509 -in ca.crt -text -noout</code>\n",
    "to examine the public certificate.\n",
    "\n",
    "<i>The -text option displays the output as text, the -noout option prevents displaying the encoded version.</i>"
   ]
  },
  {
   "cell_type": "code",
   "execution_count": null,
   "id": "3e1f2198-b13d-4c84-8f52-3284b23d54cb",
   "metadata": {
    "tags": []
   },
   "outputs": [],
   "source": []
  },
  {
   "cell_type": "markdown",
   "id": "5727e928-aa3a-4740-a751-d54f911c2972",
   "metadata": {},
   "source": [
    "<br>How can you tell that this is a CA certificate?"
   ]
  },
  {
   "cell_type": "raw",
   "id": "89ba1c01-164e-478c-a267-f0a4c1db53e3",
   "metadata": {},
   "source": [
    "Answer:"
   ]
  },
  {
   "cell_type": "markdown",
   "id": "11643567-54ec-42d9-bfd7-328bf4ca04ec",
   "metadata": {},
   "source": [
    "How can you tell that this ia a self-signed certificate?"
   ]
  },
  {
   "cell_type": "raw",
   "id": "991c23f4-2c13-4ba7-8afb-3e599b931f50",
   "metadata": {},
   "source": [
    "Answer:"
   ]
  },
  {
   "cell_type": "markdown",
   "id": "aaae4c17-c211-4f83-825d-d4dfa8647b45",
   "metadata": {},
   "source": [
    "In a new cell, use a modified version of the \"openssl x509\" command you used before to see the RSA key.\n",
    "\n",
    "<i>Hint: Change the x509 to rsa to see the rsa key. You'll also need to specify the correct password. Use the -passin pass:????? option for that.</i><br>\n",
    "\n",
    "<i>Note: if you don't, the cell will get stuck waiting for input. You can tell if this is the problem by noticing the black circle at the top right of the lab window. Use the square stop icon to break out of it.</i>"
   ]
  },
  {
   "cell_type": "code",
   "execution_count": null,
   "id": "7d29e374-a59b-4334-b53f-1e335859ec2d",
   "metadata": {
    "tags": []
   },
   "outputs": [],
   "source": []
  },
  {
   "cell_type": "markdown",
   "id": "87abee66-56e2-4122-a396-420f40cb4ace",
   "metadata": {},
   "source": [
    "<br>RSA keys are generated using an a public exponent, a private exponent, a modulus n and two secret numbers p and q.\n",
    "- Are these stated in the certificate? \n",
    "- Are they stated in the key?"
   ]
  },
  {
   "cell_type": "raw",
   "id": "d24ca0ba-a1fa-4b7e-9441-d411ec21736a",
   "metadata": {},
   "source": [
    "Answer:"
   ]
  },
  {
   "cell_type": "markdown",
   "id": "44f12c1d-e24e-4989-8e18-3837bb8da515",
   "metadata": {},
   "source": [
    "Now let's use our CA to sign another key. That will require a CSR, a Certificate Signing Request. Like the CA certificate, the CSR will have identity informaiton about the requestor and the company's public key. Once the CSR has been generated, it must be sent to a CA to verify it, and if satisfied, to sign it.\n",
    "\n",
    "We'll use a similar openssl command as before, except by removing the -x509 option it will create a CSR. Note also, there is no expiration date option. This is provided by the signer.<br>\n",
    "<code>openssl req -newkey rsa:2048 -sha256 -keyout server.key -out server.csr -subj  \"__subject_line__\" -passout pass:__csr-pw__</code>\n",
    "\n",
    "Modify as needed."
   ]
  },
  {
   "cell_type": "code",
   "execution_count": null,
   "id": "c6320632-9da4-4d19-a60f-ff6a00c2018f",
   "metadata": {
    "tags": []
   },
   "outputs": [],
   "source": []
  },
  {
   "cell_type": "markdown",
   "id": "0a8ffc17-4c0f-426a-bfd4-8e4283c6b35e",
   "metadata": {},
   "source": [
    "Review the CSR and key. Do this for each.<br>\n",
    "&nbsp;&nbsp;&nbsp;&nbsp;for the CSR: <code>openssl req -in <i>\\<file\\></i> -text -nout</code><br>\n",
    "&nbsp;&nbsp;&nbsp;&nbsp;for the key: <code>openssl req -in <i>\\<file\\></i> -text -nout -passin pass:<i>\\<password\\></i></code><br>"
   ]
  },
  {
   "cell_type": "code",
   "execution_count": 70,
   "id": "11adc41b-2934-444c-a75b-5b395ad6a3c4",
   "metadata": {
    "tags": []
   },
   "outputs": [],
   "source": [
    "#CSR"
   ]
  },
  {
   "cell_type": "code",
   "execution_count": 71,
   "id": "a60e0ce2-041e-4fc5-a7e8-4c40d545b11d",
   "metadata": {
    "tags": []
   },
   "outputs": [],
   "source": [
    "#key"
   ]
  },
  {
   "cell_type": "markdown",
   "id": "23e5605f-eea7-4fb1-88af-0e222cdf05a0",
   "metadata": {},
   "source": [
    "<br>\n",
    "How can you tell if a certificate is a CSR?"
   ]
  },
  {
   "cell_type": "raw",
   "id": "9364c601-4fb6-48d1-8a90-342516ab0882",
   "metadata": {},
   "source": [
    "Answer:"
   ]
  },
  {
   "cell_type": "markdown",
   "id": "e323cfcc-780d-48fd-a1f8-25698f0e11ae",
   "metadata": {},
   "source": [
    "### Including Alternative Names\n",
    "\n",
    "Websites often have multiple URLs that redirect to the same website. For example, www.cybr504.com, cybr504.com, cybr504.net, and usdcrypto.info could all lead to the same website. However, due to browser hostname matching policies, the common name on a certificate must match the server's hostname, or the browser will not establish a connection. To allow for multiple names on a single certificate, the X.509 specification includes an extension called the \"Subject Alternative Name\" (SAN). Using this extension, it's possible to list multiple hostnames in the \"subjectAltName\" field of a certificate.<br><Br>\n",
    "To create a certificate signing request with this field, you can add all necessary information to a configuration file or through the command line. It's important to note that the subjectAltName field must also include the common name, or the common name will not be recognized as a valid name."
   ]
  },
  {
   "cell_type": "markdown",
   "id": "7f7f22e6-815c-43c3-b824-02da2cbda719",
   "metadata": {},
   "source": [
    "```\n",
    "-addext \"subjectAltName = DNS:www.cybr504.com, \\\n",
    "                          DNS:www.cybr504.net, \\\n",
    "                          DNS:www.cybr504m5.com\"\n",
    "```"
   ]
  },
  {
   "cell_type": "markdown",
   "id": "d2e5137d-7da0-4395-a3d3-4bc00dc56d79",
   "metadata": {},
   "source": [
    "Use the command you used before to create the CSR, but make if to include alterative names."
   ]
  },
  {
   "cell_type": "markdown",
   "id": "4c1a6f5d-fbf7-4295-a464-d580e7512f21",
   "metadata": {},
   "source": [
    "### Signing the CSR\n",
    "The CSR must be signed by a CA to become a certificate. In practice, an organization would send their CSR to their chosen CA for signing. In this lab we will sign it directly.\n",
    "\n",
    "```\n",
    "openssl ca -config __openssl_config_file__ -policy policy_any \\\n",
    "-md sha256 -days 3650 \\\n",
    "-in server.csr -out server.crt -batch \\\n",
    "-cert ca.crt -keyfile ca.key \\\n",
    "-passin pass:__ca_password__\n",
    "```\n",
    "The policy we are utilizing, known as \"policy anything,\" is specified in our configuration file. This policy is not the standard option, as the default policy enforces stricter guidelines, mandating that certain elements of the subject information in the request align with those in the certificate of the CA. However, the policy specified in our command, as indicated by its name, does not impose any matching requirements."
   ]
  },
  {
   "cell_type": "code",
   "execution_count": null,
   "id": "30befe79-0ab9-4400-9226-318c565a779c",
   "metadata": {},
   "outputs": [],
   "source": [
    "openssl ca -config __your_openssl.cnf_file__ -policy policy_anything \\\n",
    "-md sha256 -days 3650 \\\n",
    "-in server.csr -out server.crt -batch \\\n",
    "-cert ca.crt -keyfile ca.key \\\n",
    "-passin pass:__ca_password__"
   ]
  },
  {
   "cell_type": "code",
   "execution_count": null,
   "id": "960e1872-f425-4559-9c54-b333bbb1646b",
   "metadata": {
    "tags": []
   },
   "outputs": [],
   "source": [
    "openssl x509 -in server.crt -text -noout"
   ]
  },
  {
   "cell_type": "markdown",
   "id": "34653f25-87ef-4aed-ae14-3653afebcccd",
   "metadata": {},
   "source": [
    "Check the server certificate. \n",
    "* Is it a CA? Why?\n",
    "* What is listed in the \"Subject Alternative Name\" section?\n",
    "* Who is listed as the Issuer?"
   ]
  },
  {
   "cell_type": "raw",
   "id": "8cd43c96-aecf-4528-8717-aaa72dfda7a3",
   "metadata": {},
   "source": [
    "Answer:"
   ]
  },
  {
   "cell_type": "markdown",
   "id": "84e5a54f-0484-4c74-89c1-44fd9f3d725c",
   "metadata": {},
   "source": [
    "---\n",
    "### This concludes the lab.\n",
    "\n",
    "Use File > Save and Export Notebook as... > HTML"
   ]
  },
  {
   "cell_type": "raw",
   "id": "4446e064-d3c3-43c8-b1b8-aa40b934ee50",
   "metadata": {},
   "source": [
    "Comments?"
   ]
  }
 ],
 "metadata": {
  "kernelspec": {
   "display_name": "Bash",
   "language": "bash",
   "name": "bash"
  },
  "language_info": {
   "codemirror_mode": "shell",
   "file_extension": ".sh",
   "mimetype": "text/x-sh",
   "name": "bash"
  }
 },
 "nbformat": 4,
 "nbformat_minor": 5
}
