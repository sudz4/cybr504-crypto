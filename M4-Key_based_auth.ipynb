{
 "cells": [
  {
   "cell_type": "markdown",
   "id": "8e1a42e8-f454-4376-aa15-449f0decc957",
   "metadata": {},
   "source": [
    "# Protecting Servers with SSH Keys"
   ]
  },
  {
   "cell_type": "markdown",
   "id": "4da2df8f-4628-4cd3-b9f2-cd924fe507a6",
   "metadata": {},
   "source": [
    "SSH (Secure Socket Shell) is a secure network protocol that enables remote access to a computer or device over the internet. It uses public-key cryptography to authenticate the user, meaning the user must have a unique pair of SSH keys to access the system. The SSH keys serve as the access credentials and are used in place of a password, making the authentication process more secure.\n",
    "\n",
    "Because SSH keys provide access to sensitive resources and perform critical tasks, it is essential to manage them securely, just as you would with any other sensitive credential. Mismanagement or compromise of SSH keys can lead to serious security incidents, such as unauthorized access to sensitive information or data breaches.\n",
    "\n",
    "SSH is widely used in Unix and Linux environments, where it is considered a standard tool for remote access and management. However, it is also supported in Windows systems, providing a secure alternative to traditional remote access methods such as Telnet and Remote Desktop Protocol (RDP).We start this lab by generating rsa keypairs. There are many tools available to help you generate key pairs. In this lab we will start with ssh-keygen. It is available on Linux, Mac and Windows."
   ]
  },
  {
   "cell_type": "markdown",
   "id": "81382ec5-3563-4547-8cd0-2320e34b1f6b",
   "metadata": {},
   "source": [
    "In this lab we will generate key pairs and use them to secure logons to a server. This will require that to logon the client system has the matching private key. The server can be configured to require the key and a password, or just the key. This can be useful particularly when establishing machine-to-machine connection where entering passwords would not be feasible.\n",
    "\n",
    "***note: these examples use the username \"cryptolabs\". Change this to the account you will be using.***"
   ]
  },
  {
   "cell_type": "markdown",
   "id": "bc8c414d-993a-45f6-9f74-bee868a0a53e",
   "metadata": {},
   "source": [
    "### Step 1 - Generate a key pair\n",
    "\n",
    "On the system you will use as a client to connect to the server:\n",
    "1. make sure that you have a .ssh folder created in you home directory\n",
    "1. use the ssh-keygen command to generate a public/private key pair (enter the following into a code cell below):<br>\n",
    "`ssh-keygen -t rsa -b 4096 -a 100000 -f ~/.ssh/id_rsa <<< y`<br>\n",
    "This will create a key pair using RSA with a 4096-bit key, and save the key pair to the specified path. The -a option specifies the number of rounds to use for the key derivation function (KDF). Higher number of rounds result in slower password verification, but increases resistance to trial-and-error password cracking.\n"
   ]
  },
  {
   "cell_type": "code",
   "execution_count": null,
   "id": "7f518f89-5081-4fb4-a172-d4514921c818",
   "metadata": {},
   "outputs": [],
   "source": [
    "ssh-keygen -t rsa -b 4096 -a 100000 -f ~/.ssh/id_rsa <<< y"
   ]
  },
  {
   "cell_type": "markdown",
   "id": "47169152-8179-4c82-b392-eb576219a63c",
   "metadata": {},
   "source": [
    "What is the purpose of the fingerprint? How is it created?"
   ]
  },
  {
   "cell_type": "raw",
   "id": "adac8586-7dcd-4224-8829-d0d6f605fca7",
   "metadata": {},
   "source": []
  },
  {
   "cell_type": "markdown",
   "id": "184f1e9b-919c-4787-8671-0b641ec81ccc",
   "metadata": {},
   "source": [
    "Run the ssh-keygen command several times with the same parameters. \n",
    "\n",
    "What do you notice about the fingerprint? Why do you think that is happening?"
   ]
  },
  {
   "cell_type": "markdown",
   "id": "31c32619-7270-4188-8212-d4acbaf80073",
   "metadata": {},
   "source": [
    "#### -- Try Logging In\n",
    "\n",
    "Open a command shell and try logging on to your server:\n",
    "\n",
    "`ssh cryptolabs@127.0.0.1`\n",
    "\n",
    "Notice it asks for a password. You can ^C and not complete the login, or 'exit' if you did.\n"
   ]
  },
  {
   "cell_type": "markdown",
   "id": "be7da6cc-bb58-4c3e-9ccb-afffba1ce6b0",
   "metadata": {},
   "source": [
    "### Step 2 - Copy your public SSH key to the server\n",
    "\n",
    "From the command shell run:\n",
    "\n",
    "`ssh-copy-id -i '~/.ssh/id_rsa.pub' cryptolabs@127.0.0.1`\n",
    "\n"
   ]
  },
  {
   "cell_type": "markdown",
   "id": "a3111161-e6b6-440f-a3d2-09b0f1506e30",
   "metadata": {},
   "source": [
    "### Step 3 - Login to the server\n",
    "\n",
    "From the <u>command shell</u> run:\n",
    "\n",
    "`ssh -i ~/.ssh/id_rsa cryptolabs@127.0.0.1 -v`\n",
    "\n"
   ]
  },
  {
   "cell_type": "markdown",
   "id": "f24d0e59-4939-4a7a-82a9-efc352c20728",
   "metadata": {},
   "source": [
    "This should log you in with being prompted for a password."
   ]
  },
  {
   "cell_type": "markdown",
   "id": "39a17fd6-7fcd-4033-97dc-5c7902e75887",
   "metadata": {},
   "source": [
    "On the server, there should now be an authorized keys file for the client."
   ]
  },
  {
   "cell_type": "markdown",
   "id": "f24fcf03-597c-40d6-8f9c-39ef62b7d0ed",
   "metadata": {},
   "source": [
    "`cat ~/.ssh/authorized_keys`"
   ]
  },
  {
   "cell_type": "markdown",
   "id": "2fc1debb-4d5a-48c2-b9f0-5b57505a5330",
   "metadata": {},
   "source": [
    "Copy the autorized keys files in to the cell below."
   ]
  },
  {
   "cell_type": "raw",
   "id": "3fe8a0c2-71d0-43f4-9c99-6802bb201f5d",
   "metadata": {},
   "source": [
    "mattvvv"
   ]
  },
  {
   "cell_type": "markdown",
   "id": "962e9dd0-7d3d-4ffe-83c9-c498c155749d",
   "metadata": {},
   "source": [
    "---\n"
   ]
  },
  {
   "cell_type": "markdown",
   "id": "5571494a-0161-4995-8c53-7b25c267a2cd",
   "metadata": {},
   "source": [
    "It should be noted that the key format used by ssh-keygen is not the same format as openssl. This can cause interoperbilty problems. However, both offer options to convert key files between formats."
   ]
  },
  {
   "cell_type": "markdown",
   "id": "01c0a8f4-46de-490a-b5ff-fce630048090",
   "metadata": {},
   "source": [
    "---\n",
    "### This concludes the lab.\n",
    "\n",
    "Use File > Save and Export Notebook as... > PDF"
   ]
  },
  {
   "cell_type": "raw",
   "id": "732f19cb-7293-48ef-a6be-d8ebb76bd2b4",
   "metadata": {},
   "source": [
    "Comments?"
   ]
  }
 ],
 "metadata": {
  "kernelspec": {
   "display_name": "Python 3 (ipykernel)",
   "language": "python",
   "name": "python3"
  },
  "language_info": {
   "codemirror_mode": {
    "name": "ipython",
    "version": 3
   },
   "file_extension": ".py",
   "mimetype": "text/x-python",
   "name": "python",
   "nbconvert_exporter": "python",
   "pygments_lexer": "ipython3",
   "version": "3.10.6"
  }
 },
 "nbformat": 4,
 "nbformat_minor": 5
}
