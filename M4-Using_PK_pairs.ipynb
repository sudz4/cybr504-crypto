{
 "cells": [
  {
   "cell_type": "markdown",
   "id": "c7ccfafc-92d4-45d2-8862-8ce0b7dd5206",
   "metadata": {},
   "source": [
    "### Generate an RSA keypair"
   ]
  },
  {
   "cell_type": "markdown",
   "id": "b96b9af2-735d-4d0c-84b9-b54218ce5851",
   "metadata": {},
   "source": [
    "We start this lab by generating rsa keypairs. There are many tools available to help you generate key pairs. In this lab we will start with ssh-keygen. It is available on Linux, Mac and Windows."
   ]
  },
  {
   "cell_type": "markdown",
   "id": "bde2016a-0109-4291-9dd1-216f1cb30711",
   "metadata": {},
   "source": [
    "------------\n"
   ]
  },
  {
   "cell_type": "markdown",
   "id": "873b9bb7-d03a-4608-a4ce-a7cb47521125",
   "metadata": {
    "tags": []
   },
   "source": [
    "### Creating a public-private key pair\n",
    "\n",
    "Run the openssl command to create a private RSA key. Then run the second command to extract the public key"
   ]
  },
  {
   "cell_type": "code",
   "execution_count": 172,
   "id": "0fc1c922-096d-45d2-89fc-99db7c6392de",
   "metadata": {},
   "outputs": [],
   "source": [
    "!openssl genrsa -out key.pem 4096"
   ]
  },
  {
   "cell_type": "code",
   "execution_count": 173,
   "id": "a4454b91-8ed9-4c64-846e-535727f97f97",
   "metadata": {},
   "outputs": [
    {
     "name": "stdout",
     "output_type": "stream",
     "text": [
      "writing RSA key\n"
     ]
    }
   ],
   "source": [
    "!openssl rsa -in key.pem -pubout > key.pub"
   ]
  },
  {
   "cell_type": "markdown",
   "id": "6c15f920-7dac-407e-8362-77198e804bd2",
   "metadata": {
    "tags": []
   },
   "source": [
    "### Using public-private key pair\n",
    "\n",
    "The two basic uses of public-key cryptography are to encrypt something or to sign something. But we typically never use asymmetric encryption to encrypt files.\n",
    "\n",
    "Why? Give 2 reasons."
   ]
  },
  {
   "cell_type": "raw",
   "id": "981044f1-d74b-4cdf-92b9-68148bb30fac",
   "metadata": {},
   "source": []
  },
  {
   "cell_type": "markdown",
   "id": "8a6cbb2a-a426-471d-8625-d911dd87358f",
   "metadata": {},
   "source": [
    "Run the openssl command to encrypt a file. Use your password file as the data to encrypt."
   ]
  },
  {
   "cell_type": "code",
   "execution_count": 174,
   "id": "81bb09ac-19f9-4dea-b1ea-46127bbadbb8",
   "metadata": {},
   "outputs": [
    {
     "name": "stdout",
     "output_type": "stream",
     "text": [
      "Public Key operation error\n",
      "40775061927F0000:error:0200006E:rsa routines:ossl_rsa_padding_add_PKCS1_type_2_ex:data too large for key size:../crypto/rsa/rsa_pk1.c:129:\n"
     ]
    }
   ],
   "source": [
    "!openssl pkeyutl -in /etc/passwd -out ./passwd.ctxt -inkey ./key.pub -pubin -encrypt"
   ]
  },
  {
   "cell_type": "markdown",
   "id": "7dd695bd-11dd-4577-9aba-35b38586fc9e",
   "metadata": {},
   "source": [
    "This generated a \"Public Key operation error\". Why was that?"
   ]
  },
  {
   "cell_type": "raw",
   "id": "e917915d-e9f6-4ca1-a327-51e91253593c",
   "metadata": {},
   "source": []
  },
  {
   "cell_type": "markdown",
   "id": "bc8fde1f-13ae-4e08-8b53-a402eee89eae",
   "metadata": {},
   "source": [
    "Look at the size of the file. `!wc -m /etc/passwd`"
   ]
  },
  {
   "cell_type": "code",
   "execution_count": null,
   "id": "dc6b10f6-589a-4f17-af95-fa25e6d3e9b0",
   "metadata": {},
   "outputs": [],
   "source": []
  },
  {
   "cell_type": "markdown",
   "id": "9dbbbe3d-331e-43a7-819a-67c42a26f094",
   "metadata": {},
   "source": [
    "Does that help?"
   ]
  },
  {
   "cell_type": "raw",
   "id": "9cc2996f-995a-4c03-90f0-cb051da9a68b",
   "metadata": {},
   "source": []
  },
  {
   "cell_type": "markdown",
   "id": "38b7e86a-8faf-49d8-8cba-20fcd2568d7b",
   "metadata": {},
   "source": [
    "Typcially we use public-key encryption to encrypt something small, like the digest (hash value) of the file.\n",
    "\n",
    "Use the openssl command to generate the sha2-256 digest for your password file (/etc/passwd)<br>\n",
    "`!openssl dgst -sha2-256` <br>\n"
   ]
  },
  {
   "cell_type": "code",
   "execution_count": 175,
   "id": "ef3efe2d-0663-44c8-9351-4036dec4b059",
   "metadata": {},
   "outputs": [],
   "source": [
    "!cat /etc/passwd | openssl dgst -sha2-256 -out ./passwd.dgst"
   ]
  },
  {
   "cell_type": "markdown",
   "id": "96bfab4d-dcb6-4292-b8ad-6f8ef1387ce5",
   "metadata": {},
   "source": [
    "Now take a look at the digest."
   ]
  },
  {
   "cell_type": "code",
   "execution_count": 176,
   "id": "af6b3bcf-c4c9-43e2-a5fc-e8f3e1eac4f9",
   "metadata": {},
   "outputs": [
    {
     "name": "stdout",
     "output_type": "stream",
     "text": [
      "SHA2-256(stdin)= bbb5b41faf87dc348dfc4def35fde32a0bf5f6c3f788b46836d735b11496abd4\n"
     ]
    }
   ],
   "source": [
    "%cat ./passwd.dgst"
   ]
  },
  {
   "cell_type": "code",
   "execution_count": 177,
   "id": "067dab1e-8ecb-4d39-8428-7cf162238e07",
   "metadata": {},
   "outputs": [],
   "source": [
    "!openssl pkeyutl -in ./passwd.dgst -out ./passwd.cdgst -inkey ./key.pub -pubin -encrypt"
   ]
  },
  {
   "cell_type": "markdown",
   "id": "22d60b8f-f46d-4892-8d40-e87464414bd2",
   "metadata": {},
   "source": [
    "Now take a look at the output."
   ]
  },
  {
   "cell_type": "code",
   "execution_count": 178,
   "id": "36a816f6-8776-4d30-bf85-e2f4903bff0f",
   "metadata": {},
   "outputs": [
    {
     "name": "stdout",
     "output_type": "stream",
     "text": [
      "�ߩ�A�8\u0018\u0012β\u001c",
      "E�\u000fD\u0012������\u0010i\u0017��ѷ@���0\u0000��R�z&\u0012�\u000b",
      "4�`yhg�D\u001d",
      "�F���\u00115�NZ,0;�\u0002[�r��\u0019�3\u00178ǁ�#�Mq��H�@�_�L�\u0017�\u0002���_������������k>�\u0014��P�L�\u0012ܱ�s��K�b`�\u0010FE\u00000�{�����McZ�8}?�\t�<׈��W_���.A�W��Oy4�?\u0019\"!�Y��b�.橰4�4��7�T�w�\u001c",
      "��\u000b",
      "�e�@�@q6e�0�3d\n",
      "��[����f:�Ђ�\u0005Jު����t\u0007L��T�\u000e�!Jj�(a�֢��uK�5�`�ס�j��F�hPӠ�q��h�����`���Fc\u0006�J.\u0011-��|\u001a���_��\u000b",
      "w��0��\u000eS0Z�y<�\u0004��$4�tj\"��H\u0005\u0002/{�y�\u001a��)W��7�S��FE-j����7���ϛ�!���B�\u0006Q,�dx\u0000�����\u0004X���U�����A�S#�F\u000e�#��h��1܂N'�P�\u0006(����"
     ]
    }
   ],
   "source": [
    "!cat ./passwd.cdgst"
   ]
  },
  {
   "cell_type": "markdown",
   "id": "9f178ff1-2d6c-4520-8f96-a0914251331c",
   "metadata": {},
   "source": [
    "Rerun the command to encrypt the digest and then review the output. What do you notice? Explain."
   ]
  },
  {
   "cell_type": "raw",
   "id": "b6b0c6e4-9f37-41d7-b9a9-17bf34d84bfe",
   "metadata": {},
   "source": []
  },
  {
   "cell_type": "markdown",
   "id": "1e380b19-ff1a-4440-b49e-53e7ca9a82c9",
   "metadata": {},
   "source": [
    "---\n",
    "## Digital Signatures"
   ]
  },
  {
   "cell_type": "markdown",
   "id": "78b1ed98-fed8-4420-bc2f-e9d0d8f35643",
   "metadata": {},
   "source": [
    "Asymmetric cryptography can also be used to digitally sign data, but here you use the private key, and just like encrypting, the size of the data you can sign is limited."
   ]
  },
  {
   "cell_type": "code",
   "execution_count": 179,
   "id": "7e662856-a08e-4ca0-a435-c59427c20807",
   "metadata": {},
   "outputs": [],
   "source": [
    "!openssl dgst -sha2-256 -sign key.pem -out passwd.sign /etc/passwd"
   ]
  },
  {
   "cell_type": "code",
   "execution_count": 180,
   "id": "9001c42d-df5a-4c3d-a0a5-afec489e209a",
   "metadata": {},
   "outputs": [
    {
     "name": "stdout",
     "output_type": "stream",
     "text": [
      ">-94\u001d",
      "_���;u0g��p��-\u0002�ISr:\"c\u000e��L�?��\u0000P���\u0005x#˯!�]\\�hiV�� E\u001a���S��z�\u001e",
      "�\u0006`�a�G\n",
      "���yyg.�Ɣޏl�ڡ2*�\u0007�L\u0014��\u0011�o�(B�_Ia�M��\u0002�!\u0006.�j�K�\"�D=��sR&�dx�\f",
      "\u0013W�\u0005���X4ن\u0011�`9�{&a��m؜\u001f��'>R���\n",
      "S�e�s�X.�mԋ�����:�=F�{A\u001fQ��w1���r2D,���h�,��F��y%���/�����n�B-��B�C-c��M�8!v�N�r�5SF�W�\u0017�5�\u0011�\u0007?�M���D����3VH��W\"�͝��9�K2��8\u0015�\u0002��K�\u0004"
     ]
    }
   ],
   "source": [
    "!cat ./passwd.sign"
   ]
  },
  {
   "cell_type": "markdown",
   "id": "1621dbcd-d35d-4636-b554-541da61a4e30",
   "metadata": {},
   "source": [
    "Now verify the file:<br>\n",
    "`!openssl dgst -verify ./key.pub -keyform pem -sha256 -signature passwd.sign -binary /etc/passwd`\n"
   ]
  },
  {
   "cell_type": "code",
   "execution_count": 188,
   "id": "de3df119-491d-4f6e-b4e4-6c1964eeb2fb",
   "metadata": {},
   "outputs": [
    {
     "name": "stdout",
     "output_type": "stream",
     "text": [
      "Verified OK\n"
     ]
    }
   ],
   "source": [
    "!openssl dgst -verify ./key.pub -keyform pem -sha256 -signature passwd.sign -binary /etc/passwd\n"
   ]
  },
  {
   "cell_type": "code",
   "execution_count": 186,
   "id": "01821467-5d5d-4a0e-ab1f-1be035a83e98",
   "metadata": {},
   "outputs": [],
   "source": []
  },
  {
   "cell_type": "markdown",
   "id": "5aa01c76-e5e7-42ec-81e2-cc9412303cd2",
   "metadata": {},
   "source": [
    "----------\n",
    "### This concludes the lab.\n",
    "\n",
    "Use File > Save and Export Notebook as... > PDF"
   ]
  },
  {
   "cell_type": "raw",
   "id": "6fe458c0-ab74-4fac-913d-49919472a2f5",
   "metadata": {},
   "source": [
    "Comments?"
   ]
  }
 ],
 "metadata": {
  "kernelspec": {
   "display_name": "Python 3 (ipykernel)",
   "language": "python",
   "name": "python3"
  },
  "language_info": {
   "codemirror_mode": {
    "name": "ipython",
    "version": 3
   },
   "file_extension": ".py",
   "mimetype": "text/x-python",
   "name": "python",
   "nbconvert_exporter": "python",
   "pygments_lexer": "ipython3",
   "version": "3.10.6"
  }
 },
 "nbformat": 4,
 "nbformat_minor": 5
}
