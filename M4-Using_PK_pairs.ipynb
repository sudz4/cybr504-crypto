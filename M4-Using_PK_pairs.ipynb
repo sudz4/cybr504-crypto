{
 "cells": [
  {
   "cell_type": "markdown",
   "id": "c7ccfafc-92d4-45d2-8862-8ce0b7dd5206",
   "metadata": {},
   "source": [
    "### Generate an RSA keypair"
   ]
  },
  {
   "cell_type": "markdown",
   "id": "b96b9af2-735d-4d0c-84b9-b54218ce5851",
   "metadata": {},
   "source": [
    "We start this lab by generating rsa keypairs. There are many tools available to help you generate key pairs. In this lab we will start with ssh-keygen. It is available on Linux, Mac and Windows."
   ]
  },
  {
   "cell_type": "markdown",
   "id": "bde2016a-0109-4291-9dd1-216f1cb30711",
   "metadata": {},
   "source": [
    "------------\n"
   ]
  },
  {
   "cell_type": "markdown",
   "id": "873b9bb7-d03a-4608-a4ce-a7cb47521125",
   "metadata": {
    "tags": []
   },
   "source": [
    "### Creating a public-private key pair\n",
    "\n",
    "Run the openssl command to create a private RSA key. Then run the second command to extract the public key"
   ]
  },
  {
   "cell_type": "code",
   "execution_count": 1,
   "id": "0fc1c922-096d-45d2-89fc-99db7c6392de",
   "metadata": {
    "tags": []
   },
   "outputs": [],
   "source": [
    "!openssl genrsa -out key.pem 4096"
   ]
  },
  {
   "cell_type": "code",
   "execution_count": 2,
   "id": "a4454b91-8ed9-4c64-846e-535727f97f97",
   "metadata": {
    "tags": []
   },
   "outputs": [
    {
     "name": "stdout",
     "output_type": "stream",
     "text": [
      "writing RSA key\n"
     ]
    }
   ],
   "source": [
    "!openssl rsa -in key.pem -pubout > key.pub"
   ]
  },
  {
   "cell_type": "markdown",
   "id": "6c15f920-7dac-407e-8362-77198e804bd2",
   "metadata": {
    "tags": []
   },
   "source": [
    "### Using public-private key pair\n",
    "\n",
    "The two basic uses of public-key cryptography are to encrypt something or to sign something. But we typically never use asymmetric encryption to encrypt files.\n",
    "\n",
    "Why? Give 2 reasons."
   ]
  },
  {
   "cell_type": "raw",
   "id": "981044f1-d74b-4cdf-92b9-68148bb30fac",
   "metadata": {},
   "source": [
    "The main reason is that public-key encryption is (in general) slower and less efficient for large files.\n",
    "\n",
    "A second reason is it is more complex to manage the keys involved with asymmetric encryption. With symmetric encryption a (shared) single key is used for both encryption and decryption. The ke is shared between the parties who need to access the file. With public key cryptography each user has a pair of keys (public and private), and the public keys need to be exchanged and managed securely."
   ]
  },
  {
   "cell_type": "markdown",
   "id": "8a6cbb2a-a426-471d-8625-d911dd87358f",
   "metadata": {},
   "source": [
    "Run the openssl command to encrypt a file. Use your password file as the data to encrypt."
   ]
  },
  {
   "cell_type": "code",
   "execution_count": 3,
   "id": "81bb09ac-19f9-4dea-b1ea-46127bbadbb8",
   "metadata": {
    "tags": []
   },
   "outputs": [
    {
     "name": "stdout",
     "output_type": "stream",
     "text": [
      "Public Key operation error\n",
      "20F04A97FFFF0000:error:0200006E:rsa routines:ossl_rsa_padding_add_PKCS1_type_2_ex:data too large for key size:../crypto/rsa/rsa_pk1.c:129:\n"
     ]
    }
   ],
   "source": [
    "!openssl pkeyutl -in /etc/passwd -out ./passwd.ctxt -inkey ./key.pub -pubin -encrypt"
   ]
  },
  {
   "cell_type": "markdown",
   "id": "7dd695bd-11dd-4577-9aba-35b38586fc9e",
   "metadata": {},
   "source": [
    "This generated a \"Public Key operation error\". Why was that?"
   ]
  },
  {
   "cell_type": "raw",
   "id": "e917915d-e9f6-4ca1-a327-51e91253593c",
   "metadata": {},
   "source": [
    "The \"Public Key operation error\" is thrown because the file (in this case '/etc/password', is too large to be encrypted using the specified public key. Specifically, the error message indicates that the data is too large for the key size. "
   ]
  },
  {
   "cell_type": "markdown",
   "id": "bc8fde1f-13ae-4e08-8b53-a402eee89eae",
   "metadata": {},
   "source": [
    "Look at the size of the file. `!wc -m /etc/passwd`"
   ]
  },
  {
   "cell_type": "code",
   "execution_count": 17,
   "id": "dc6b10f6-589a-4f17-af95-fa25e6d3e9b0",
   "metadata": {
    "tags": []
   },
   "outputs": [
    {
     "name": "stdout",
     "output_type": "stream",
     "text": [
      "2993 /etc/passwd\n"
     ]
    }
   ],
   "source": [
    "!wc -m /etc/passwd"
   ]
  },
  {
   "cell_type": "markdown",
   "id": "9dbbbe3d-331e-43a7-819a-67c42a26f094",
   "metadata": {},
   "source": [
    "Does that help?"
   ]
  },
  {
   "cell_type": "raw",
   "id": "9cc2996f-995a-4c03-90f0-cb051da9a68b",
   "metadata": {},
   "source": [
    "The 'wc -m' command gives us the character count. But the size of the file in bytes is what we are looking for because it is more rellevant for encryption purposes."
   ]
  },
  {
   "cell_type": "markdown",
   "id": "680b99f6-11c2-4a1e-b1ad-8cc026fcbd5f",
   "metadata": {},
   "source": [
    "To find the size of the file in bytes I could run the cell below."
   ]
  },
  {
   "cell_type": "code",
   "execution_count": 18,
   "id": "5b3b62be-f7c8-4044-b731-15c043bf5674",
   "metadata": {
    "tags": []
   },
   "outputs": [
    {
     "name": "stdout",
     "output_type": "stream",
     "text": [
      "-rw-r--r-- 1 root root 2993 Mar  8 20:39 /etc/passwd\n"
     ]
    }
   ],
   "source": [
    "!ls -l /etc/passwd"
   ]
  },
  {
   "cell_type": "markdown",
   "id": "0dbf667a-6d3f-410a-ac99-8d6fde52f080",
   "metadata": {},
   "source": [
    "This is weird though because the character and byte size are the same. "
   ]
  },
  {
   "cell_type": "markdown",
   "id": "72af26b1-02ae-4055-bcf5-dd84885e0b6b",
   "metadata": {},
   "source": [
    "If the file is encoded using ASCII, which means that the file size in bytes and character count will be the same"
   ]
  },
  {
   "cell_type": "code",
   "execution_count": 19,
   "id": "a6ccdc80-84e5-4f63-9d52-2ced7f8c0716",
   "metadata": {
    "tags": []
   },
   "outputs": [
    {
     "name": "stdout",
     "output_type": "stream",
     "text": [
      "/etc/passwd: ASCII text\n"
     ]
    }
   ],
   "source": [
    "!file /etc/passwd"
   ]
  },
  {
   "cell_type": "markdown",
   "id": "71918423-8966-401d-b8da-8a298275157b",
   "metadata": {
    "tags": []
   },
   "source": [
    "Password files typically only contain ASCII characters.\n",
    "ASCII is a character encoding standard that assigns each character a unique numberical code."
   ]
  },
  {
   "cell_type": "markdown",
   "id": "38b7e86a-8faf-49d8-8cba-20fcd2568d7b",
   "metadata": {},
   "source": [
    "Typcially we use public-key encryption to encrypt something small, like the digest (hash value) of the file.\n",
    "\n",
    "Use the openssl command to generate the sha2-256 digest for your password file (/etc/passwd)<br>\n",
    "`!openssl dgst -sha2-256` <br>\n"
   ]
  },
  {
   "cell_type": "code",
   "execution_count": 9,
   "id": "ef3efe2d-0663-44c8-9351-4036dec4b059",
   "metadata": {
    "tags": []
   },
   "outputs": [],
   "source": [
    "!cat /etc/passwd | openssl dgst -sha2-256 -out ./passwd.dgst"
   ]
  },
  {
   "cell_type": "markdown",
   "id": "96bfab4d-dcb6-4292-b8ad-6f8ef1387ce5",
   "metadata": {},
   "source": [
    "Now take a look at the digest."
   ]
  },
  {
   "cell_type": "code",
   "execution_count": 10,
   "id": "af6b3bcf-c4c9-43e2-a5fc-e8f3e1eac4f9",
   "metadata": {
    "tags": []
   },
   "outputs": [
    {
     "name": "stdout",
     "output_type": "stream",
     "text": [
      "SHA2-256(stdin)= c4b24f307830cb1b8ea69a5bd74f0c9d52f118ea2c5d4de06335d59ba70e6f4e\n"
     ]
    }
   ],
   "source": [
    "%cat ./passwd.dgst"
   ]
  },
  {
   "cell_type": "code",
   "execution_count": 11,
   "id": "067dab1e-8ecb-4d39-8428-7cf162238e07",
   "metadata": {
    "tags": []
   },
   "outputs": [],
   "source": [
    "!openssl pkeyutl -in ./passwd.dgst -out ./passwd.cdgst -inkey ./key.pub -pubin -encrypt"
   ]
  },
  {
   "cell_type": "markdown",
   "id": "22d60b8f-f46d-4892-8d40-e87464414bd2",
   "metadata": {},
   "source": [
    "Now take a look at the output."
   ]
  },
  {
   "cell_type": "code",
   "execution_count": 12,
   "id": "36a816f6-8776-4d30-bf85-e2f4903bff0f",
   "metadata": {
    "tags": []
   },
   "outputs": [
    {
     "name": "stdout",
     "output_type": "stream",
     "text": [
      "\u0000��!��\u001f6[�f��F���\u00069\u000b",
      "�\u001a\u0002s��f,�0����h���\u0003\u0018y�p�EF&ςU1@Sqdf����e=�\u001f\u0001�=�s�������h�_pi'�X�}�\u0004-I��\u001f��&٦��s����\u000f�M\u001b�WG�`\u000e��-^%Tm�[W\u001a\u0014FK\t�\u0002�e0�U�󞿾<��`�Fz�F\u0004�\"�\"#�d�-i�\f",
      "n��\u000f\u0010�a�w˵1m�?\u0000�p�詫�A\u001b/\u000e�\u00039���#�����I�=K&Ū�G,ˍ¨\u0007�^i��\u0005y�t�׉����Tm�2]�m\u0006BD��g�0<5t���\u001bA\u0001D\u0007Y�T�o�}E\u001e",
      "��3��\u001a����4�hr\\�W���<��M\f",
      "��,A� =\u0019q�c��FÂ��K\u000e��j��Ch:¨-�[�>��s�"
     ]
    }
   ],
   "source": [
    "!cat ./passwd.cdgst"
   ]
  },
  {
   "cell_type": "markdown",
   "id": "9f178ff1-2d6c-4520-8f96-a0914251331c",
   "metadata": {},
   "source": [
    "Rerun the command to encrypt the digest and then review the output. What do you notice? Explain."
   ]
  },
  {
   "cell_type": "raw",
   "id": "b6b0c6e4-9f37-41d7-b9a9-17bf34d84bfe",
   "metadata": {},
   "source": [
    "!openssl pkeyutl -in ./passwd.dgst -out ./passwd.cdgst -inkey ./key.pub -pubin -encrypt"
   ]
  },
  {
   "cell_type": "code",
   "execution_count": 13,
   "id": "f21070ed-0cac-409d-8780-9663f6485eb6",
   "metadata": {
    "tags": []
   },
   "outputs": [
    {
     "name": "stdout",
     "output_type": "stream",
     "text": [
      "\u0000��!��\u001f6[�f��F���\u00069\u000b",
      "�\u001a\u0002s��f,�0����h���\u0003\u0018y�p�EF&ςU1@Sqdf����e=�\u001f\u0001�=�s�������h�_pi'�X�}�\u0004-I��\u001f��&٦��s����\u000f�M\u001b�WG�`\u000e��-^%Tm�[W\u001a\u0014FK\t�\u0002�e0�U�󞿾<��`�Fz�F\u0004�\"�\"#�d�-i�\f",
      "n��\u000f\u0010�a�w˵1m�?\u0000�p�詫�A\u001b/\u000e�\u00039���#�����I�=K&Ū�G,ˍ¨\u0007�^i��\u0005y�t�׉����Tm�2]�m\u0006BD��g�0<5t���\u001bA\u0001D\u0007Y�T�o�}E\u001e",
      "��3��\u001a����4�hr\\�W���<��M\f",
      "��,A� =\u0019q�c��FÂ��K\u000e��j��Ch:¨-�[�>��s�"
     ]
    }
   ],
   "source": [
    "!cat ./passwd.cdgst"
   ]
  },
  {
   "cell_type": "markdown",
   "id": "2a869511-fa7a-4700-9d1a-882149d2f3ed",
   "metadata": {},
   "source": [
    "The output is the same."
   ]
  },
  {
   "cell_type": "markdown",
   "id": "1e380b19-ff1a-4440-b49e-53e7ca9a82c9",
   "metadata": {},
   "source": [
    "---\n",
    "## Digital Signatures"
   ]
  },
  {
   "cell_type": "markdown",
   "id": "78b1ed98-fed8-4420-bc2f-e9d0d8f35643",
   "metadata": {},
   "source": [
    "Asymmetric cryptography can also be used to digitally sign data, but here you use the private key, and just like encrypting, the size of the data you can sign is limited."
   ]
  },
  {
   "cell_type": "code",
   "execution_count": 14,
   "id": "7e662856-a08e-4ca0-a435-c59427c20807",
   "metadata": {
    "tags": []
   },
   "outputs": [],
   "source": [
    "!openssl dgst -sha2-256 -sign key.pem -out passwd.sign /etc/passwd"
   ]
  },
  {
   "cell_type": "code",
   "execution_count": 15,
   "id": "9001c42d-df5a-4c3d-a0a5-afec489e209a",
   "metadata": {
    "tags": []
   },
   "outputs": [
    {
     "name": "stdout",
     "output_type": "stream",
     "text": [
      "��[.����Sج�\u000f��T\u0017���9��%�R���Y\n",
      "�'hd�\n",
      "�F�aSKc�cn��\u001d",
      "o7�'`���B��^�(>W�7�u\u00004�ɮjm\u0011\u0011*�d\u0001�q{�\u00149���7�\u0000~����\u0006�5�d�wĢ\u0016��\u0012h��\\�K�o�ͼ�$���Ђ�a�Y�M�1,�:��cJ�\u0001\u000e\n",
      "�ݘk�!�\u0005\u001e",
      "����,���S��j3�1��uOkʜ7R+�\u0013�c\u0014|\u0014�1x���\u001f7�T��Q\u0004�t*�\u000f\u0013�<B�}�����B��\u001b\u00111�6�.5��~<�%�\n",
      "\u0010\u0016��O�/\u000b",
      "�f\u000b",
      "B\n",
      "\u0002� �\u0019<g\u001d",
      "�w�\u0010\u001e",
      "N��xL�#P\u0015���h�\u0013u�yҨ�\u0017�//�n�֩\u0011\u0017%�?k��'\u001b %�r�O@�\"U\u0017���\u0007���:8$4�D�����D]\u001f&��W�ۦ�@�E\u0011De�vI���\u001c",
      "�$���\"\u001f\n",
      "\f",
      "V7��j�'fKkO`ʘZ��\\C�ȯ4d�\u00178#u$���k���\u001aV�/�\u0014�ʭӉٶ`�t��XM�2�:\u000e�\u0016�#G%a\u001e",
      "\t<W㇢Z��]D��\u0010\u0006���B\u0019�=�\u0018\u001d",
      "C\f",
      ">�\u000e�婜U@h�I�{�\u0016"
     ]
    }
   ],
   "source": [
    "!cat ./passwd.sign"
   ]
  },
  {
   "cell_type": "markdown",
   "id": "1621dbcd-d35d-4636-b554-541da61a4e30",
   "metadata": {},
   "source": [
    "Now verify the file:<br>\n",
    "`!openssl dgst -verify ./key.pub -keyform pem -sha256 -signature passwd.sign -binary /etc/passwd`\n"
   ]
  },
  {
   "cell_type": "code",
   "execution_count": 16,
   "id": "de3df119-491d-4f6e-b4e4-6c1964eeb2fb",
   "metadata": {
    "tags": []
   },
   "outputs": [
    {
     "name": "stdout",
     "output_type": "stream",
     "text": [
      "Verified OK\n"
     ]
    }
   ],
   "source": [
    "!openssl dgst -verify ./key.pub -keyform pem -sha256 -signature passwd.sign -binary /etc/passwd\n"
   ]
  },
  {
   "cell_type": "markdown",
   "id": "5aa01c76-e5e7-42ec-81e2-cc9412303cd2",
   "metadata": {},
   "source": [
    "----------\n",
    "### This concludes the lab.\n",
    "\n",
    "Use File > Save and Export Notebook as... > PDF"
   ]
  },
  {
   "cell_type": "raw",
   "id": "6fe458c0-ab74-4fac-913d-49919472a2f5",
   "metadata": {},
   "source": [
    "Comments?"
   ]
  }
 ],
 "metadata": {
  "kernelspec": {
   "display_name": "Python 3 (ipykernel)",
   "language": "python",
   "name": "python3"
  },
  "language_info": {
   "codemirror_mode": {
    "name": "ipython",
    "version": 3
   },
   "file_extension": ".py",
   "mimetype": "text/x-python",
   "name": "python",
   "nbconvert_exporter": "python",
   "pygments_lexer": "ipython3",
   "version": "3.10.6"
  }
 },
 "nbformat": 4,
 "nbformat_minor": 5
}
