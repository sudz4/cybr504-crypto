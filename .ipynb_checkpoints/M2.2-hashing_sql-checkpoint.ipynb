{
 "cells": [
  {
   "cell_type": "markdown",
   "id": "4aedb97a-8f7b-4e6d-bcf1-e847eb5d025b",
   "metadata": {
    "tags": []
   },
   "source": [
    "# Module 2.2 - Hackers\n"
   ]
  },
  {
   "cell_type": "markdown",
   "id": "6d3a650a-f6fd-4f9c-89de-669761195d5a",
   "metadata": {},
   "source": [
    "<div class=\"alert alert-block alert-info\">\n",
    "<span style=\"color:black\">\n",
    "<h3>Part 1:</h3>\n",
    "Your company received a call from a Alice, Inc. that their system had been compromised. That's bad enough, but someone posted a dump of their customer password database on a hacker site. The database was set up long ago by people no longer around, so the current staff doesn’t know that much about it. You’ve been asked to look at that table and assess what you can about it. \n",
    "<BR/><BR/>    \n",
    "Below is a log of what you were able to get from their database."
   ]
  },
  {
   "cell_type": "markdown",
   "id": "47688869-8178-4a56-80d0-6345d5041557",
   "metadata": {},
   "source": [
    "```cryptolabs@Ubuntu-20-04:~$ mysql -u crypto -p martigras\n",
    "Enter password: martigras123\n",
    "Reading table information for completion of table and column names\n",
    "You can turn off this feature to get a quicker startup with -A\n",
    "\n",
    "Welcome to the MySQL monitor.  Commands end with ; or \\g.\n",
    "Your MySQL connection id is 41\n",
    "Server version: 8.0.30-0ubuntu0.22.04.1 (Ubuntu)\n",
    "\n",
    "Copyright (c) 2000, 2022, Oracle and/or its affiliates.\n",
    "\n",
    "Oracle is a registered trademark of Oracle Corporation and/or its\n",
    "affiliates. Other names may be trademarks of their respective\n",
    "owners.\n",
    "\n",
    "Type 'help;' or '\\h' for help. Type '\\c' to clear the current input statement.\n",
    "```"
   ]
  },
  {
   "cell_type": "markdown",
   "id": "8da224cc-bb8a-40c2-8000-9b9370469544",
   "metadata": {},
   "source": [
    "\n",
    "```mysql> show tables;\n",
    "+---------------------+\n",
    "| Tables_in_martigras |\n",
    "+---------------------+\n",
    "| users               |\n",
    "+---------------------+\n",
    "1 row in set (0.00 sec)\n",
    "\n",
    "mysql> desc users;\n",
    "+-------------+--------------+------+-----+---------+-------+\n",
    "| Field       | Type         | Null | Key | Default | Extra |\n",
    "+-------------+--------------+------+-----+---------+-------+\n",
    "| customer_id | int          | YES  |     | NULL    |       |\n",
    "| LastName    | varchar(64)  | YES  |     | NULL    |       |\n",
    "| FirstName   | varchar(32)  | YES  |     | NULL    |       |\n",
    "| Country     | varchar(32)  | YES  |     | NULL    |       |\n",
    "| user_name   | varchar(8)   | YES  |     | NULL    |       |\n",
    "| password    | varchar(255) | YES  |     | NULL    |       |\n",
    "| OrderRecord | int          | YES  |     | NULL    |       |\n",
    "| Resale      | int          | YES  |     | NULL    |       |\n",
    "| HistoryRef  | int          | YES  |     | NULL    |       |\n",
    "+-------------+--------------+------+-----+---------+-------+\n",
    "9 rows in set (0.00 sec)\n",
    "\n",
    "mysql> select count(*) from users;\n",
    "+----------+\n",
    "| count(*) |\n",
    "+----------+\n",
    "|      218 |\n",
    "+----------+\n",
    "1 row in set (0.00 sec)\n",
    "\n",
    "mysql> select * from users limit 10;\n",
    "+-------------+-----------+-----------+---------------+-----------+----------------------------------+-------------+--------+------------+\n",
    "| customer_id | LastName  | FirstName | Country       | user_name | password                         | OrderRecord | Resale | HistoryRef |\n",
    "+-------------+-----------+-----------+---------------+-----------+----------------------------------+-------------+--------+------------+\n",
    "|       10001 | STEWART   | DAVID     | United States | DSTEWART  | d41d8cd98f00b204e9800998ecf8427e |     1009039 |      0 |      11919 |\n",
    "|       10002 | CRUZ      | ANGELA    | United States | ACRUZ     | 2719be7b6ed0ad59ee90ec06dc7a290d |     1000424 |      0 |      24910 |\n",
    "|       10003 | ROSS      | KEITH     | United States | KROSS     | d41d8cd98f00b204e9800998ecf8427e |     1013881 |      0 |      17463 |\n",
    "|       10004 | POWELL    | MONICA    | United States | MPOWELL   | d41d8cd98f00b204e9800998ecf8427e |     1015213 |      0 |      20201 |\n",
    "|       10005 | COOK      | JONATHAN  | Canada        | JCOOK     | d41d8cd98f00b204e9800998ecf8427e |     1013666 |      0 |      21901 |\n",
    "|       10006 | HUGHES    | ERIN      | United States | EHUGHES   | d41d8cd98f00b204e9800998ecf8427e |     1003625 |      0 |      24604 |\n",
    "|       10007 | ADAMS     | JEFFERY   | United States | JADAMS    | d41d8cd98f00b204e9800998ecf8427e |     1012405 |      0 |      10319 |\n",
    "|       10008 | COOPER    | CHELSEA   | United States | CCOOPER   | 954eefa547afa2b3a70e0da613550dea |     1000258 |      0 |      12111 |\n",
    "|       10009 | HERNANDEZ | WHITNEY   | United States | WHERNAND  | 12fff3a9a74a0db6cef2974bc2ff5be2 |     1005040 |      1 |      18849 |\n",
    "|       10010 | YOUNG     | ERIN      | United States | EYOUNG    | d41d8cd98f00b204e9800998ecf8427e |     1008527 |      0 |      19005 |\n",
    "+-------------+-----------+-----------+---------------+-----------+----------------------------------+-------------+--------+------------+\n",
    "10 rows in set (0.00 sec)\n",
    "\n",
    "mysql> select count(distinct password) from users;\n",
    "+--------------------------+\n",
    "| count(distinct password) |\n",
    "+--------------------------+\n",
    "|                      114 |\n",
    "+--------------------------+\n",
    "1 row in set (0.00 sec)\n",
    "\n",
    "mysql> select password, count(*) from users group by password having count(password) > 1;\n",
    "+----------------------------------+----------+\n",
    "| password                         | count(*) |\n",
    "+----------------------------------+----------+\n",
    "| d41d8cd98f00b204e9800998ecf8427e |      103 |\n",
    "| f968a1e0938619fb7bead1a795ef597a |        3 |\n",
    "+----------------------------------+----------+\n",
    "2 rows in set (0.00 sec)\n",
    "```\n"
   ]
  },
  {
   "cell_type": "markdown",
   "id": "7cd95bd2-cbd5-4597-a63c-9cf4da437468",
   "metadata": {},
   "source": [
    "<div class=\"alert alert-block alert-info\">\n",
    "<span style=\"color:black\">\n",
    "Looking at the database table, in particular the stored passwords, what do you notice?"
   ]
  },
  {
   "cell_type": "code",
   "execution_count": null,
   "id": "786f9b29-598f-4c49-b79b-11a48e4fefcd",
   "metadata": {},
   "outputs": [],
   "source": [
    "103 identical passwords"
   ]
  },
  {
   "cell_type": "markdown",
   "id": "190500ec-b9d2-4850-b350-80b070c7a576",
   "metadata": {},
   "source": [
    "<div class=\"alert alert-block alert-info\">\n",
    "<span style=\"color:black\">\n",
    "<h4>Given what you have observed:</h4>\n",
    "\n",
    "Are the passwords encrypted?"
   ]
  },
  {
   "cell_type": "raw",
   "id": "ea443159-4240-4c81-8d9e-b8cf3c6dff8c",
   "metadata": {},
   "source": [
    "Answer: No they are hashed"
   ]
  },
  {
   "cell_type": "markdown",
   "id": "0ad357fa-bbb8-4f97-a3e7-9135c2bfe8ed",
   "metadata": {
    "jupyter": {
     "source_hidden": true
    },
    "tags": []
   },
   "source": [
    "<div class=\"alert alert-block alert-warning\">\n",
    "<span style=\"color:black\">\n",
    "Probably not. The stored values are all the same length. (encrypted is not the same as hashed)"
   ]
  },
  {
   "cell_type": "markdown",
   "id": "9855dc32-3377-4f57-87d1-c23445588fde",
   "metadata": {},
   "source": [
    "<div class=\"alert alert-block alert-info\">\n",
    "<span style=\"color:black\">\n",
    "Are the passwords hashed?"
   ]
  },
  {
   "cell_type": "raw",
   "id": "4abdce4b-d16d-4daa-88d4-1c8b7e7e64ff",
   "metadata": {},
   "source": [
    "Answer: Yes"
   ]
  },
  {
   "cell_type": "markdown",
   "id": "690b6258-4bf4-43b6-9497-2c87f06df5bd",
   "metadata": {
    "jupyter": {
     "source_hidden": true
    },
    "tags": []
   },
   "source": [
    "<div class=\"alert alert-block alert-warning\">\n",
    "<span style=\"color:black\">\n",
    "yes"
   ]
  },
  {
   "cell_type": "markdown",
   "id": "a1b4b15a-5bd9-4ead-8d1a-5f42e5961ee7",
   "metadata": {
    "tags": []
   },
   "source": [
    "<div class=\"alert alert-block alert-info\">\n",
    "<span style=\"color:black\">\n",
    "What is a likely explanation of the 3 identical hashes?"
   ]
  },
  {
   "cell_type": "raw",
   "id": "a7465155-8cb7-4ba0-92c2-a89fe7f6e0b6",
   "metadata": {},
   "source": [
    "Answer: They have identical passwords and if salted, identical salts."
   ]
  },
  {
   "cell_type": "markdown",
   "id": "18a8614b-3db6-4900-a8d5-61327897d12c",
   "metadata": {
    "jupyter": {
     "source_hidden": true
    },
    "tags": []
   },
   "source": [
    "<div class=\"alert alert-block alert-warning\">\n",
    "<span style=\"color:black\">\n",
    "They have same password (probably weak)"
   ]
  },
  {
   "cell_type": "markdown",
   "id": "bdb71f70-7d21-4cec-a264-fc4be39cac15",
   "metadata": {
    "tags": []
   },
   "source": [
    "<div class=\"alert alert-block alert-info\">\n",
    "<span style=\"color:black\">\n",
    "What is a plausible explanation for the list having many identical hashes?"
   ]
  },
  {
   "cell_type": "raw",
   "id": "a34a7db9-eb66-4d9c-b070-349e27dac201",
   "metadata": {},
   "source": [
    "Answer: Many default passwords."
   ]
  },
  {
   "cell_type": "markdown",
   "id": "c3137869-4a94-481f-8dfc-4d6d6584c6b1",
   "metadata": {
    "tags": []
   },
   "source": [
    "<div class=\"alert alert-block alert-warning\">\n",
    "<span style=\"color:black\">\n",
    "Default passwords, null passwords, broken code to suggest initial password."
   ]
  },
  {
   "cell_type": "markdown",
   "id": "be2f0b92-de2e-401f-99a1-e0167509bf33",
   "metadata": {
    "tags": []
   },
   "source": [
    "<div class=\"alert alert-block alert-info\">\n",
    "<span style=\"color:black\">\n",
    "Are the hashes salted? Explain how you got your answer."
   ]
  },
  {
   "cell_type": "raw",
   "id": "83da2f7f-2cdd-4491-9a82-c8789ad346cc",
   "metadata": {},
   "source": [
    "Answer: no, not salted. No salt field in the database and hashed passwords not unique.|"
   ]
  },
  {
   "cell_type": "markdown",
   "id": "2989b135-32b9-43bc-a6ea-7476544fdfbe",
   "metadata": {
    "tags": []
   },
   "source": [
    "<div class=\"alert alert-block alert-warning\">\n",
    "<span style=\"color:black\">\n",
    "no, not salted. No salt field in the database and hashed passwords not unique."
   ]
  },
  {
   "cell_type": "markdown",
   "id": "94cda36f-ea20-4ad5-bdd4-502b8a656de1",
   "metadata": {},
   "source": [
    "<div class=\"alert alert-block alert-info\">\n",
    "<span style=\"color:black\">\n",
    "How long, in bits, are the hashes?"
   ]
  },
  {
   "cell_type": "raw",
   "id": "6db65358-24e1-4e36-b5ee-ef524f547294",
   "metadata": {},
   "source": [
    "Answer:128 bits"
   ]
  },
  {
   "cell_type": "markdown",
   "id": "89f3707b-b500-43ea-b4ca-33f698983df6",
   "metadata": {
    "tags": []
   },
   "source": [
    "<div class=\"alert alert-block alert-warning\">\n",
    "<span style=\"color:black\">\n",
    "32 hex characters = 128 bits"
   ]
  },
  {
   "cell_type": "markdown",
   "id": "b11ac88a-78f0-4d87-a204-0d470e149ec1",
   "metadata": {},
   "source": [
    "<div class=\"alert alert-block alert-info\">\n",
    "<span style=\"color:black\">\n",
    "What is the most likely hash function being used? why?"
   ]
  },
  {
   "cell_type": "raw",
   "id": "31a80a04-b8c8-4f7c-992e-064b298fb085",
   "metadata": {},
   "source": [
    "Answer: MD5"
   ]
  },
  {
   "cell_type": "markdown",
   "id": "8b309353-2931-446c-be18-f1f01ecb916d",
   "metadata": {
    "tags": []
   },
   "source": [
    "<div class=\"alert alert-block alert-warning\">\n",
    "<span style=\"color:black\">\n",
    "MD5;  The hashed values are 32 hex characters (128 bits) long, MD5() is a MySQL function."
   ]
  },
  {
   "cell_type": "markdown",
   "id": "1549684f-e1c8-498a-8ac4-82224e58fdda",
   "metadata": {},
   "source": [
    "<div class=\"alert alert-block alert-info\">\n",
    "<span style=\"color:black\">\n",
    "How could you tell if the high number of repeated passwords were blank?"
   ]
  },
  {
   "cell_type": "raw",
   "id": "c22dafa2-0426-4fa4-b23f-a095790ce569",
   "metadata": {},
   "source": [
    "Answer: hash a blank value to see if it matches"
   ]
  },
  {
   "cell_type": "markdown",
   "id": "a10ead13-d045-4c50-961f-a633e07f896f",
   "metadata": {
    "tags": []
   },
   "source": [
    "<div class=\"alert alert-block alert-warning\">\n",
    "<span style=\"color:black\">\n",
    "hash a blank value and see if it matches d41d8cd98f00b204e9800998ecf8427e."
   ]
  },
  {
   "cell_type": "markdown",
   "id": "81ce1cf2-ce60-4086-892f-c2688a46d621",
   "metadata": {
    "tags": []
   },
   "source": [
    "<div class=\"alert alert-block alert-info\">\n",
    "<span style=\"color:black\">\n",
    "What recommendations would you have to improve password security in their database?"
   ]
  },
  {
   "cell_type": "raw",
   "id": "efa26cc4-b44a-4b81-952f-9c33aa1eaaa6",
   "metadata": {},
   "source": [
    "Answer:"
   ]
  },
  {
   "cell_type": "markdown",
   "id": "0c63faef-b534-45e0-b523-93099ac69928",
   "metadata": {},
   "source": [
    "<div class=\"alert alert-block alert-warning\">\n",
    "<span style=\"color:black\">\n",
    "    General recommendations for better security are to make passwords longer and enforce complexity rules (e.g., character mixes, no dictionary words, …)\n",
    "Salt the passwords.\n",
    "Use SHA2 to protect the passwords.\n",
    "Do not use default passwords.\n",
    "Consider asking the 3 users with the same password to change their password to something strong\n",
    "Make all users change their passwords\n",
    "Add a password expiration field and use in backend code."
   ]
  },
  {
   "cell_type": "markdown",
   "id": "ad7a3650-a26c-4094-865b-0e6c5d8f2763",
   "metadata": {},
   "source": [
    "<div class=\"alert alert-block alert-info\">\n",
    "<span style=\"color:black\">\n",
    "Suggest an SQL command to store passwords more securely in the table. You may alter the table if needed. Use <value> notation for variable values."
   ]
  },
  {
   "cell_type": "markdown",
   "id": "aa26e142-9742-4ec8-a31e-fb7da8456e26",
   "metadata": {},
   "source": [
    "<div class=\"alert alert-block alert-warning\">\n",
    "<span style=\"color:black\">\n",
    "    Representative answers:<br/>\n",
    "UPDATE clients SET password=SHA2(‘<password>’,256) WHERE username=’<user>’;<br/>\n",
    "or better:<br/>\n",
    "UPDATE clients SET salt=RANDOM_BYTES(8) where username=’<user>’;<br/>\n",
    "UPDATE clients SET password=SHA2(CONCAT(salt,‘<password>’),256) WHERE username=’<user>’;"
   ]
  },
  {
   "cell_type": "markdown",
   "id": "e2e91737-9aac-477d-a634-f6eca361abda",
   "metadata": {
    "tags": []
   },
   "source": [
    "<div class=\"alert alert-block alert-info\">\n",
    "<span style=\"color:black\">\n",
    "    <h3>Part 2</h3>\n",
    "You return 3 months after you informed them about what you saw in their password file, and they implemented your recommendations. The client tells you that for extra security they will make sure that no two users use the same password. When new users enroll a new account through the client's website (or they change their password), if the password they pick is already used, the system tells the user that password was already used and to try again.\n",
    "<br/><br/>\n",
    "In what way does or does not this practice improve security? \n",
    "What would you tell your client about this practice?"
   ]
  },
  {
   "cell_type": "raw",
   "id": "a9198b33-5d2a-4bc8-a71e-351a26cc445c",
   "metadata": {},
   "source": [
    "Answer:"
   ]
  },
  {
   "cell_type": "markdown",
   "id": "c39e7202-bab7-46fb-a2e7-05b19bde8261",
   "metadata": {},
   "source": [
    "<div class=\"alert alert-block alert-info\">\n",
    "<span style=\"color:black\">\n",
    "    <h2>Part 3: Hash collisions</h2>\n",
    "\n",
    "create a value to hash\n",
    "genreate a hash of the value using openssl\n",
    "note output\n",
    "generate a hash of the value again,\n",
    "\n",
    "create a nother value \n",
    "hash it\n",
    "compare it to the first value?\n",
    "how many bits are different?\n",
    "\n",
    "hash \"MESSAGE_A\"\n",
    "hash \"MESSAGE_B\"\n",
    "note: these inputs differ by 1 bit (MESSAGE_A=01000010, MESSAGE_B=01000011)\n",
    "\n",
    "note the output of the two how many bits differ?\n",
    "\n",
    "try this with different hash functions.\n",
    "\n",
    "\n",
    "file integrity can be checked by seeing if a hash of the file matches that provided by the file's publisher. It is important to compare all digits in the hashes. Unfortunately, most people do not check all. The first few or last few.  \n",
    "\n",
    "Write a program to generate hash values. How long until you can find one with the last 4 matching the given file's.\n"
   ]
  },
  {
   "cell_type": "code",
   "execution_count": 1,
   "id": "2e478167-9ea4-448a-b941-a57ff4234f20",
   "metadata": {
    "tags": []
   },
   "outputs": [
    {
     "name": "stdout",
     "output_type": "stream",
     "text": [
      "The byte equivalent of hash is : b'\\x9e\\xf2\\xff\\xe3\\x08\\xccl\\xfc\\xd5\\x88.6\\x85\\xc3\\xaf\\x14'\n"
     ]
    }
   ],
   "source": [
    "import hashlib\n",
    "  \n",
    "# encoding \"Wonderland Trolly\" using md5 hash\n",
    "# function \n",
    "result = hashlib.md5(b'Wonderland Trolly')\n",
    "  \n",
    "# printing the equivalent byte value.\n",
    "print(\"The byte equivalent of hash is : \", end =\"\")\n",
    "print(result.digest())"
   ]
  },
  {
   "cell_type": "code",
   "execution_count": 2,
   "id": "45b67615-f99d-454b-ac61-fefb16be6296",
   "metadata": {
    "tags": []
   },
   "outputs": [],
   "source": [
    "import hashlib\n",
    "  \n",
    "    \n",
    "#- calculate the number of bits differing between two different values\n",
    "def bit_differences( A,  B):\n",
    "  \n",
    "    count = 0\n",
    " \n",
    "    # since, the numbers are less than 2^31\n",
    "    # run the loop from '0' to '31' only\n",
    "    for i in range(0,32):\n",
    " \n",
    "        # right shift both the numbers by 'i' and\n",
    "        # check if the bit at the 0th position is different\n",
    "        if ((( A >>  i) & 1) != (( B >>  i) & 1)):\n",
    "             count=count+1\n",
    "          \n",
    "    return count  \n",
    " \n",
    "#- generate hash of two input strings\n",
    "def run_trial(A,B):    \n",
    "    result_a = hashlib.md5(A).hexdigest()\n",
    "    result_b = hashlib.md5(B).hexdigest()\n",
    "    r_a = int(result_a,16)\n",
    "    r_b = int(result_b,16)\n",
    "\n",
    "    print(\"A:\",result_a, r_a)\n",
    "    print(\"B:\",result_b, r_b)\n",
    "\n",
    "    return bit_differences( r_a,  r_b)\n",
    "\n"
   ]
  },
  {
   "cell_type": "markdown",
   "id": "3cda9486-df07-4de8-af80-0385ae0b20fb",
   "metadata": {},
   "source": [
    "<div class=\"alert alert-block alert-info\">\n",
    "<span style=\"color:black\">\n",
    "Use the run_trial() function to see the hash values and the bit difference when you make small changes to the input.\n",
    "\n",
    "Start with run_trial(b'Password_A',b'Password_A') which are identical.\n",
    "\n",
    "Repeat the trial for different changes to the inputs. Try small changes that would affect just one bit of input to see how great the change was to the output. Also try very different inputs.\n",
    "\n",
    "Insert extra cells as you go for different trials. \n",
    "\n",
    "Hint: use the icons on the right of the cell to copy and paste the cell below or to open new"
   ]
  },
  {
   "cell_type": "code",
   "execution_count": 3,
   "id": "a4c97a8d-48b8-46bb-b097-f042010327c2",
   "metadata": {
    "tags": []
   },
   "outputs": [
    {
     "name": "stdout",
     "output_type": "stream",
     "text": [
      "A: 9f9af3408dab893c336b88fa4ea4bb62 212151798785996836290011403758271249250\n",
      "B: 9f9af3408dab893c336b88fa4ea4bb62 212151798785996836290011403758271249250\n"
     ]
    },
    {
     "data": {
      "text/plain": [
       "0"
      ]
     },
     "execution_count": 3,
     "metadata": {},
     "output_type": "execute_result"
    }
   ],
   "source": [
    "run_trial(b'Password_A',b'Password_A')\n"
   ]
  },
  {
   "cell_type": "code",
   "execution_count": 12,
   "id": "f929c89a-37ef-4205-a846-23742b20dd72",
   "metadata": {
    "tags": []
   },
   "outputs": [
    {
     "name": "stdout",
     "output_type": "stream",
     "text": [
      "A: f554eba583e3a1c178aaaf4725034a27 326101791383142713695963649814261090855\n",
      "B: 9f9af3408dab893c336b88fa4ea4bb62 212151798785996836290011403758271249250\n"
     ]
    },
    {
     "data": {
      "text/plain": [
       "18"
      ]
     },
     "execution_count": 12,
     "metadata": {},
     "output_type": "execute_result"
    }
   ],
   "source": [
    "run_trial(b'Password_A1',b'Password_A')"
   ]
  },
  {
   "cell_type": "code",
   "execution_count": 11,
   "id": "87489cf1-3f04-4921-a90e-30c57612a881",
   "metadata": {
    "tags": []
   },
   "outputs": [
    {
     "name": "stdout",
     "output_type": "stream",
     "text": [
      "A: 16e97289361448feb397601095555ceb 30455144140996558541519546582971014379\n",
      "B: 49354c2223b0cf90ce35ee5777d7a20a 97310379593734334087281127253375164938\n"
     ]
    },
    {
     "data": {
      "text/plain": [
       "17"
      ]
     },
     "execution_count": 11,
     "metadata": {},
     "output_type": "execute_result"
    }
   ],
   "source": [
    "run_trial(b'PassSecret',b'PassSuper Secret')"
   ]
  },
  {
   "cell_type": "code",
   "execution_count": 10,
   "id": "6f135e6b-4eb1-4931-8a82-0fd7f5d04ea6",
   "metadata": {
    "tags": []
   },
   "outputs": [
    {
     "name": "stdout",
     "output_type": "stream",
     "text": [
      "A: 9be045c26f6276375bfd612b26b20147 207194828733971810502357671053316194631\n",
      "B: 6ec9de5913a8b17ff9e92d40543a25c1 147263240957228873757026322142977467841\n"
     ]
    },
    {
     "data": {
      "text/plain": [
       "11"
      ]
     },
     "execution_count": 10,
     "metadata": {},
     "output_type": "execute_result"
    }
   ],
   "source": [
    "run_trial(b'Password_ADdadadasdada',b'Password_Aadsadadadad')"
   ]
  },
  {
   "cell_type": "code",
   "execution_count": 14,
   "id": "befc36e7-28e6-441f-9724-c76c16045fa2",
   "metadata": {
    "tags": []
   },
   "outputs": [
    {
     "name": "stdout",
     "output_type": "stream",
     "text": [
      "A: 827ccb0eea8a706c4c34a16891f84e7b 173447602773428053556316684567667297915\n",
      "B: 9f9af3408dab893c336b88fa4ea4bb62 212151798785996836290011403758271249250\n"
     ]
    },
    {
     "data": {
      "text/plain": [
       "20"
      ]
     },
     "execution_count": 14,
     "metadata": {},
     "output_type": "execute_result"
    }
   ],
   "source": [
    "run_trial(b'12345',b'Password_A')"
   ]
  },
  {
   "cell_type": "markdown",
   "id": "067ded01-0ff9-4760-a4f6-a88929c072db",
   "metadata": {},
   "source": [
    "<div class=\"alert alert-block alert-info\">\n",
    "<span style=\"color:black\">Summarize what you noticed."
   ]
  },
  {
   "cell_type": "raw",
   "id": "4539c90e-854a-41f8-9790-af3c32b81098",
   "metadata": {},
   "source": [
    "Fixed length stays the same.\n",
    "Hashes are completely different, randomly different.\n"
   ]
  },
  {
   "cell_type": "markdown",
   "id": "08718da1-9de1-4e4e-aad3-066eaff8c216",
   "metadata": {},
   "source": [
    "<div class=\"alert alert-block alert-info\">\n",
    "<span style=\"color:black\">\n",
    "<h4>Finding Collisions:</h4>"
   ]
  },
  {
   "cell_type": "markdown",
   "id": "4e52ffce-ab7a-46be-a228-195d17239760",
   "metadata": {},
   "source": [
    "<div class=\"alert alert-block alert-info\">\n",
    "<span style=\"color:black\">\n",
    "The find_match() function below tries to find a input that matches the rightmost digits of a target hash.\n",
    "The number of digits and hash function can be changed"
   ]
  },
  {
   "cell_type": "code",
   "execution_count": 21,
   "id": "a55c23ce-5826-413d-b9fb-120cae84a39b",
   "metadata": {
    "tags": []
   },
   "outputs": [],
   "source": [
    "import hashlib\n",
    "import string\n",
    "import random\n",
    "\n",
    "\n",
    "def find_match():\n",
    "    LIMIT=100000000 #- max number of trials\n",
    "    MATCH_SIZE=1   #- number of digits to match\n",
    "\n",
    "    # initializing size of string\n",
    "    N = 128\n",
    "    str_base = \"Winnie the Pooh\" \n",
    "    d_base = hashlib.md5(str_base.encode()).hexdigest()\n",
    "    print(\"The base string is:\", str_base)\n",
    "    print(\"The base hash is:  \", d_base,\"\\n\")\n",
    "    print(\"Trying to match the last:\",MATCH_SIZE)\n",
    "\n",
    "    # using random.choices()\n",
    "    # generating random strings\n",
    "    for i in range(0,LIMIT):\n",
    "        str_check = 'Piglet-' + ''.join(random.choices(string.ascii_uppercase +\n",
    "                                 string.digits, k=N))\n",
    "        #print(\"Check[\",i,\"] \",str_check)\n",
    "        d_check = hashlib.sha256(str_check.encode()).hexdigest() ##- specifies the hash function to use\n",
    "\n",
    "        if d_base[-MATCH_SIZE:] == d_check[-MATCH_SIZE:]:\n",
    "            break\n",
    "\n",
    "        if i % 4000000 == 0: print()\n",
    "        if i % 50000 == 0: print(\".\", end = '')\n",
    "\n",
    "    # print result\n",
    "    print()\n",
    "    if i==LIMIT-1:\n",
    "        print(\"FAILED after\",i,\"trials\")\n",
    "    else:\n",
    "        print(\"test stopped after\",i,\"trials\")\n",
    "    print(\"The generated random hash   :\" + str(d_check))\n",
    "    print(\"The generated random string :\" + str(str_check))\n",
    "\n"
   ]
  },
  {
   "cell_type": "markdown",
   "id": "e6a4d818-9569-4bf8-bd29-da9e35f81969",
   "metadata": {},
   "source": [
    "<div class=\"alert alert-block alert-info\">\n",
    "<span style=\"color:black\">\n",
    "    Use the <b>find_match()</b> function to start your trials. Edit the program to change the number of digits to match. Rerun the trials to match 1,2,3,4 digits.\n",
    "    \n",
    "<br/>Run each trial in a separate cell. Add a comment to your code to indicate the number of digits to match and hash function<br/>\n",
    "    <br/>e.g., <b>find_match()  #- sha256, match 5</b>"
   ]
  },
  {
   "cell_type": "code",
   "execution_count": 16,
   "id": "cb35cf25-2c44-4d10-8ed8-a79c64692ca3",
   "metadata": {
    "tags": []
   },
   "outputs": [
    {
     "name": "stdout",
     "output_type": "stream",
     "text": [
      "The base string is: Winnie the Pooh\n",
      "The base hash is:   c98167bc8704e5fba20745c348dde217 \n",
      "\n",
      "Trying to match the last: 5\n",
      "\n",
      "...\n",
      "test stopped after 148456 trials\n",
      "The generated random hash   :df000b52e65799845e9005ad669f553c8e842c427c2eaca18798557b20ade217\n",
      "The generated random string :Piglet-H5A4K8MJEAQYCWWCK6UMN140AYDQBMXV7PNXZF7HPDR3AKMJ5HI8RS63VHV0DBQ6W6JCYGR4B4POGEY5WBMZ2KPYJH7HHJQ43ZSQGE8E3QLDSXP2DEDSWRT7K0ZQVB8O\n"
     ]
    }
   ],
   "source": [
    "find_match()   #- sha256, match 5"
   ]
  },
  {
   "cell_type": "code",
   "execution_count": 18,
   "id": "8db55866-79a1-4923-9f15-cf81ce8dc5f6",
   "metadata": {
    "tags": []
   },
   "outputs": [
    {
     "name": "stdout",
     "output_type": "stream",
     "text": [
      "The base string is: Winnie the Pooh\n",
      "The base hash is:   c98167bc8704e5fba20745c348dde217 \n",
      "\n",
      "Trying to match the last: 4\n",
      "\n",
      "..\n",
      "test stopped after 60182 trials\n",
      "The generated random hash   :05532df09f525440f6d36be7f1ae6230c76e45d0fe7279e6dd5b8c217cc6e217\n",
      "The generated random string :Piglet-CK0218LM4XMZC1AP5HE6LVQUUV8EFCATE29RNY1N7TR5NEBOWU31BVCQEIM3H02XPDIQOGN6QC8NBUNOLHME1JJ6QYX2MIOQEFPJJN6TVX7LZ6J9JE2ZIP12DY52PYON\n"
     ]
    }
   ],
   "source": [
    "find_match()   #- sha256, match 4"
   ]
  },
  {
   "cell_type": "code",
   "execution_count": 20,
   "id": "da0958c1-d561-4a61-afdb-e14803512a8a",
   "metadata": {
    "tags": []
   },
   "outputs": [
    {
     "name": "stdout",
     "output_type": "stream",
     "text": [
      "The base string is: Winnie the Pooh\n",
      "The base hash is:   c98167bc8704e5fba20745c348dde217 \n",
      "\n",
      "Trying to match the last: 3\n",
      "\n",
      ".\n",
      "test stopped after 494 trials\n",
      "The generated random hash   :5d7942837a5fa77f675bc7c16669b4d9941615d6660f3aee3132c0f54ed02217\n",
      "The generated random string :Piglet-02MQ2WJE31OEMFO8R1X2G7R4UFOVR933VUF5WBZOCUE92YC4DZVLR1Q3UTJ7U8A220SZKMHODT279X75BT0UOQ46F7LBT36401QKIHPUGEWMFHTKS1H43NITP6LPEQLY\n"
     ]
    }
   ],
   "source": [
    "find_match()   #- sha256, match 3"
   ]
  },
  {
   "cell_type": "code",
   "execution_count": 22,
   "id": "70d12ec0-5cbd-4909-b210-5fe15997646a",
   "metadata": {
    "tags": []
   },
   "outputs": [
    {
     "name": "stdout",
     "output_type": "stream",
     "text": [
      "The base string is: Winnie the Pooh\n",
      "The base hash is:   c98167bc8704e5fba20745c348dde217 \n",
      "\n",
      "Trying to match the last: 2\n",
      "\n",
      ".\n",
      "test stopped after 499 trials\n",
      "The generated random hash   :5196e7252a0ebb9687b193cdbbccbe81d5bebc0b0f95e4688865cc70a022be17\n",
      "The generated random string :Piglet-QG3ZVWPJBSYRVXYK4UOIIVZWRFXD7GG0NLTAHRBWES3DNR2ARKNLD95B6PG45YG20SZPGAZYB4LRNT94UODQ2WXWWMD264UUSVA33PKKQJXB60TRE4ECHHY7X1W5ZF6U\n"
     ]
    }
   ],
   "source": [
    "find_match()   #- sha256, match 2"
   ]
  },
  {
   "cell_type": "code",
   "execution_count": null,
   "id": "64979011-bcd6-45e4-92df-548a2adaf9ec",
   "metadata": {},
   "outputs": [],
   "source": [
    "find_match()   #- sha256, match 1"
   ]
  },
  {
   "cell_type": "markdown",
   "id": "4e7ff5da-8a8c-4065-a5e9-c6ee3eb11eba",
   "metadata": {
    "tags": []
   },
   "source": [
    "<div class=\"alert alert-block alert-info\">\n",
    "<span style=\"color:black\">\n",
    "<h4>Part 3:</h4>\n",
    "Questions:<br/>\n",
    "1)\tWhat are the 3 properties of a cryptographic hash function, by name and define?<br/>\n",
    "2)  In the find_match() function, what property of hash functions is being exploited?<br/>\n",
    "3)\tWhat is the difference between a hash function and a cryptographic hash function?<br/>\n",
    "4)\tIs the hash of a random value a random value?\n"
   ]
  },
  {
   "cell_type": "raw",
   "id": "c504877c-a0de-40fd-9380-ecefe25a58d0",
   "metadata": {},
   "source": [
    "Answer:"
   ]
  },
  {
   "cell_type": "raw",
   "id": "1f2cbdb4-2d11-4fa1-9269-f979ac1744f4",
   "metadata": {},
   "source": [
    "Answer:"
   ]
  },
  {
   "cell_type": "raw",
   "id": "7deb3241-0dd5-4134-abcc-23b6f2ed7793",
   "metadata": {},
   "source": [
    "Answer:"
   ]
  },
  {
   "cell_type": "raw",
   "id": "989694ad-bfc1-4fe9-9a0a-611e3b66000c",
   "metadata": {},
   "source": [
    "Answer:"
   ]
  }
 ],
 "metadata": {
  "kernelspec": {
   "display_name": "Python 3 (ipykernel)",
   "language": "python",
   "name": "python3"
  },
  "language_info": {
   "codemirror_mode": {
    "name": "ipython",
    "version": 3
   },
   "file_extension": ".py",
   "mimetype": "text/x-python",
   "name": "python",
   "nbconvert_exporter": "python",
   "pygments_lexer": "ipython3",
   "version": "3.10.6"
  }
 },
 "nbformat": 4,
 "nbformat_minor": 5
}
