{
 "cells": [
  {
   "cell_type": "markdown",
   "id": "f3bf0afb-ca8e-4128-bf73-19fa53d75b7e",
   "metadata": {},
   "source": [
    "# Symmetric Encryption Lab\n",
    "Symmetric cryptography, also known as shared-key cryptography, is a method of encryption and decryption that uses the same secret key for both processes. \n",
    "\n",
    "When performing symmetric encryption, there are a lot of options, each with different results. In this lab we'll look at the effect of different ciphers and modes of operation on the ciphertext. We'll also look at key derivation functions, padding and error propagation.\n",
    "\n",
    "This lab will run on the bash kernel and we will rely on openssl for most of the work.\n",
    "\n",
    "Locate the \"USD_logo.bmp\" file and copy into to a working directory for the encrypted images you'll be generating."
   ]
  },
  {
   "cell_type": "markdown",
   "id": "4b4eb2b5-4fb7-490a-8d79-7ad6622f926c",
   "metadata": {},
   "source": [
    "First, let's check the version of openssl we are using. Type:\n",
    "\n",
    "`openssl version`"
   ]
  },
  {
   "cell_type": "code",
   "execution_count": 21,
   "id": "18f968cf-0fc0-4610-82e0-5b9873783edd",
   "metadata": {
    "tags": []
   },
   "outputs": [
    {
     "name": "stdout",
     "output_type": "stream",
     "text": [
      "OpenSSL 3.0.2 15 Mar 2022 (Library: OpenSSL 3.0.2 15 Mar 2022)\n"
     ]
    }
   ],
   "source": [
    "!openssl version # remember to use the ! character to execute linux commands in jupyter labs"
   ]
  },
  {
   "cell_type": "markdown",
   "id": "00e8bc2a-a5bc-4033-8021-0e88c403d8cb",
   "metadata": {},
   "source": [
    "to see a list of all available ciphers type:\n",
    "\n",
    "`openssl enc -list`"
   ]
  },
  {
   "cell_type": "code",
   "execution_count": 22,
   "id": "36a0782f-1c6b-46fc-ba73-512245836db2",
   "metadata": {
    "tags": []
   },
   "outputs": [
    {
     "name": "stdout",
     "output_type": "stream",
     "text": [
      "Supported ciphers:\n",
      "-aes-128-cbc               -aes-128-cfb               -aes-128-cfb1             \n",
      "-aes-128-cfb8              -aes-128-ctr               -aes-128-ecb              \n",
      "-aes-128-ofb               -aes-192-cbc               -aes-192-cfb              \n",
      "-aes-192-cfb1              -aes-192-cfb8              -aes-192-ctr              \n",
      "-aes-192-ecb               -aes-192-ofb               -aes-256-cbc              \n",
      "-aes-256-cfb               -aes-256-cfb1              -aes-256-cfb8             \n",
      "-aes-256-ctr               -aes-256-ecb               -aes-256-ofb              \n",
      "-aes128                    -aes128-wrap               -aes192                   \n",
      "-aes192-wrap               -aes256                    -aes256-wrap              \n",
      "-aria-128-cbc              -aria-128-cfb              -aria-128-cfb1            \n",
      "-aria-128-cfb8             -aria-128-ctr              -aria-128-ecb             \n",
      "-aria-128-ofb              -aria-192-cbc              -aria-192-cfb             \n",
      "-aria-192-cfb1             -aria-192-cfb8             -aria-192-ctr             \n",
      "-aria-192-ecb              -aria-192-ofb              -aria-256-cbc             \n",
      "-aria-256-cfb              -aria-256-cfb1             -aria-256-cfb8            \n",
      "-aria-256-ctr              -aria-256-ecb              -aria-256-ofb             \n",
      "-aria128                   -aria192                   -aria256                  \n",
      "-bf                        -bf-cbc                    -bf-cfb                   \n",
      "-bf-ecb                    -bf-ofb                    -blowfish                 \n",
      "-camellia-128-cbc          -camellia-128-cfb          -camellia-128-cfb1        \n",
      "-camellia-128-cfb8         -camellia-128-ctr          -camellia-128-ecb         \n",
      "-camellia-128-ofb          -camellia-192-cbc          -camellia-192-cfb         \n",
      "-camellia-192-cfb1         -camellia-192-cfb8         -camellia-192-ctr         \n",
      "-camellia-192-ecb          -camellia-192-ofb          -camellia-256-cbc         \n",
      "-camellia-256-cfb          -camellia-256-cfb1         -camellia-256-cfb8        \n",
      "-camellia-256-ctr          -camellia-256-ecb          -camellia-256-ofb         \n",
      "-camellia128               -camellia192               -camellia256              \n",
      "-cast                      -cast-cbc                  -cast5-cbc                \n",
      "-cast5-cfb                 -cast5-ecb                 -cast5-ofb                \n",
      "-chacha20                  -des                       -des-cbc                  \n",
      "-des-cfb                   -des-cfb1                  -des-cfb8                 \n",
      "-des-ecb                   -des-ede                   -des-ede-cbc              \n",
      "-des-ede-cfb               -des-ede-ecb               -des-ede-ofb              \n",
      "-des-ede3                  -des-ede3-cbc              -des-ede3-cfb             \n",
      "-des-ede3-cfb1             -des-ede3-cfb8             -des-ede3-ecb             \n",
      "-des-ede3-ofb              -des-ofb                   -des3                     \n",
      "-des3-wrap                 -desx                      -desx-cbc                 \n",
      "-id-aes128-wrap            -id-aes128-wrap-pad        -id-aes192-wrap           \n",
      "-id-aes192-wrap-pad        -id-aes256-wrap            -id-aes256-wrap-pad       \n",
      "-id-smime-alg-CMS3DESwrap  -rc2                       -rc2-128                  \n",
      "-rc2-40                    -rc2-40-cbc                -rc2-64                   \n",
      "-rc2-64-cbc                -rc2-cbc                   -rc2-cfb                  \n",
      "-rc2-ecb                   -rc2-ofb                   -rc4                      \n",
      "-rc4-40                    -seed                      -seed-cbc                 \n",
      "-seed-cfb                  -seed-ecb                  -seed-ofb                 \n",
      "-sm4                       -sm4-cbc                   -sm4-cfb                  \n",
      "-sm4-ctr                   -sm4-ecb                   -sm4-ofb                  \n",
      "\n"
     ]
    }
   ],
   "source": [
    "!openssl enc -list"
   ]
  },
  {
   "cell_type": "markdown",
   "id": "89afd3b6-6ced-4501-89f5-630953252649",
   "metadata": {},
   "source": [
    "For this lab, we'll start with AES-128-CBC"
   ]
  },
  {
   "cell_type": "markdown",
   "id": "1aad12f3-8a3c-4f90-8a2b-9a9ff514dc51",
   "metadata": {},
   "source": [
    "Before we can start encrypting, we need something to encrypt. You can create your plaintext using an editor or use the code model in the code cell below to create your file. Change the \"...\" to your message. Make sure you use at least 100 characters.\n",
    "\n",
    "`echo \"...\" > plain.txt`\n",
    "\n"
   ]
  },
  {
   "cell_type": "code",
   "execution_count": 23,
   "id": "2af63f82-bd6f-494e-b62e-d60213d7c94c",
   "metadata": {
    "tags": []
   },
   "outputs": [
    {
     "name": "stdout",
     "output_type": "stream",
     "text": [
      "Turing played a pivotal role in cracking the German Enigma code during WWII.\n"
     ]
    }
   ],
   "source": [
    "!echo \"This is my plain text for my CYBR504 class\" > plain.txt \n",
    "!cat plain.txt"
   ]
  },
  {
   "cell_type": "markdown",
   "id": "92062c0c-6309-499b-b585-365857544d01",
   "metadata": {},
   "source": [
    "Now, let's encrypt your secret message using AES-128-CBC.  "
   ]
  },
  {
   "cell_type": "markdown",
   "id": "5b0c47e0-fcfc-4ad1-b7b2-09e99b95b4d6",
   "metadata": {},
   "source": [
    "We'll use the openssl command to encrypt the file:\n",
    "\n",
    "`openssl <cipher> -e -in plain.txt -out cipher.txt -K <key> -iv <iv>`\n",
    "\n",
    "You'll need to replace \\<cipher\\> with the cipher to use. We're using AES-128-CBC, so use \"aes-128-cbc\" as the cipher.\n",
    "    \n",
    "For CBC mode you'll also need both a key and an intialization vector. These should be random (i.e, unguessable). Let's generate those."
   ]
  },
  {
   "cell_type": "markdown",
   "id": "d894d3d4-1070-4e1b-9f2c-e44118dc936f",
   "metadata": {},
   "source": [
    "We can use the random number functions of openssl to generate these. Because the encryption command expects these in hex format we'll use the -hex option\n",
    "\n",
    "`openssl rand -hex <number of bytes>`\n",
    "    \n",
    "If we are using a 128-bit key size, how many bytes is that?\n",
    "    \n",
    "In the code cell below, run your openssl command to generate the random value. Run it a few times, just to see how it changes."
   ]
  },
  {
   "cell_type": "code",
   "execution_count": 24,
   "id": "6a3566b2-8094-4d8f-85a8-13117dfeab9a",
   "metadata": {
    "tags": []
   },
   "outputs": [
    {
     "name": "stdout",
     "output_type": "stream",
     "text": [
      "If we are using a 128-bit key size, we are using 16 bytes\n",
      "\n",
      "My generated random values:\n",
      "27e5b6785f4dc17ba29020bc5cd0f5b3\n",
      "6ab11314818b6d596c7c40a3b2e87e79\n",
      "296fb9f56bc2f032cbe20f9557d6d7f9\n",
      "77e3964f1b2b27dca38e63e0292af5aa\n"
     ]
    }
   ],
   "source": [
    "# !openssl enc -aes-128-cbc -e -in plain.txt -out cipher.txt -K $(openssl rand -hex 16) -iv $(openssl rand -hex 16)\n",
    "\n",
    "print('If we are using a 128-bit key size, we are using 16 bytes')\n",
    "print()\n",
    "print('My generated random values:')\n",
    "!openssl rand -hex 16\n",
    "!openssl rand -hex 16\n",
    "!openssl rand -hex 16\n",
    "!openssl rand -hex 16"
   ]
  },
  {
   "cell_type": "markdown",
   "id": "1984a8f4-d66c-4611-970e-38a8ba330a74",
   "metadata": {},
   "source": [
    "We could just cut and paste the random values into the openssl command to do the encryption, but let's look at a bash shell trick.\n",
    "\n",
    "We can send the output of the command to an variable we can use later. Try running the following in a code cell.\n",
    "\n",
    "``` myKey=$(openssl rand -hex 16)\n",
    "echo $myKey ```"
   ]
  },
  {
   "cell_type": "code",
   "execution_count": 50,
   "id": "712c0939-c801-4abc-a59c-63a9af08e174",
   "metadata": {
    "tags": []
   },
   "outputs": [
    {
     "name": "stdout",
     "output_type": "stream",
     "text": [
      "\n"
     ]
    }
   ],
   "source": [
    "!myKey=$(openssl rand -hex 16)\n",
    "!echo $myKey "
   ]
  },
  {
   "cell_type": "markdown",
   "id": "a22a694c-6be7-4045-bdaf-019a8d7c7c79",
   "metadata": {},
   "source": [
    "Do it again, but use myIV as the variable."
   ]
  },
  {
   "cell_type": "code",
   "execution_count": 51,
   "id": "d433bdba-4858-426d-a78e-788d71de4771",
   "metadata": {},
   "outputs": [
    {
     "name": "stdout",
     "output_type": "stream",
     "text": [
      "\n"
     ]
    }
   ],
   "source": [
    "!myIV=$(openssl rand -hex 16)\n",
    "!echo $myIV "
   ]
  },
  {
   "cell_type": "markdown",
   "id": "154cfe18-e6ec-43e8-9f8b-54ead0a7434a",
   "metadata": {},
   "source": [
    "Let's use this to encrypt our plaintext. Use the command:\n",
    "\n",
    "`openssl aes-128-cbc -e -in plain.txt -out cipher.txt -K $myKey -iv $myIV`\n",
    "\n"
   ]
  },
  {
   "cell_type": "code",
   "execution_count": 52,
   "id": "eb2ecf3b-9bf7-4590-8726-170c4d63b3c0",
   "metadata": {
    "tags": []
   },
   "outputs": [
    {
     "name": "stdout",
     "output_type": "stream",
     "text": [
      "iv undefined\n"
     ]
    }
   ],
   "source": [
    "!myKey=$(openssl rand -hex 16)\n",
    "!myIV=$(openssl rand -hex 16)\n",
    "\n",
    "!openssl aes-128-cbc -e -in plain.txt -out cipher.txt -K $myKey -iv $myIV"
   ]
  },
  {
   "cell_type": "code",
   "execution_count": 28,
   "id": "d7f2a6dc-07df-4a7f-b2c5-6b255b0d0cb9",
   "metadata": {
    "tags": []
   },
   "outputs": [
    {
     "name": "stdout",
     "output_type": "stream",
     "text": [
      "iv undefined\n"
     ]
    }
   ],
   "source": [
    "!myKey=$(openssl rand -hex 16)\n",
    "!myIV=$(openssl rand -hex 16)\n",
    "!openssl aes-128-cbc -e -in plain.txt -out cipher.txt -K $myKey -iv $myIV"
   ]
  },
  {
   "cell_type": "code",
   "execution_count": 53,
   "id": "c25a8cb4-6ea8-479d-af99-cb57adc02092",
   "metadata": {},
   "outputs": [],
   "source": [
    "\"\"\"\n",
    "I was getting an \"iv endefined error\" using the example code.\n",
    "It could be that the shell commands are running in different shell sessions.\n",
    "To fix this, I ensure the '!myIV' variable is defined in the same subshell session by combining all the commands into a single line.\n",
    "!bash commands are separated by semicilons;; and I only use the ! character one (1) time to initiate all three (3) bash commands.\n",
    "\"\"\"\n",
    "\n",
    "!myKey=$(openssl rand -hex 16); myIV=$(openssl rand -hex 16); openssl aes-128-cbc -e -in plain.txt -out cipher.txt -K $myKey -iv $myIV"
   ]
  },
  {
   "cell_type": "markdown",
   "id": "0bae1adc-a414-43de-82e0-9e5432a21fd5",
   "metadata": {},
   "source": [
    "look at the ciphertext"
   ]
  },
  {
   "cell_type": "code",
   "execution_count": 54,
   "id": "28ca8bad-171a-4b09-905b-30f5ea5786b2",
   "metadata": {},
   "outputs": [
    {
     "name": "stdout",
     "output_type": "stream",
     "text": [
      "4lR\u0011��\f",
      "�$�!��b�:;��XE�ۉ��塖w�&T\n",
      "%=:��X�\u0011�7\u0002�\n",
      "�M��%\u001e",
      "(�0����$����XA9��\u000b",
      "�}\t��"
     ]
    }
   ],
   "source": [
    "cat cipher.txt"
   ]
  },
  {
   "cell_type": "markdown",
   "id": "80931c4a-19b2-4e58-97fc-e6dba56f6598",
   "metadata": {},
   "source": [
    "Now try looking it in hex format."
   ]
  },
  {
   "cell_type": "code",
   "execution_count": 55,
   "id": "44759427-07b8-44c6-99ed-dbce9beeb021",
   "metadata": {},
   "outputs": [
    {
     "name": "stdout",
     "output_type": "stream",
     "text": [
      "00000000  34 6c 52 11 b8 88 0c 98  24 f1 21 e5 e3 a6 62 dc  |4lR.....$.!...b.|\n",
      "00000010  3a 3b a6 c9 58 45 8a db  89 83 9d e5 a1 96 77 ea  |:;..XE........w.|\n",
      "00000020  85 26 54 0a 25 3d 3a 81  dc 58 e4 11 a3 37 c2 99  |.&T.%=:..X...7..|\n",
      "00000030  02 a7 0a 85 4d 8f a0 25  1e 28 a4 30 f4 b5 d4 fa  |....M..%.(.0....|\n",
      "00000040  24 a6 f6 f5 d9 58 41 39  e0 db 0b f9 7d 09 f5 b2  |$....XA9....}...|\n",
      "00000050\n"
     ]
    }
   ],
   "source": [
    "cat cipher.txt | hexdump -C"
   ]
  },
  {
   "cell_type": "markdown",
   "id": "c8a29e05-d065-45d4-b88c-1cf0323c5cef",
   "metadata": {},
   "source": [
    "Now decrypt the file. \n",
    "* use the same openssl command as before, but use -d for decrypt instead of -e,\n",
    "* use 'decrypted.txt' as the output filename."
   ]
  },
  {
   "cell_type": "code",
   "execution_count": 56,
   "id": "00ba9202-6bc0-4fe1-98aa-97122137842c",
   "metadata": {},
   "outputs": [
    {
     "name": "stdout",
     "output_type": "stream",
     "text": [
      "iv undefined\n"
     ]
    }
   ],
   "source": [
    "# openssl ...\n",
    "# cat decrypted.txt\n",
    "\n",
    "!openssl aes-128-cbc -d -in cipher.txt -out plain2.txt -K $myKey -iv $myIV"
   ]
  },
  {
   "cell_type": "code",
   "execution_count": 33,
   "id": "40329040-29d3-4f5b-be09-6db85e3556af",
   "metadata": {
    "tags": []
   },
   "outputs": [
    {
     "name": "stdout",
     "output_type": "stream",
     "text": [
      "iv undefined\n"
     ]
    }
   ],
   "source": [
    "!openssl aes-128-cbc -e -in plain.txt -out cipher.txt -K $myKey -iv $myIV"
   ]
  },
  {
   "cell_type": "code",
   "execution_count": 38,
   "id": "cce521f0-d1fd-4763-a88a-1ff43a829cb0",
   "metadata": {
    "tags": []
   },
   "outputs": [
    {
     "name": "stdout",
     "output_type": "stream",
     "text": [
      "iv undefined\n",
      "iv undefined\n"
     ]
    }
   ],
   "source": [
    "!myKey=$(openssl rand -hex 16)\n",
    "!myIV=$(openssl rand -hex 16)\n",
    "!openssl aes-128-cbc -e -in plain.txt -out cipher.txt -K $myKey -iv $myIV\n",
    "!openssl aes-128-cbc -d -in cipher.txt -out plain2.txt -K $myKey -iv $myIV\n"
   ]
  },
  {
   "cell_type": "code",
   "execution_count": 39,
   "id": "3ef0a910-227d-4f89-8b00-18c2d7693d74",
   "metadata": {
    "tags": []
   },
   "outputs": [
    {
     "name": "stdout",
     "output_type": "stream",
     "text": [
      "iv undefined\n",
      "iv undefined\n"
     ]
    }
   ],
   "source": [
    "!myKey=$(openssl rand -hex 16)\n",
    "!myIV=\"0123456789abcdef0123456789abcdef\" # replace with the desired value for the IV\n",
    "!openssl aes-128-cbc -e -in plain.txt -out cipher.txt -K $myKey -iv $myIV\n",
    "!openssl aes-128-cbc -d -in cipher.txt -out plain2.txt -K $myKey -iv $myIV\n"
   ]
  },
  {
   "cell_type": "code",
   "execution_count": 41,
   "id": "1cd8ab43-2f1a-459a-b560-ba807c8ac78c",
   "metadata": {
    "tags": []
   },
   "outputs": [],
   "source": [
    "!openssl aes-128-cbc -e -in plain.txt -out cipher.txt -K $(openssl rand -hex 16) -iv \"0123456789abcdef0123456789abcdef\""
   ]
  },
  {
   "cell_type": "code",
   "execution_count": 42,
   "id": "e24b6ffc-e3a1-473b-8175-5edca32e5ea7",
   "metadata": {
    "tags": []
   },
   "outputs": [
    {
     "name": "stdout",
     "output_type": "stream",
     "text": [
      "bad decrypt\n",
      "2020E39CFFFF0000:error:1C800064:Provider routines:ossl_cipher_unpadblock:bad decrypt:../providers/implementations/ciphers/ciphercommon_block.c:124:\n"
     ]
    }
   ],
   "source": [
    "!openssl aes-128-cbc -d -in cipher.txt -out plain2.txt -K $(openssl rand -hex 16) -iv \"0123456789abcdef0123456789abcdef\""
   ]
  },
  {
   "cell_type": "code",
   "execution_count": null,
   "id": "ff3bb908-8340-4f59-99c5-dfc34c6c38c5",
   "metadata": {},
   "outputs": [],
   "source": [
    "# trying using other hashing algo\n",
    "!myKey=$(openssl rand -hex 16)\n",
    "!myIV=$(openssl rand -hex 16)\n",
    "!openssl aes-256-cbc -e -in plain.txt -out cipher.txt -K $myKey -iv $myIV\n",
    "!openssl aes-256-cbc -d -in cipher.txt -out plain2.txt -K $myKey -iv $myIV\n"
   ]
  },
  {
   "cell_type": "code",
   "execution_count": 48,
   "id": "e14e8bff-669a-4860-a274-734f9eb7d4b4",
   "metadata": {
    "tags": []
   },
   "outputs": [
    {
     "name": "stdout",
     "output_type": "stream",
     "text": [
      "iv undefined\n",
      "iv undefined\n"
     ]
    }
   ],
   "source": [
    "!myKey=$(openssl rand -hex 32);\n",
    "!myIV=$(openssl rand -hex 16);\n",
    "!openssl aes-256-cbc -e -in plain.txt -out cipher.txt -K $myKey -iv $myIV;\n",
    "!openssl aes-256-cbc -d -in cipher.txt -out plain2.txt -K $myKey -iv $myIV\n"
   ]
  },
  {
   "cell_type": "markdown",
   "id": "d34f5a12-de16-48b0-b8a3-c67654c1837b",
   "metadata": {},
   "source": [
    "Next, verify that the decrypted output is the same as the original input. \n",
    "\n",
    "Use `diff -as <f1> <f2>` "
   ]
  },
  {
   "cell_type": "code",
   "execution_count": 49,
   "id": "1093af79-1dd3-407a-b559-b195224745d0",
   "metadata": {},
   "outputs": [
    {
     "name": "stdout",
     "output_type": "stream",
     "text": [
      "1d0\n",
      "< Turing played a pivotal role in cracking the German Enigma code during WWII.\n"
     ]
    }
   ],
   "source": [
    "!diff -as plain.txt plain2.txt"
   ]
  },
  {
   "cell_type": "markdown",
   "id": "cad0a76b-909f-41da-b760-346dd023627e",
   "metadata": {},
   "source": [
    "---\n",
    "## Key Derevation Functions\n",
    "\n",
    "In the previous examples, we explicitly included the key and initializtion vector. Another way to do this is to use a key derivation function. These take a passphrase and extend it to the number of bits desired. Typically KDFs use a hash function of a specialized hash function for the task. Think about it. If you take a simple passphrase and hash it to 128-bits, that is a unique transormation based on the passphrase. We can use this when encrypting or decrypting with openssl.\n",
    "\n",
    "If we change our encryption command to:\n",
    "\n",
    "`openssl aes-128-cbc -e -in plain.txt -out cipher.txt -pbkdf2 -k my_passphrase -P`\n",
    "\n",
    "In this case, PBKDF2 is the specified key derivation function.\n",
    "\n",
    "openssl will automatically generate the key and IV needed. Try it in a code cell."
   ]
  },
  {
   "cell_type": "code",
   "execution_count": 64,
   "id": "c966f75d-3b30-42e9-a8ca-d46bc06aef61",
   "metadata": {
    "tags": []
   },
   "outputs": [
    {
     "name": "stdout",
     "output_type": "stream",
     "text": [
      "Turing played a pivotal role in cracking the German Enigma code during WWII.\n"
     ]
    }
   ],
   "source": [
    "!cat plain.txt"
   ]
  },
  {
   "cell_type": "code",
   "execution_count": 61,
   "id": "fcd158af-ee4e-4d80-abc8-d89cecb90e20",
   "metadata": {},
   "outputs": [
    {
     "name": "stdout",
     "output_type": "stream",
     "text": [
      "salt=C6A324B9F1016CD4\n",
      "key=DB5398F36E11359027F4759B99755BB0\n",
      "iv =055FA608B9B1E39F5414D0D8088CEA9B\n"
     ]
    }
   ],
   "source": [
    "!openssl aes-128-cbc -e -in plain.txt -out cipher.txt -pbkdf2 -k my_passphrase -P"
   ]
  },
  {
   "cell_type": "markdown",
   "id": "d78a15c1-e1f4-4de0-a1b1-38d879498162",
   "metadata": {},
   "source": [
    "Run the same command again with the same passphrase, but name your output 'cipher2.txt', then compare the two files.\n",
    "\n",
    "`diff -as cipher.txt cipher2.txt`"
   ]
  },
  {
   "cell_type": "code",
   "execution_count": 62,
   "id": "6f9b76e7-97fd-4644-8f73-d36ca158fd16",
   "metadata": {
    "tags": []
   },
   "outputs": [
    {
     "name": "stdout",
     "output_type": "stream",
     "text": [
      "salt=916DD99DF22F7E32\n",
      "key=46FDC683987BDB3D0A43EDDBD7D0F543\n",
      "iv =28373997013385AF847C34498DAF72B5\n"
     ]
    }
   ],
   "source": [
    "# add this line -> Run the same command again with the same passphrase, but name your output 'cipher2.txt'\n",
    "!openssl aes-128-cbc -e -in plain.txt -out cipher2.txt -pbkdf2 -k my_passphrase -P"
   ]
  },
  {
   "cell_type": "code",
   "execution_count": null,
   "id": "dd89b2e1-3011-4240-a07b-e32901702edb",
   "metadata": {},
   "outputs": [],
   "source": []
  },
  {
   "cell_type": "code",
   "execution_count": 63,
   "id": "30991b19-8b35-42eb-8487-b72c2c792f32",
   "metadata": {},
   "outputs": [
    {
     "name": "stdout",
     "output_type": "stream",
     "text": [
      "/bin/bash: -c: line 1: unexpected EOF while looking for matching ``'\n",
      "/bin/bash: -c: line 2: syntax error: unexpected end of file\n"
     ]
    }
   ],
   "source": [
    "# hten compare the two files\n",
    "!diff -as cipher.txt cipher2.txt`"
   ]
  },
  {
   "cell_type": "markdown",
   "id": "e9c82625-b6b8-4ac5-9e5d-012b8cecfbd5",
   "metadata": {},
   "source": [
    "<div style=\"background-color:rgba(225,135,0,.85); color:black; font-weight:bold; padding:6px;\">\n",
    "Although you used the same plaintext file, and the same passphrase, why are they not the same?</div>\n",
    "\n",
    ">If you need a hint, open a code cell and run `hexdump -C cipher.txt | head -n 4`"
   ]
  },
  {
   "cell_type": "raw",
   "id": "4ff51d57-8c1d-4be4-b716-4984ef16b3de",
   "metadata": {},
   "source": [
    "Answer:"
   ]
  },
  {
   "cell_type": "markdown",
   "id": "5728bae6-f005-4c07-9e9e-9d874474f5fa",
   "metadata": {},
   "source": [
    "In his section, instead of explicitly stating a key an initialization vector, we used the PBKDF2 key derivation function. This generated these for us.\n",
    "\n",
    "KDFs have the advantage the rather than recall a long, random key and IV, you can just use a passphrase and let a cryptographic algorithm expand it. The downside of KDFs is that they start with a relatively low entropy value. This can simplify finding the passphrase given the key. The KDF maps the passprase directlty to the key. One way to make this more secure is to use more \"rounds\". That is the output of the KDF is fed back into the KDF multiple times. This breaks the 1-to-1 connection between the passphrase and the key. The more rounds, the harder it is to recover the passphrase, but it is slower to generate the key. Typically, this is not a significant issue. But, depending on the application, may need optimization."
   ]
  },
  {
   "cell_type": "markdown",
   "id": "43b4c20e-f534-4a71-946f-a9632039779f",
   "metadata": {},
   "source": [
    "---\n",
    "## Padding\n",
    "\n",
    "Block ciphers require full blocks to operate. When the number of bytes of data to be encrypted is not an exact multiple of the block size, the data needs to be padded, that is extended, to fill the last block being encrypted. Different algorithms use different padding schemes. AES specifies the PCKS#5 standard.\n",
    "\n",
    "First, create some ciphertext, shorter than a block. How big is a block in AES?"
   ]
  },
  {
   "cell_type": "raw",
   "id": "d08197d4-f54a-4068-a19b-608f7494eb2e",
   "metadata": {},
   "source": [
    "Answer:"
   ]
  },
  {
   "cell_type": "code",
   "execution_count": null,
   "id": "99684a72-c05c-4bb5-b6a3-ef5593e56f5d",
   "metadata": {},
   "outputs": [],
   "source": [
    "echo -n \"hello\" | openssl aes-128-cbc -out pad_test.cbc -nosalt -pbkdf2 -k secret\n",
    "hexdump -C pad_test.cbc"
   ]
  },
  {
   "cell_type": "markdown",
   "id": "ba5dae00-66ec-4811-9ca6-2f32bbc052e1",
   "metadata": {},
   "source": [
    "Notice the length of the output is larger than the the input."
   ]
  },
  {
   "cell_type": "markdown",
   "id": "cb048a10-1d0e-4c7c-8987-36986276b113",
   "metadata": {},
   "source": [
    "Let's decrypt it and look at the output"
   ]
  },
  {
   "cell_type": "code",
   "execution_count": null,
   "id": "8400f85e-b00d-404e-9edf-82edd645fabb",
   "metadata": {},
   "outputs": [],
   "source": [
    "openssl aes-128-cbc -d -in pad_test.cbc -nosalt -pbkdf2 -k secret | hexdump -C"
   ]
  },
  {
   "cell_type": "markdown",
   "id": "80f7aa5a-84e7-4ea1-898c-c95673b13f8a",
   "metadata": {},
   "source": [
    "Normally decryption strips the padding out. \n",
    "\n",
    "To see the padding, open a new code cell and rerun that command, but add the '-nopad' option to the openssl command"
   ]
  },
  {
   "cell_type": "code",
   "execution_count": null,
   "id": "73a9adc0",
   "metadata": {},
   "outputs": [],
   "source": []
  },
  {
   "cell_type": "markdown",
   "id": "5377ae43-15f4-430b-be9e-e7ec0146f76c",
   "metadata": {},
   "source": [
    "Try encrypting plaintext of different lengths and notice how the padding changes. You can use the model below. Open additional code cells as needed. "
   ]
  },
  {
   "cell_type": "code",
   "execution_count": null,
   "id": "8128f044-7d5f-4047-8502-19700c91f21b",
   "metadata": {},
   "outputs": [],
   "source": [
    "echo -n \"xxxxx\" | openssl aes-128-cbc -out pad_test.cbc -nosalt -pbkdf2 -k secret\n",
    "openssl aes-128-cbc -d -in pad_test.cbc -nosalt -pbkdf2 -k secret -nopad | hexdump -C"
   ]
  },
  {
   "cell_type": "code",
   "execution_count": null,
   "id": "1b4dbc64-998f-42f0-8d94-393ea86853bc",
   "metadata": {},
   "outputs": [],
   "source": []
  },
  {
   "cell_type": "markdown",
   "id": "5ea22930-5f2d-415b-9dd7-de9e06d778bb",
   "metadata": {},
   "source": [
    "<div style=\"background-color:rgba(225,135,0,.85); color:black; font-weight:bold; padding:6px;\">\n",
    "Explain the differences. Why those specific values? <br>\n",
    "What happens when you input 15 bytes? 16?"
   ]
  },
  {
   "cell_type": "raw",
   "id": "6dcf49ca-68f3-400b-ad1e-2ec384343fc3",
   "metadata": {},
   "source": [
    "Answer:"
   ]
  },
  {
   "cell_type": "markdown",
   "id": "0b3a30e9-6d0e-4832-b7f7-aeed24ae44ba",
   "metadata": {},
   "source": [
    "---\n",
    "## Exploring Modes of Operation\n",
    "\n",
    "Block ciphers encrypt the plaintext in fixed size blocks. The block size depends on the symmetric cipher chosen and a valid block size (in general the block size otions are limited by the cipher used). How successive blocks are encrypted depends on the \"Mode of Operation\". In this section we will explore different modes of operation."
   ]
  },
  {
   "cell_type": "markdown",
   "id": "9b7d128e-2fc3-4181-9965-40c3cef18d02",
   "metadata": {},
   "source": [
    "In the previous examples we used CBC - Cipher Block Chaining. In CBC, the output of one block is used as the IV for the next block. Next we'll look at ECB - Electronic Code Book, where blocks are encrypted independly (possibly in parallel) using the same key.  We'll use the openssl command with a KDF."
   ]
  },
  {
   "attachments": {
    "3f14ba9b-bd18-48c4-92a2-92b9673ba5cf.bmp": {
     "image/bmp": "[encoded data removed]"
    }
   },
   "cell_type": "markdown",
   "id": "32c58771-690c-4ceb-8537-25c91babb9b5",
   "metadata": {},
   "source": [
    "We'll be using this USD logo in our examples.\n",
    "\n",
    "![USD_logo.bmp](attachment:3f14ba9b-bd18-48c4-92a2-92b9673ba5cf.bmp)\n",
    "\n",
    "The first thing to do is encrypt it using AES-128-ECB."
   ]
  },
  {
   "cell_type": "code",
   "execution_count": null,
   "id": "5b206a6d-323f-4e7e-aa53-9b30b26926f8",
   "metadata": {},
   "outputs": [],
   "source": [
    "openssl aes-128-ecb -e -in ./images/USD_logo.bmp -out ./images/USD_logo.aes-ecb.bmp -nosalt -pbkdf2 -k secret\n",
    "ls -l ./images/USD_logo.aes-ecb.bmp "
   ]
  },
  {
   "cell_type": "markdown",
   "id": "211bdd44-0395-4d47-90c9-e0efc0eddc21",
   "metadata": {},
   "source": [
    "This graphic file is now encrypted, but so is the .bmp format header. To make it a viewable file, copy the header from a valid .bmp file."
   ]
  },
  {
   "cell_type": "code",
   "execution_count": null,
   "id": "9eb88d8a-45c1-467f-98bf-345f50bf4a4a",
   "metadata": {},
   "outputs": [],
   "source": [
    "dd  if=./images/USD_logo.bmp of=./images/USD_logo.aes-ecb.bmp bs=1 count=54 conv=notrunc"
   ]
  },
  {
   "cell_type": "markdown",
   "id": "10ed46f6-74f6-4f13-bd47-fa67c785fef0",
   "metadata": {},
   "source": [
    "Find the encrypted file and view using the image viewer. \n",
    "Copy and paste the file into a markdown cell, and run the cell to display the image."
   ]
  },
  {
   "cell_type": "markdown",
   "id": "d6f9ae77-2d08-4f63-8083-0e50f7722639",
   "metadata": {},
   "source": [
    "{paste image in this cell}"
   ]
  },
  {
   "cell_type": "markdown",
   "id": "4c35b61a-3cbc-405e-a622-de52f362c52d",
   "metadata": {},
   "source": [
    "Now repeat the above, but use aes-128-cbc as the cipher. Save the encrypted file to a different name (USD_logo.aes-cbc.bmp), and fix the header using dd like you did before. Paste that image into a markdown window to display it."
   ]
  },
  {
   "cell_type": "code",
   "execution_count": null,
   "id": "05d791a9-d50f-475e-bdf4-f2a2e5f78661",
   "metadata": {},
   "outputs": [],
   "source": [
    "openssl ...\n",
    "dd ..."
   ]
  },
  {
   "cell_type": "markdown",
   "id": "2694ee6f-fb9d-4464-aa35-76c866a160c3",
   "metadata": {
    "tags": []
   },
   "source": [
    "{paste image in this cell}"
   ]
  },
  {
   "cell_type": "markdown",
   "id": "2332488c-394c-4396-b8d1-9268de27e96f",
   "metadata": {},
   "source": [
    "<div style=\"background-color:rgba(225,135,0,.85); color:black; font-weight:bold; padding:6px;\">\n",
    "Explain the difference between the two and why."
   ]
  },
  {
   "cell_type": "raw",
   "id": "ccc5a51a-84e9-45cd-bb79-2be9bdde5ee9",
   "metadata": {},
   "source": [
    "Answer:"
   ]
  },
  {
   "cell_type": "markdown",
   "id": "d42b37be-84d7-4546-b1e2-13b9e9d1e7a0",
   "metadata": {},
   "source": [
    "Now repeat the process using the Blowfish cipher:\n",
    "\n",
    "`openssl enc -bf-ecb -in ./images/USD_logo.bmp -out ./images/USD_logo.bf-ecb.bmp -k foo -pbkdf2 -nosalt -provider legacy -provider default`\n",
    "\n",
    "`dd  if=./images/USD_logo.bmp of=./images/USD_logo.bf-ecb.bmp bs=1 count=54 conv=notrunc`\n"
   ]
  },
  {
   "cell_type": "code",
   "execution_count": null,
   "id": "1d8ba413-691b-40e6-8e44-2a48a53e7302",
   "metadata": {},
   "outputs": [],
   "source": []
  },
  {
   "cell_type": "markdown",
   "id": "b2f709d8-3f89-49f0-b146-70d3c8b4af7e",
   "metadata": {},
   "source": [
    "{paste image in this cell}"
   ]
  },
  {
   "cell_type": "markdown",
   "id": "016e39d5-64bb-47c4-a79f-62b58edae0a5",
   "metadata": {},
   "source": [
    "<div style=\"background-color:rgba(225,135,0,.85); color:black; font-weight:bold; padding:6px;\">\n",
    "Compare the image encrypted with AES to that of Blowfish. Notice that more information is leaked using Blowfish. Why is that?"
   ]
  },
  {
   "cell_type": "raw",
   "id": "603dd041-c959-41a5-89c5-012aada9e381",
   "metadata": {},
   "source": [
    "Answer:"
   ]
  },
  {
   "cell_type": "markdown",
   "id": "9a334b7f-f8d5-44b1-9170-4f0d5ad0e4d3",
   "metadata": {},
   "source": [
    "Now lets look at the file sizes generated using different modes of operation.\n",
    "\n",
    "Run the following cells then look at the resulting file sizes."
   ]
  },
  {
   "cell_type": "code",
   "execution_count": null,
   "id": "bb507a36-baf4-4199-9220-476ad07e8dbc",
   "metadata": {},
   "outputs": [],
   "source": [
    "openssl aes-128-ecb -e -in ./images/USD_logo.bmp -out ./images/USD_logo.x-ecb.bmp -pbkdf2 -k secret -nosalt"
   ]
  },
  {
   "cell_type": "code",
   "execution_count": null,
   "id": "7672d206-36bd-40a7-9720-7d68fa34f7d4",
   "metadata": {},
   "outputs": [],
   "source": [
    "openssl aes-128-cbc -e -in ./images/USD_logo.bmp -out ./images/USD_logo.x-cbc.bmp -pbkdf2 -k secret -nosalt"
   ]
  },
  {
   "cell_type": "code",
   "execution_count": null,
   "id": "43d4400e-febe-42a9-8803-498cd18df55e",
   "metadata": {},
   "outputs": [],
   "source": [
    "openssl aes-128-ofb -e -in ./images/USD_logo.bmp -out ./images/USD_logo.x-ofb.bmp -pbkdf2 -k secret -nosalt"
   ]
  },
  {
   "cell_type": "code",
   "execution_count": null,
   "id": "48771f08-fbae-4d2c-85bb-78ffd8903d66",
   "metadata": {},
   "outputs": [],
   "source": [
    "openssl aes-128-cfb -e -in ./images/USD_logo.bmp -out ./images/USD_logo.x-cfb.bmp -pbkdf2 -k secret -nosalt"
   ]
  },
  {
   "cell_type": "code",
   "execution_count": null,
   "id": "b84df876-9668-404c-8712-668716f8f74b",
   "metadata": {},
   "outputs": [],
   "source": [
    "openssl aes-128-ctr -e -in ./images/USD_logo.bmp -out ./images/USD_logo.x-ctr.bmp -pbkdf2 -k secret -nosalt"
   ]
  },
  {
   "cell_type": "code",
   "execution_count": null,
   "id": "fbd181bb-ddde-4d81-8f10-83b8fd1fc2e7",
   "metadata": {},
   "outputs": [],
   "source": [
    "ll -Sr ./images/USD_logo.bmp ./images/USD_logo.x-*"
   ]
  },
  {
   "cell_type": "markdown",
   "id": "07f94f23-a1a5-4759-bbc2-07db7d886a6c",
   "metadata": {},
   "source": [
    "Notice that the size of the files encrypted in OFB, CFB, and CTR mode are the same size as the original file, while those that used ECB and CBC are larger.\n",
    "\n",
    "<div style=\"background-color:rgba(225,135,0,.85); color:black; font-weight:bold; padding:6px;\">\n",
    "Why is that?</div>"
   ]
  },
  {
   "attachments": {
    "5d13c020-5a20-4221-b9de-1771bf0c40bf.png": {
     "image/png": "[encoded data removed]"
    }
   },
   "cell_type": "raw",
   "id": "6f3e0a40-a7c6-4c33-9d3c-745b97abe949",
   "metadata": {},
   "source": [
    "Answer:"
   ]
  },
  {
   "cell_type": "markdown",
   "id": "77ebf8e0-7e91-42e4-8251-b4e1a14c987f",
   "metadata": {},
   "source": [
    "---\n",
    "## Error Propogation\n",
    "\n",
    "Next we'll look at how a single bit error in the encrypted data can effect the decrypted output, and compare this over different modes of operation.\n",
    "\n",
    "The procedure will be to encrypt a test file using a particular mode of operation, then corrupt the ciphertext by changing 1 bit in the encrypted output, and save this to a different file), then decrypt the original and corrupted ciphertext files, then compare the two to see what happened.\n",
    "\n",
    "Let's start with ECB.\n"
   ]
  },
  {
   "cell_type": "code",
   "execution_count": null,
   "id": "fbd26de1-c7f9-44ce-9a5f-93654a534b02",
   "metadata": {
    "tags": []
   },
   "outputs": [],
   "source": [
    "openssl aes-128-ecb -e -in ./message.txt -out ./message.ecb -pbkdf2 -k foo"
   ]
  },
  {
   "cell_type": "markdown",
   "id": "f44d3a9e-9f83-409b-b48d-254564da5148",
   "metadata": {},
   "source": [
    "Running \"ghex\" will pop up a window where you can edit the bits in your files. We want to change a single bit. Do so in the low-order bit of the 3rd byte of the 3rd row; click on it, then enter th new value. (each pair of hex values is a byte).\n",
    "\n",
    "If the low-order bit is even (last bit is zero), add 1; if it is odd (last bit is one), subtract 1. That will ensure you only change one bit. If you are not sure, look for where the bytes value is shown in binary.\n",
    "\n",
    "After, save the altered file AS under a new name. Use the original file with a \".x\" appended, e.g., \"message.ecb\" as \"message.ecb.x\""
   ]
  },
  {
   "cell_type": "code",
   "execution_count": null,
   "id": "c6f2230f-6336-4fb9-8ef0-0606709b10f4",
   "metadata": {},
   "outputs": [],
   "source": [
    "ghex ./message.ecb"
   ]
  },
  {
   "cell_type": "markdown",
   "id": "e039b3c7-10a8-40aa-bcb8-488e81649afc",
   "metadata": {},
   "source": [
    "Now decrypt the original ciphertext and the version you altered."
   ]
  },
  {
   "cell_type": "code",
   "execution_count": null,
   "id": "d5fa3720-5e74-42fc-87ef-1cfda5f6d024",
   "metadata": {},
   "outputs": [],
   "source": [
    "openssl aes-128-ecb -d -in ./message.ecb -out ./message.ecb.dcr -pbkdf2 -k foo"
   ]
  },
  {
   "cell_type": "code",
   "execution_count": null,
   "id": "a0768b41-a724-4198-8d27-049a14a065fd",
   "metadata": {},
   "outputs": [],
   "source": [
    "openssl aes-128-ecb -d -in ./message.ecb.x -out ./message.ecb.x.dcr -pbkdf2 -k foo"
   ]
  },
  {
   "cell_type": "code",
   "execution_count": null,
   "id": "1c858a18-6b87-485c-8936-b77b66f355e4",
   "metadata": {},
   "outputs": [],
   "source": [
    "diff -a message.ecb.dcr message.ecb.x.dcr\n"
   ]
  },
  {
   "cell_type": "markdown",
   "id": "5d85a445-d2a5-464d-934a-751f5097d055",
   "metadata": {},
   "source": [
    "Notice the exactly 16 bytes were corrupted. That's because ECB decrypts blocks independently.\n",
    "\n",
    "Now do the same using CBC mode."
   ]
  },
  {
   "cell_type": "code",
   "execution_count": null,
   "id": "1324c638-57e8-4404-9f49-a35cd5b4b5eb",
   "metadata": {
    "tags": []
   },
   "outputs": [],
   "source": [
    "openssl aes-128-cbc -e -in ./message.txt -out ./message.cbc -pbkdf2 -k foo"
   ]
  },
  {
   "cell_type": "code",
   "execution_count": null,
   "id": "55f89635-505a-41c2-83dc-1e81cd1cf924",
   "metadata": {},
   "outputs": [],
   "source": [
    "ghex ./message.cbc"
   ]
  },
  {
   "cell_type": "code",
   "execution_count": null,
   "id": "5a9cd4bc-e4fe-4496-a231-9320ace53b4f",
   "metadata": {},
   "outputs": [],
   "source": [
    "openssl aes-128-cbc -d -in ./message.cbc -out ./message.cbc.dcr -pbkdf2 -k foo"
   ]
  },
  {
   "cell_type": "code",
   "execution_count": null,
   "id": "a196a302-0978-446e-a650-99105baca814",
   "metadata": {},
   "outputs": [],
   "source": [
    "openssl aes-128-cbc -d -in ./message.cbc.x -out ./message.cbc.x.dcr -pbkdf2 -k foo"
   ]
  },
  {
   "cell_type": "code",
   "execution_count": null,
   "id": "14c7ce80-804d-442f-84f1-0114fe15116c",
   "metadata": {},
   "outputs": [],
   "source": [
    "diff -a message.cbc.dcr message.cbc.x.dcr\n"
   ]
  },
  {
   "cell_type": "markdown",
   "id": "380e2589-9490-4c97-9a71-6aaff2b8827f",
   "metadata": {
    "tags": []
   },
   "source": [
    "Now notice that 16 bytes were again changed, but look close. Can you find anther byte that changed? \n",
    "\n",
    "That happens because with CBC mode, the decryption of a block depends on its ciphertext plus that of the prior block.\n",
    "\n",
    "Now let's try using OFB. Use the same sequence as before, but substitute 'ofb' ofr 'cbc'."
   ]
  },
  {
   "cell_type": "code",
   "execution_count": null,
   "id": "9a8035a4-f236-4ce1-9e79-5969d4610d55",
   "metadata": {
    "tags": []
   },
   "outputs": [],
   "source": []
  },
  {
   "cell_type": "markdown",
   "id": "615fdd75-6e2c-48c9-99ea-ba09cbfdf7e8",
   "metadata": {
    "tags": []
   },
   "source": [
    "<div style=\"background-color:rgba(225,135,0,.85); color:black; font-weight:bold; padding:6px;\">\n",
    "One bit was changed in the ciphertext. What changed in the decrypted text? Explain why.</div>"
   ]
  },
  {
   "cell_type": "raw",
   "id": "16ff0801-687e-40f3-88ff-9b83f98a3e56",
   "metadata": {},
   "source": [
    "Answer:"
   ]
  },
  {
   "cell_type": "markdown",
   "id": "da31ee33-2391-4a77-9d08-f42a1fe1b5df",
   "metadata": {},
   "source": [
    "Try again but with CFB mode."
   ]
  },
  {
   "cell_type": "code",
   "execution_count": null,
   "id": "75c282d7-4f40-4110-ae2e-2ee514cc246f",
   "metadata": {
    "tags": []
   },
   "outputs": [],
   "source": []
  },
  {
   "cell_type": "markdown",
   "id": "c1eb2279-99d3-4ded-916d-721c67f5c36c",
   "metadata": {
    "tags": []
   },
   "source": [
    "<div style=\"background-color:rgba(225,135,0,.85); color:black; font-weight:bold; padding:6px;\">\n",
    "One bit was changed in the ciphertext. What changed in the decrypted text? Explain why.</div>"
   ]
  },
  {
   "cell_type": "raw",
   "id": "f6f34826-32c3-4418-8693-512a3fbdb883",
   "metadata": {
    "tags": []
   },
   "source": [
    "Answer:"
   ]
  },
  {
   "cell_type": "markdown",
   "id": "7ef05f67-d5fb-44a1-b820-995f41881116",
   "metadata": {},
   "source": [
    "Try again but with CTR mode."
   ]
  },
  {
   "cell_type": "code",
   "execution_count": null,
   "id": "bd6bc1ea-c777-42ef-9cbc-ba7a9050e259",
   "metadata": {
    "tags": []
   },
   "outputs": [],
   "source": []
  },
  {
   "cell_type": "markdown",
   "id": "e8fdf56d-cfb2-46ed-b913-218cd217ca96",
   "metadata": {
    "tags": []
   },
   "source": [
    "<div style=\"background-color:rgba(225,135,0,.85); color:black; font-weight:bold; padding:6px;\">\n",
    "One bit was changed in the ciphertext. What changed in the decrypted text? Explain why.</div>"
   ]
  },
  {
   "cell_type": "raw",
   "id": "57df10e4-9f4c-4ef5-b5e3-178fec12a53c",
   "metadata": {
    "tags": []
   },
   "source": [
    "Answer:"
   ]
  },
  {
   "cell_type": "markdown",
   "id": "5d550bc2-9f1a-4a9d-8d8f-c6174dbaa5cf",
   "metadata": {},
   "source": [
    "---\n",
    "### This concludes the lab.\n",
    "\n",
    "Use File > Save and Export Notebook as... > PDF"
   ]
  },
  {
   "cell_type": "raw",
   "id": "0deefa7c-6352-485b-bdb0-e75f476c6316",
   "metadata": {},
   "source": [
    "Comments?"
   ]
  }
 ],
 "metadata": {
  "kernelspec": {
   "display_name": "Python 3 (ipykernel)",
   "language": "python",
   "name": "python3"
  },
  "language_info": {
   "codemirror_mode": {
    "name": "ipython",
    "version": 3
   },
   "file_extension": ".py",
   "mimetype": "text/x-python",
   "name": "python",
   "nbconvert_exporter": "python",
   "pygments_lexer": "ipython3",
   "version": "3.10.6"
  }
 },
 "nbformat": 4,
 "nbformat_minor": 5
}
