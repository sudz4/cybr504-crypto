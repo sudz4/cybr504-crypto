{
 "cells": [
  {
   "cell_type": "markdown",
   "id": "fb726e2a-3770-4fb9-b153-b69a7c882bba",
   "metadata": {},
   "source": [
    "# MODULE 2.3 - Protocols\n",
    "\n",
    "## Overview\n",
    "Protocols define the sequence of events between parties and the rules that are to be followed for the purpose of accomplishing some set of goals. Protocols can range from incredibly complex to incredibly simple. The key to evaluating protocols is do they meet their stated goals. A protocol to provide integrity may not provide confidentiality, which may be ok, if confidentiality is not important. When designing or selecting protocols it’s crucial to be aware of your assumptions and to identify the protocol's goals correctly and completely.\n",
    "\n",
    "\n",
    "\n",
    "--------------------------------------------------------------\n",
    "\n",
    "## A Simple Protocol\n",
    "\n",
    "Consider this simple protocol.\n",
    "\n",
    "Trustworthy Trent operates a timestamping service that provides proof of when a document was created. For example, suppose Alice has a document with supporting evidence for her patent application. Alice wants her document timestamped to prove when her designs existed. \n",
    "1. Alice transmits a copy of the document to Trent\n",
    "1. Trent records the date and time he received the document and stores that along with a copy of the document for reference.\n",
    "If anyone questions when the document was created, they could contact Trent who could verify the timestamp and that the document presented matches the document stored.\n",
    "\n",
    "What are some security or operational concerns with this protocol?"
   ]
  },
  {
   "cell_type": "markdown",
   "id": "e974538f-c19d-48e8-89f1-09ac32b7c1f0",
   "metadata": {},
   "source": [
    "Confidentiality of the document - The protocol does not address the confidentiality of the document being time stamped.\n",
    "Integrity of the document - The protocol does not address any measures to ensure the integrity of the document being timestamped. If the document is modified or tampered with after it were timestamped, the timestamp would no longer tbe valid."
   ]
  },
  {
   "cell_type": "markdown",
   "id": "9035d4ef-0dd7-4bb7-afc3-7bd86f99d1d1",
   "metadata": {
    "tags": []
   },
   "source": [
    "Some concerns could include:\n",
    "* No privacy.\n",
    "* Database of documents would be huge.\n",
    "* No integrity checking of what was timestamped.\n",
    "* Loss of Trent’s database would invalidate all timestamps.\n",
    "* It could be used by persons’ not as trustworthy as Trent.\n"
   ]
  },
  {
   "cell_type": "markdown",
   "id": "1506cc00-dd11-4c11-9611-802df16b1387",
   "metadata": {},
   "source": [
    "What are some strengths?"
   ]
  },
  {
   "cell_type": "markdown",
   "id": "12941241-8bc9-45f2-be7c-00a314dd1e29",
   "metadata": {
    "tags": []
   },
   "source": [
    "Simplicity - Simple and straight forward protocol, which is easy and low cost to implement. \n",
    "Non-repudiation - The protocol provides non-repudiation because the timestamp of the document cannot be denied or repudiated by the sender of the receiver. This is because Trent is the trusted third party and can be verified independently."
   ]
  },
  {
   "cell_type": "markdown",
   "id": "72d20426-9b30-4e79-93d7-9eff4606a1dd",
   "metadata": {
    "tags": []
   },
   "source": [
    "No keys needed to be exchanged."
   ]
  },
  {
   "cell_type": "markdown",
   "id": "ca183421-e2a9-420b-9462-a301f3d09873",
   "metadata": {
    "tags": []
   },
   "source": [
    "What could be some attacks on this protocol that would invalidate the service?"
   ]
  },
  {
   "cell_type": "markdown",
   "id": "eb04b40e-1cc3-46c3-93fa-97405069c94e",
   "metadata": {},
   "source": [
    "Timestamp tampering - An attacker could intercept the document and modify the timestamp.\n",
    "Man-in-the-middle attack -  An attacker could intercept communication and impersonate.\n",
    "Document substition - Intercepting and changing out the document.\n",
    "Denial-of-service attack - A DoS attack could render Trent's timestamping business unavailable, preventing Alice from getting her document timestamped."
   ]
  },
  {
   "cell_type": "markdown",
   "id": "d7b122cc-87b4-410b-951a-e5edc44cadc2",
   "metadata": {
    "tags": []
   },
   "source": [
    "* Hack the clock\n",
    "* Hack Trent’s database\n",
    "* Destroy Trent’s database"
   ]
  },
  {
   "cell_type": "markdown",
   "id": "45abb93a-3794-4bd9-a06b-207a9be8f1df",
   "metadata": {},
   "source": [
    "How could this protocol be improved? State any particular goals or assumptions."
   ]
  },
  {
   "cell_type": "markdown",
   "id": "ae107055-79de-4745-96d8-f2345b8c63c1",
   "metadata": {},
   "source": [
    "Use a digital signature, transfer file over an encryted channel, hash the files in the database (to ensure integrity)."
   ]
  },
  {
   "cell_type": "markdown",
   "id": "da80f65c-3df9-4045-bc33-6ce19ba0ff8d",
   "metadata": {
    "deletable": false,
    "editable": false,
    "selectable": false,
    "tags": []
   },
   "source": [
    "If instead of sending her document to Trent, Alice sends the hash of her document to timestamp, in what ways does this improve the protocol?"
   ]
  },
  {
   "cell_type": "markdown",
   "id": "55efd401-f4f4-4a4f-91ac-553c39e3f33c",
   "metadata": {},
   "source": [
    "Ensure the integrity of the file while in transit / in storage & prevents attackers from breaching confidentiality. "
   ]
  },
  {
   "cell_type": "markdown",
   "id": "11a3fc65-4a23-4457-ae62-8f30ac1b90fc",
   "metadata": {},
   "source": [
    "What problems remain?"
   ]
  },
  {
   "cell_type": "markdown",
   "id": "eb1f5776-32ce-41a3-92bd-6871cc447378",
   "metadata": {},
   "source": [
    "Communication channels need to be encrpyted."
   ]
  },
  {
   "cell_type": "markdown",
   "id": "ee88a002-f64b-49e4-8632-b6a90a793001",
   "metadata": {},
   "source": [
    "----------------------------------------------------------------------------"
   ]
  },
  {
   "cell_type": "markdown",
   "id": "6d854056-4e15-40e6-a821-aad04b34612f",
   "metadata": {
    "tags": []
   },
   "source": [
    "## Message Exchange\n",
    "\n",
    "Alice uses the following protocol to send a document to Bob. \n",
    "\n",
    "1. Alice and Bob exchange public keys\n",
    "1. Alice and Bob agree on a protocol for message exchange\n",
    "1. With $M$ being Alice's document, Alice generates $ C = S_{A}(T||H(M) || E_{B}(M) ) $ and sends $ C $ to Bob.\n",
    "\n",
    "What steps would Bob take to recover and validate Alice's document?"
   ]
  },
  {
   "cell_type": "markdown",
   "id": "42cdd91c-9812-458b-9c41-38c811a4f8b0",
   "metadata": {},
   "source": [
    "Bob verifies the message using Alices's PK.\n",
    "Bob separates the message into a timestamp, message digest, and the encrypted message.\n",
    "Bob decrypts the message.\n",
    "Bob generates the digest and compares it will Alices'."
   ]
  },
  {
   "cell_type": "markdown",
   "id": "81b4b8ff-72c5-43e3-b5a4-6f1574d9a53e",
   "metadata": {
    "tags": []
   },
   "source": [
    "1. _Bob Verifies the message using Alice's Public Key_\n",
    "1. _Bob separates the message into, a timestamp $ T,$ a message digest $ H(M) $ and the encrypted message, $ E_{B}(M) $_\n",
    "1. _Bob decrypts the message $ D_{B}(E_{A}(M)) = M $_\n",
    "1. _Bob generates the digest of $ M' = H(M) $_\n",
    "1. _Bob compares $ M' $ and $ M $ and if the same, he knows he has the message came from Alice and it was as she sent it._\n",
    "\n"
   ]
  },
  {
   "cell_type": "markdown",
   "id": "cd606ed8-e6eb-4f45-acc2-d2b60c94fb7e",
   "metadata": {},
   "source": [
    "Why is Bob sure it came from Alice? What assumptions are you making?"
   ]
  },
  {
   "cell_type": "markdown",
   "id": "28905914-9f99-4d70-af95-eff22d03bf6f",
   "metadata": {},
   "source": [
    "It was signed with Alice's private key (PK) that only she would know."
   ]
  },
  {
   "cell_type": "markdown",
   "id": "bf9d18b1-742b-4763-8fdb-5ab7bf6710cd",
   "metadata": {
    "tags": []
   },
   "source": [
    "_It was signed with Alice's private key. We assume that only Alice has access to that key._"
   ]
  },
  {
   "cell_type": "markdown",
   "id": "0f2568de-5b99-461f-95b8-cffdb29c1c44",
   "metadata": {},
   "source": [
    "Why is Bob sure the document received is the document Alice sent?"
   ]
  },
  {
   "cell_type": "markdown",
   "id": "3e7c522c-399c-4d8f-a5f4-4edbd5216994",
   "metadata": {},
   "source": [
    "The hash of her unencrpyte document is included in the message. And the message matches the hash of the decrypted document."
   ]
  },
  {
   "cell_type": "markdown",
   "id": "a440d9e3-c9e0-4412-9623-910b21e3dad8",
   "metadata": {
    "tags": []
   },
   "source": [
    "_The hash of her unencrypted document included in the message matches the hash of the decrypted document._"
   ]
  },
  {
   "cell_type": "markdown",
   "id": "946e127b-33c9-4c9d-b933-ee6d7b6d8710",
   "metadata": {},
   "source": [
    "In practice documents would not be sent being encrypted using asymmetric encryption. What would be done instead, and why?"
   ]
  },
  {
   "cell_type": "markdown",
   "id": "ec7607d6-0902-4ac7-be49-e7d3ce9ca775",
   "metadata": {
    "tags": []
   },
   "source": [
    "_Because asymmetric encryption is slow, Alice would generate and send a session key to be used with symmetric encryption. The document would be encrypted with that key and the encrypted document sent to Bob._"
   ]
  },
  {
   "cell_type": "markdown",
   "id": "51da6180-9b3c-4b5e-a55c-7a44bee7c7b9",
   "metadata": {},
   "source": [
    "Asymetric encrpytion is a lot slower. Hybrid cryptography encryption would be more efficient (using asymetric encrpytion with symetric encrpytion)."
   ]
  },
  {
   "cell_type": "markdown",
   "id": "b9854a77-0f1f-4856-b825-b234092430e0",
   "metadata": {},
   "source": [
    "## Alice's Robots\n",
    "\n",
    "Alice is broadcasting encrypted messages to her team of 16 robots. The messages include the robot's ID number (0-15), and a command move forward, move back, move right, move left, turn right, turn left, pick up, or put down). The message format is M = [ ID || Command ].\n",
    "\n",
    "Alice encrypts the messages using the shared public key for the robot team.\n",
    "\n",
    "Bob wants to know what Alice is sending to her robots. And its pretty simple.\n",
    "\n",
    "How can he do this?"
   ]
  },
  {
   "cell_type": "markdown",
   "id": "50800bab-12f0-4cfc-a352-3cd48a8e3289",
   "metadata": {},
   "source": [
    "Hint: using the above method, how many possible different messages will Alice send?"
   ]
  },
  {
   "cell_type": "markdown",
   "id": "66598e2c-1967-439a-8f8c-a733aca3ad2e",
   "metadata": {},
   "source": [
    "There are 128 possible messages.\n",
    "It would not prevent Bob from keeping track of the messages and associating them with what the robots are doing."
   ]
  },
  {
   "cell_type": "markdown",
   "id": "5a622451-eb20-4915-83da-f55188f2c1d4",
   "metadata": {},
   "source": [
    "If instead of sending M, would sending H(M) prevent Bob from knowing what she was sending."
   ]
  },
  {
   "cell_type": "markdown",
   "id": "4c9b2d25-b4e7-4890-af8c-ac286e673577",
   "metadata": {},
   "source": [
    "No, because there would still be 128 possible messages, just will look different."
   ]
  },
  {
   "cell_type": "markdown",
   "id": "f0e08d79-b97b-4735-9a56-653c67d517c3",
   "metadata": {},
   "source": [
    "How would (or would not) Alice signing the message, either S(A,M) or S(A,H(M)), improve security?"
   ]
  },
  {
   "cell_type": "markdown",
   "id": "9d25e8bf-968c-4d88-9585-3fb294d4c125",
   "metadata": {},
   "source": [
    "It would not change anything because there would still only be 128 different possible messages."
   ]
  },
  {
   "cell_type": "markdown",
   "id": "8e80d670-9911-42fe-a980-87d5a29e49c4",
   "metadata": {},
   "source": [
    "What simple change would you make to M to make this communication secure?"
   ]
  },
  {
   "cell_type": "markdown",
   "id": "36a29602-7cc3-4e5e-b0ce-29f53d2196c2",
   "metadata": {},
   "source": [
    "Alice could salt the hashes to make the robot communication more secure."
   ]
  },
  {
   "cell_type": "markdown",
   "id": "20fd19c7-5f26-433e-ba2e-896b16b3e7fb",
   "metadata": {},
   "source": [
    "Describe your solution using standard notation."
   ]
  },
  {
   "cell_type": "markdown",
   "id": "7a28e961-e764-43ea-af7b-699dc5dc6667",
   "metadata": {},
   "source": [
    "EA(M,H(salt,M))"
   ]
  }
 ],
 "metadata": {
  "kernelspec": {
   "display_name": "Python 3 (ipykernel)",
   "language": "python",
   "name": "python3"
  },
  "language_info": {
   "codemirror_mode": {
    "name": "ipython",
    "version": 3
   },
   "file_extension": ".py",
   "mimetype": "text/x-python",
   "name": "python",
   "nbconvert_exporter": "python",
   "pygments_lexer": "ipython3",
   "version": "3.10.6"
  }
 },
 "nbformat": 4,
 "nbformat_minor": 5
}
